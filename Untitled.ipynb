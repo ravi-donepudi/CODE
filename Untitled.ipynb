{
 "cells": [
  {
   "cell_type": "code",
   "execution_count": 1,
   "metadata": {},
   "outputs": [],
   "source": [
    "s=\"01234567\""
   ]
  },
  {
   "cell_type": "code",
   "execution_count": 24,
   "metadata": {},
   "outputs": [],
   "source": []
  },
  {
   "cell_type": "code",
   "execution_count": 26,
   "metadata": {},
   "outputs": [
    {
     "data": {
      "text/plain": [
       "'076543210'"
      ]
     },
     "execution_count": 26,
     "metadata": {},
     "output_type": "execute_result"
    }
   ],
   "source": [
    "reverse(s)"
   ]
  },
  {
   "cell_type": "code",
   "execution_count": 14,
   "metadata": {},
   "outputs": [
    {
     "data": {
      "text/plain": [
       "9"
      ]
     },
     "execution_count": 14,
     "metadata": {},
     "output_type": "execute_result"
    }
   ],
   "source": [
    "len(s)"
   ]
  },
  {
   "cell_type": "code",
   "execution_count": 50,
   "metadata": {},
   "outputs": [
    {
     "data": {
      "text/plain": [
       "'cbaabcedccdehgffghji'"
      ]
     },
     "execution_count": 50,
     "metadata": {},
     "output_type": "execute_result"
    }
   ],
   "source": [
    "class Solution:\n",
    "    def reverseStr(self, s: str, k: int) -> str:\n",
    "        n=len(s)\n",
    "        final_string=''\n",
    "        if n<2*k:\n",
    "            return reverse(s)        \n",
    "        else:\n",
    "            return reversefirsthalf(s[0:2*k],k)+reverseStr(s[2*k:n],k)\n",
    "\n",
    "\n",
    "    def reverse(self,s):\n",
    "        new_string=''\n",
    "        for i in range(len(s)):\n",
    "            new_string+=s[len(s)-i-1]\n",
    "        return new_string\n",
    "\n",
    "    def reversefirsthalf(self, s, k):\n",
    "        s_1=s[0:k]\n",
    "        s_2=s[k:2*k]\n",
    "        return reverse(s_1)+s_2  \n",
    "\n",
    "\n",
    "\n",
    "\n"
   ]
  },
  {
   "cell_type": "code",
   "execution_count": 53,
   "metadata": {},
   "outputs": [
    {
     "data": {
      "text/plain": [
       "'cbaabcedccdehgffghmlkji'"
      ]
     },
     "execution_count": 53,
     "metadata": {},
     "output_type": "execute_result"
    }
   ],
   "source": [
    "reverseStr('abcabccdecdefghfghijklm', 3)\n",
    "\n"
   ]
  },
  {
   "cell_type": "code",
   "execution_count": 54,
   "metadata": {},
   "outputs": [
    {
     "data": {
      "text/plain": [
       "[9, 9, 9, 9, 9, 9, 9, 9, 9, 9]"
      ]
     },
     "execution_count": 54,
     "metadata": {},
     "output_type": "execute_result"
    }
   ],
   "source": [
    "[9]*10"
   ]
  },
  {
   "cell_type": "code",
   "execution_count": 63,
   "metadata": {},
   "outputs": [
    {
     "data": {
      "text/plain": [
       "[{1, 2}, {2, 3}, {1, 3}, {1, 6}]"
      ]
     },
     "execution_count": 63,
     "metadata": {},
     "output_type": "execute_result"
    }
   ],
   "source": [
    "lst2"
   ]
  },
  {
   "cell_type": "code",
   "execution_count": 56,
   "metadata": {},
   "outputs": [],
   "source": [
    "sample={}\n",
    "for edge in lst2:\n",
    "    if \n"
   ]
  },
  {
   "cell_type": "code",
   "execution_count": 59,
   "metadata": {},
   "outputs": [
    {
     "data": {
      "text/plain": [
       "set"
      ]
     },
     "execution_count": 59,
     "metadata": {},
     "output_type": "execute_result"
    }
   ],
   "source": [
    "type(lst2[1])"
   ]
  },
  {
   "cell_type": "code",
   "execution_count": 62,
   "metadata": {},
   "outputs": [
    {
     "name": "stdout",
     "output_type": "stream",
     "text": [
      "2\n",
      "3\n"
     ]
    }
   ],
   "source": [
    "for i in lst2[1]:\n",
    "    print(i)"
   ]
  },
  {
   "cell_type": "code",
   "execution_count": 65,
   "metadata": {},
   "outputs": [],
   "source": [
    "testy=[1,2,3,4,5]"
   ]
  },
  {
   "cell_type": "code",
   "execution_count": 66,
   "metadata": {},
   "outputs": [
    {
     "data": {
      "text/plain": [
       "[1, 2, 3]"
      ]
     },
     "execution_count": 66,
     "metadata": {},
     "output_type": "execute_result"
    }
   ],
   "source": [
    "[i for i in testy if i<4 ]"
   ]
  },
  {
   "cell_type": "code",
   "execution_count": 67,
   "metadata": {},
   "outputs": [],
   "source": [
    "set3 =set()"
   ]
  },
  {
   "cell_type": "code",
   "execution_count": 70,
   "metadata": {},
   "outputs": [],
   "source": [
    "set3.add(1)"
   ]
  },
  {
   "cell_type": "code",
   "execution_count": 71,
   "metadata": {},
   "outputs": [
    {
     "data": {
      "text/plain": [
       "{1}"
      ]
     },
     "execution_count": 71,
     "metadata": {},
     "output_type": "execute_result"
    }
   ],
   "source": [
    "set3"
   ]
  },
  {
   "cell_type": "code",
   "execution_count": 72,
   "metadata": {},
   "outputs": [],
   "source": [
    "set3.add(1)"
   ]
  },
  {
   "cell_type": "code",
   "execution_count": 73,
   "metadata": {},
   "outputs": [
    {
     "data": {
      "text/plain": [
       "{1}"
      ]
     },
     "execution_count": 73,
     "metadata": {},
     "output_type": "execute_result"
    }
   ],
   "source": [
    "set3"
   ]
  },
  {
   "cell_type": "code",
   "execution_count": 76,
   "metadata": {},
   "outputs": [],
   "source": [
    "critical_connections=set({})\n"
   ]
  },
  {
   "cell_type": "code",
   "execution_count": 77,
   "metadata": {},
   "outputs": [
    {
     "data": {
      "text/plain": [
       "set"
      ]
     },
     "execution_count": 77,
     "metadata": {},
     "output_type": "execute_result"
    }
   ],
   "source": [
    "type(critical_connections)"
   ]
  },
  {
   "cell_type": "code",
   "execution_count": 79,
   "metadata": {},
   "outputs": [],
   "source": [
    "def criticalConnections(n, connections):\n",
    "    unordered_edges =[]\n",
    "    for edge in connections:\n",
    "        unordered_edges.append({edge[0],edge[1]})\n",
    "    node_count=[0]*n\n",
    "\n",
    "    for edge in unordered_edges:\n",
    "        for v in edge:\n",
    "            node_count[v]+=1\n",
    "\n",
    "    critical_connections=set({})\n",
    "\n",
    "    at_risk_nodes = set([v for v in node_count if node_count[v]<2])\n",
    "    for edge in unordered_edges:\n",
    "        for v in edge:\n",
    "            if v in at_risk_nodes:\n",
    "                critical_connections.add(edge)\n",
    "    return list(critical_connections)\n",
    "                    \n",
    "            \n",
    "        \n",
    "#find the edges such that if they are removed the graph is disconnected\n",
    "#Obviously belong to degree(1) nodes.\n",
    "#Scan through and find the vertices which only appear once. return those.\n",
    "\n",
    "\n",
    "\n"
   ]
  },
  {
   "cell_type": "code",
   "execution_count": 81,
   "metadata": {},
   "outputs": [
    {
     "ename": "TypeError",
     "evalue": "unhashable type: 'set'",
     "output_type": "error",
     "traceback": [
      "\u001b[0;31m---------------------------------------------------------------------------\u001b[0m",
      "\u001b[0;31mTypeError\u001b[0m                                 Traceback (most recent call last)",
      "\u001b[0;32m<ipython-input-81-c3a0ddc2db31>\u001b[0m in \u001b[0;36m<module>\u001b[0;34m\u001b[0m\n\u001b[0;32m----> 1\u001b[0;31m \u001b[0mcriticalConnections\u001b[0m\u001b[0;34m(\u001b[0m\u001b[0;36m4\u001b[0m\u001b[0;34m,\u001b[0m\u001b[0;34m[\u001b[0m\u001b[0;34m[\u001b[0m\u001b[0;36m0\u001b[0m\u001b[0;34m,\u001b[0m\u001b[0;36m1\u001b[0m\u001b[0;34m]\u001b[0m\u001b[0;34m,\u001b[0m\u001b[0;34m[\u001b[0m\u001b[0;36m1\u001b[0m\u001b[0;34m,\u001b[0m\u001b[0;36m2\u001b[0m\u001b[0;34m]\u001b[0m\u001b[0;34m,\u001b[0m\u001b[0;34m[\u001b[0m\u001b[0;36m2\u001b[0m\u001b[0;34m,\u001b[0m\u001b[0;36m0\u001b[0m\u001b[0;34m]\u001b[0m\u001b[0;34m,\u001b[0m\u001b[0;34m[\u001b[0m\u001b[0;36m1\u001b[0m\u001b[0;34m,\u001b[0m\u001b[0;36m3\u001b[0m\u001b[0;34m]\u001b[0m\u001b[0;34m]\u001b[0m\u001b[0;34m)\u001b[0m\u001b[0;34m\u001b[0m\u001b[0;34m\u001b[0m\u001b[0m\n\u001b[0m",
      "\u001b[0;32m<ipython-input-79-9b9dc7902c3d>\u001b[0m in \u001b[0;36mcriticalConnections\u001b[0;34m(n, connections)\u001b[0m\n\u001b[1;32m     15\u001b[0m         \u001b[0;32mfor\u001b[0m \u001b[0mv\u001b[0m \u001b[0;32min\u001b[0m \u001b[0medge\u001b[0m\u001b[0;34m:\u001b[0m\u001b[0;34m\u001b[0m\u001b[0;34m\u001b[0m\u001b[0m\n\u001b[1;32m     16\u001b[0m             \u001b[0;32mif\u001b[0m \u001b[0mv\u001b[0m \u001b[0;32min\u001b[0m \u001b[0mat_risk_nodes\u001b[0m\u001b[0;34m:\u001b[0m\u001b[0;34m\u001b[0m\u001b[0;34m\u001b[0m\u001b[0m\n\u001b[0;32m---> 17\u001b[0;31m                 \u001b[0mcritical_connections\u001b[0m\u001b[0;34m.\u001b[0m\u001b[0madd\u001b[0m\u001b[0;34m(\u001b[0m\u001b[0medge\u001b[0m\u001b[0;34m)\u001b[0m\u001b[0;34m\u001b[0m\u001b[0;34m\u001b[0m\u001b[0m\n\u001b[0m\u001b[1;32m     18\u001b[0m     \u001b[0;32mreturn\u001b[0m \u001b[0mlist\u001b[0m\u001b[0;34m(\u001b[0m\u001b[0mcritical_connections\u001b[0m\u001b[0;34m)\u001b[0m\u001b[0;34m\u001b[0m\u001b[0;34m\u001b[0m\u001b[0m\n\u001b[1;32m     19\u001b[0m \u001b[0;34m\u001b[0m\u001b[0m\n",
      "\u001b[0;31mTypeError\u001b[0m: unhashable type: 'set'"
     ]
    }
   ],
   "source": [
    "criticalConnections(4,[[0,1],[1,2],[2,0],[1,3]])"
   ]
  },
  {
   "cell_type": "code",
   "execution_count": null,
   "metadata": {},
   "outputs": [],
   "source": [
    "#implement DFS given vertices [n] and edges E"
   ]
  },
  {
   "cell_type": "code",
   "execution_count": 105,
   "metadata": {},
   "outputs": [
    {
     "ename": "SyntaxError",
     "evalue": "unexpected EOF while parsing (<ipython-input-105-8a437d660489>, line 19)",
     "output_type": "error",
     "traceback": [
      "\u001b[0;36m  File \u001b[0;32m\"<ipython-input-105-8a437d660489>\"\u001b[0;36m, line \u001b[0;32m19\u001b[0m\n\u001b[0;31m    \u001b[0m\n\u001b[0m    ^\u001b[0m\n\u001b[0;31mSyntaxError\u001b[0m\u001b[0;31m:\u001b[0m unexpected EOF while parsing\n"
     ]
    }
   ],
   "source": [
    "#converts a set of edges into an adjacency list dictionary\n",
    "\n",
    "def edges_to_AdjList(n,E):\n",
    "    vertices = {}\n",
    "    for v in range(n):\n",
    "        vertices[v]=[]\n",
    "    for e in E:\n",
    "        vertices[e[0]].append(e[1])\n",
    "        vertices[e[1]].append(e[0])\n",
    "    return vertices\n",
    "\n",
    "#needs G as an adjacency list (dictionary)\n",
    "def DFS(G):\n",
    "    stack=[]\n",
    "    visiting_order=[]\n",
    "    stack.append(G)\n",
    "    \n",
    "    for v in range(n):\n",
    "        \n",
    "        "
   ]
  },
  {
   "cell_type": "code",
   "execution_count": 84,
   "metadata": {},
   "outputs": [],
   "source": [
    "vertices={}\n",
    "for v in range(5):\n",
    "    vertices[v]=False"
   ]
  },
  {
   "cell_type": "code",
   "execution_count": 102,
   "metadata": {},
   "outputs": [],
   "source": [
    "sample={1:[2,3], 2:[3,4], 3:[5,6]}"
   ]
  },
  {
   "cell_type": "code",
   "execution_count": 104,
   "metadata": {},
   "outputs": [
    {
     "name": "stdout",
     "output_type": "stream",
     "text": [
      "1\n",
      "2\n",
      "3\n"
     ]
    }
   ],
   "source": [
    "for k in sample:\n",
    "    print(k)"
   ]
  },
  {
   "cell_type": "code",
   "execution_count": 106,
   "metadata": {},
   "outputs": [],
   "source": [
    "s='123134'"
   ]
  },
  {
   "cell_type": "code",
   "execution_count": 109,
   "metadata": {},
   "outputs": [
    {
     "data": {
      "text/plain": [
       "'12313'"
      ]
     },
     "execution_count": 109,
     "metadata": {},
     "output_type": "execute_result"
    }
   ],
   "source": [
    "s[0:-1]"
   ]
  },
  {
   "cell_type": "code",
   "execution_count": 112,
   "metadata": {},
   "outputs": [
    {
     "name": "stdout",
     "output_type": "stream",
     "text": [
      "1\n",
      "2\n",
      "3\n",
      "1\n",
      "3\n",
      "4\n"
     ]
    }
   ],
   "source": [
    "for char in s:\n",
    "    print(char)"
   ]
  },
  {
   "cell_type": "code",
   "execution_count": 124,
   "metadata": {},
   "outputs": [
    {
     "data": {
      "text/plain": [
       "'123134'"
      ]
     },
     "execution_count": 124,
     "metadata": {},
     "output_type": "execute_result"
    }
   ],
   "source": [
    "s"
   ]
  },
  {
   "cell_type": "code",
   "execution_count": 165,
   "metadata": {},
   "outputs": [
    {
     "name": "stdout",
     "output_type": "stream",
     "text": [
      "2 {'1'} True\n",
      "3 {'2', '1'} True\n",
      "1 {'2', '3', '1'} False\n",
      "3 {'2', '3', '1'} False\n",
      "4 {'2', '3', '1'} True\n"
     ]
    }
   ],
   "source": [
    "self=s\n",
    "char_set = set({})\n",
    "distinct_count =[0]*len(self)\n",
    "for i in range(len(self)):\n",
    "    if i==0:\n",
    "        char_set.add(self[i])\n",
    "        distinct_count[0]+=1\n",
    "    elif self[i] not in char_set:\n",
    "        print (self[i], char_set, self[i] not in char_set)\n",
    "        distinct_count[i]=distinct_count[i-1]+1\n",
    "        char_set.add(self[i])\n",
    "    else:\n",
    "        print (self[i], char_set, self[i] not in char_set)\n",
    "        distinct_count[i]=distinct_count[i-1]\n",
    "        "
   ]
  },
  {
   "cell_type": "code",
   "execution_count": 166,
   "metadata": {},
   "outputs": [
    {
     "data": {
      "text/plain": [
       "{'1', '2', '3', '4'}"
      ]
     },
     "execution_count": 166,
     "metadata": {},
     "output_type": "execute_result"
    }
   ],
   "source": [
    "char_set"
   ]
  },
  {
   "cell_type": "code",
   "execution_count": 167,
   "metadata": {},
   "outputs": [
    {
     "data": {
      "text/plain": [
       "[1, 2, 3, 3, 3, 4]"
      ]
     },
     "execution_count": 167,
     "metadata": {},
     "output_type": "execute_result"
    }
   ],
   "source": [
    "distinct_count"
   ]
  },
  {
   "cell_type": "code",
   "execution_count": 157,
   "metadata": {},
   "outputs": [
    {
     "data": {
      "text/plain": [
       "False"
      ]
     },
     "execution_count": 157,
     "metadata": {},
     "output_type": "execute_result"
    }
   ],
   "source": [
    "self[i] in char_dict"
   ]
  },
  {
   "cell_type": "code",
   "execution_count": 158,
   "metadata": {},
   "outputs": [
    {
     "data": {
      "text/plain": [
       "'123134'"
      ]
     },
     "execution_count": 158,
     "metadata": {},
     "output_type": "execute_result"
    }
   ],
   "source": [
    "self"
   ]
  },
  {
   "cell_type": "code",
   "execution_count": 152,
   "metadata": {},
   "outputs": [
    {
     "data": {
      "text/plain": [
       "True"
      ]
     },
     "execution_count": 152,
     "metadata": {},
     "output_type": "execute_result"
    }
   ],
   "source": [
    "'1' in char_set"
   ]
  },
  {
   "cell_type": "code",
   "execution_count": 153,
   "metadata": {},
   "outputs": [
    {
     "data": {
      "text/plain": [
       "True"
      ]
     },
     "execution_count": 153,
     "metadata": {},
     "output_type": "execute_result"
    }
   ],
   "source": [
    "self[i]"
   ]
  },
  {
   "cell_type": "code",
   "execution_count": 168,
   "metadata": {},
   "outputs": [],
   "source": [
    "s=[1,2,3,4,5,6,7]\n",
    "s1=[3,4,5,1,2,6,7]"
   ]
  },
  {
   "cell_type": "code",
   "execution_count": 169,
   "metadata": {},
   "outputs": [
    {
     "data": {
      "text/plain": [
       "2"
      ]
     },
     "execution_count": 169,
     "metadata": {},
     "output_type": "execute_result"
    }
   ],
   "source": [
    "sum(1 for i in range(7) if s[i]==s1[i])"
   ]
  },
  {
   "cell_type": "code",
   "execution_count": 170,
   "metadata": {},
   "outputs": [],
   "source": [
    "s1.reverse()"
   ]
  },
  {
   "cell_type": "code",
   "execution_count": 171,
   "metadata": {},
   "outputs": [
    {
     "data": {
      "text/plain": [
       "[7, 6, 2, 1, 5, 4, 3]"
      ]
     },
     "execution_count": 171,
     "metadata": {},
     "output_type": "execute_result"
    }
   ],
   "source": [
    "s1"
   ]
  },
  {
   "cell_type": "code",
   "execution_count": 203,
   "metadata": {},
   "outputs": [],
   "source": [
    "class Solution:\n",
    "    def numSplits(self, s: str) -> int:\n",
    "#Reverse the string first to get s'        \n",
    "        s1=reverse(s)\n",
    "        forward_counts=self.distinct_counts(s)\n",
    "        backward_counts=self.distinct_counts(s1)\n",
    "        print(forward_counts,\"forward_counts\")\n",
    "        print(backward_counts, \"backward_counts\")\n",
    "        return sum(1 for i in range(len(s)-1) if forward_counts[i]==backward_counts[len(s)-i-1])\n",
    "        \n",
    "#Count the number of index v\n",
    "\n",
    "    def reverse(s):\n",
    "            if s=='':\n",
    "                return s\n",
    "            else:\n",
    "                return s[-1]+s[0:-1]\n",
    "    def distinct_counts(self,s):\n",
    "        char_set = set({})\n",
    "        distinct_count =[0]*len(s)\n",
    "        for i in range(len(s)):\n",
    "            if i==0:\n",
    "                char_set.add(s[i])\n",
    "                distinct_count[0]+=1\n",
    "            elif s[i] not in char_set:\n",
    "                print (s[i], char_set, s[i] not in char_set)\n",
    "                distinct_count[i]=distinct_count[i-1]+1\n",
    "                char_set.add(s[i])\n",
    "            else:\n",
    "                print (s[i], char_set, s[i] not in char_set)\n",
    "                distinct_count[i]=distinct_count[i-1]\n",
    "        return distinct_count\n",
    "\n",
    "\n",
    "\n",
    "    \n",
    "    \n",
    "    "
   ]
  },
  {
   "cell_type": "code",
   "execution_count": 204,
   "metadata": {},
   "outputs": [],
   "source": [
    "sol = Solution()"
   ]
  },
  {
   "cell_type": "code",
   "execution_count": 205,
   "metadata": {},
   "outputs": [
    {
     "name": "stdout",
     "output_type": "stream",
     "text": [
      "b {'a'} True\n",
      "c {'a', 'b'} True\n",
      "d {'c', 'a', 'b'} True\n",
      "e {'c', 'a', 'b', 'd'} True\n",
      "f {'e', 'a', 'c', 'b', 'd'} True\n",
      "e {'f'} True\n",
      "d {'e', 'f'} True\n",
      "c {'e', 'd', 'f'} True\n",
      "b {'e', 'd', 'f', 'c'} True\n",
      "a {'e', 'f', 'b', 'c', 'd'} True\n",
      "[1, 2, 3, 4, 5, 6] forward_counts\n",
      "[1, 2, 3, 4, 5, 6] backward_counts\n"
     ]
    },
    {
     "data": {
      "text/plain": [
       "0"
      ]
     },
     "execution_count": 205,
     "metadata": {},
     "output_type": "execute_result"
    }
   ],
   "source": [
    "sol.numSplits('abcdef')"
   ]
  },
  {
   "cell_type": "code",
   "execution_count": null,
   "metadata": {},
   "outputs": [],
   "source": []
  },
  {
   "cell_type": "code",
   "execution_count": 214,
   "metadata": {},
   "outputs": [
    {
     "data": {
      "text/plain": [
       "1"
      ]
     },
     "execution_count": 214,
     "metadata": {},
     "output_type": "execute_result"
    }
   ],
   "source": [
    "forward_counts=[1,2,3,4,5,6]\n",
    "backward_counts=[1,2,3,4,5,6]\n",
    "s='abcdef'\n",
    "sum(1 for i in range(len(s)-1) if forward_counts[i]==backward_counts[len(s)-i-2])\n",
    "\n",
    "\n"
   ]
  },
  {
   "cell_type": "code",
   "execution_count": 215,
   "metadata": {},
   "outputs": [
    {
     "ename": "SyntaxError",
     "evalue": "invalid syntax (<ipython-input-215-e755a6f4e95a>, line 5)",
     "output_type": "error",
     "traceback": [
      "\u001b[0;36m  File \u001b[0;32m\"<ipython-input-215-e755a6f4e95a>\"\u001b[0;36m, line \u001b[0;32m5\u001b[0m\n\u001b[0;31m    i compares to len(s)-i-1\u001b[0m\n\u001b[0m      ^\u001b[0m\n\u001b[0;31mSyntaxError\u001b[0m\u001b[0;31m:\u001b[0m invalid syntax\n"
     ]
    }
   ],
   "source": [
    "length = 6\n",
    "0,4, 1,3, 2,2, 3,1, 4,0\n",
    "\n",
    "i in range(0,5)\n",
    "i compares to len(s)-i-1"
   ]
  },
  {
   "cell_type": "code",
   "execution_count": 213,
   "metadata": {},
   "outputs": [
    {
     "data": {
      "text/plain": [
       "False"
      ]
     },
     "execution_count": 213,
     "metadata": {},
     "output_type": "execute_result"
    }
   ],
   "source": [
    "forward_counts[2]==backward_counts[6-2-1]"
   ]
  },
  {
   "cell_type": "code",
   "execution_count": 216,
   "metadata": {},
   "outputs": [],
   "source": [
    "s='1234'"
   ]
  },
  {
   "cell_type": "code",
   "execution_count": 222,
   "metadata": {},
   "outputs": [],
   "source": [
    "def rev(s):\n",
    "    if s=='':\n",
    "        return s\n",
    "    else:\n",
    "        return s[-1]+rev(s[0:-1])"
   ]
  },
  {
   "cell_type": "code",
   "execution_count": 223,
   "metadata": {},
   "outputs": [
    {
     "data": {
      "text/plain": [
       "'4321'"
      ]
     },
     "execution_count": 223,
     "metadata": {},
     "output_type": "execute_result"
    }
   ],
   "source": [
    "rev(s)"
   ]
  },
  {
   "cell_type": "code",
   "execution_count": 280,
   "metadata": {},
   "outputs": [],
   "source": [
    "#make a list of distinct characters appearing and make a dictionary with the earliest and latest appearances of these guys\n",
    "s=\"aacaba\"\n",
    "chars={}\n",
    "for i in range(len(s)):\n",
    "    if s[i] not in chars:\n",
    "        chars[s[i]]=[i,i]\n",
    "    else:\n",
    "        chars[s[i]][1]=i\n",
    "\n",
    "forward_spots = []\n",
    "backward_spots = []\n",
    "for c in chars:\n",
    "    forward_spots.append(chars[c][0])\n",
    "    backward_spots.append(chars[c][1])"
   ]
  },
  {
   "cell_type": "code",
   "execution_count": 283,
   "metadata": {},
   "outputs": [
    {
     "name": "stdout",
     "output_type": "stream",
     "text": [
      "{'a': [0, 5], 'c': [2, 2], 'b': [4, 4]}\n",
      "[0, 2, 4]\n",
      "[5, 2, 4]\n"
     ]
    }
   ],
   "source": [
    "print(chars)\n",
    "print(forward_spots)\n",
    "print(backward_spots)\n",
    "\n",
    "for k in range(3):\n",
    "    if 1>=k"
   ]
  },
  {
   "cell_type": "code",
   "execution_count": 245,
   "metadata": {},
   "outputs": [],
   "source": [
    "\n",
    "forward_spots = []\n",
    "backward_spots = []\n",
    "for c in chars:\n",
    "    forward_spots.append(chars[c][0])\n",
    "    backward_spots.append(chars[c][1])"
   ]
  },
  {
   "cell_type": "code",
   "execution_count": 250,
   "metadata": {},
   "outputs": [],
   "source": [
    "forward_spots.sort()"
   ]
  },
  {
   "cell_type": "code",
   "execution_count": 251,
   "metadata": {},
   "outputs": [],
   "source": [
    "backward_spots.sort()"
   ]
  },
  {
   "cell_type": "code",
   "execution_count": 253,
   "metadata": {},
   "outputs": [
    {
     "name": "stdout",
     "output_type": "stream",
     "text": [
      "[0, 1, 4, 5, 6, 9, 10, 17]\n",
      "[52148, 52167, 52175, 52179, 52180, 52181, 52182, 52184]\n"
     ]
    }
   ],
   "source": [
    "print(forward_spots)\n",
    "print(backward_spots)\n",
    "#Splitting at 17, 18,....till 52147 is okay. How much is this? 52147-17+1\n",
    "\n",
    "#More generally, \n",
    "\n",
    "left_bound=-1\n",
    "right_bound=-1\n",
    "for i in range(len(forward_spots)):\n",
    "    for j in range(len(backward_spots))\n",
    "        if \n",
    "        left_bound == -1\n",
    "        break\n",
    "    \n",
    "    if forward_spots[i]\n",
    "\n",
    "3,4,5,.....10 is ok. "
   ]
  },
  {
   "cell_type": "code",
   "execution_count": 254,
   "metadata": {},
   "outputs": [],
   "source": [
    "[0, 1, 4, 5, 6, 9, 10, 52448]\n",
    "[52148, 52167, 52175, 52179, 52180, 52181, 52182, 52184]"
   ]
  },
  {
   "cell_type": "code",
   "execution_count": 262,
   "metadata": {},
   "outputs": [
    {
     "name": "stdout",
     "output_type": "stream",
     "text": [
      "[0, 1, 4, 5, 6, 9, 10, 17]\n",
      "[52148, 52167, 52175, 52179, 52180, 52181, 52182, 52184]\n"
     ]
    }
   ],
   "source": [
    "print(forward_spots)\n",
    "print(backward_spots)\n",
    "#f[k] is the smallest index i such that the prefix up-to (and including) i has k distinct characters\n",
    "#g[k] is the smallest index j such that the suffix from (and including) j has k distinct characters\n",
    "\n",
    "#We want all indices i such that the prefix up-to and including i has the same number of distinct characters\n",
    "#as the suffix starting from i+1.\n",
    "\n",
    "First \n"
   ]
  },
  {
   "cell_type": "code",
   "execution_count": 261,
   "metadata": {},
   "outputs": [],
   "source": [
    "backward_spots.sort()"
   ]
  },
  {
   "cell_type": "code",
   "execution_count": 241,
   "metadata": {},
   "outputs": [],
   "source": [
    "s=\"abbbcehbedgcecahafgdagbfgaghgeccfafbccdecafcfgcdgcbaabgggcfhfchddhgacbehgebagcadgbfehgbeedbcbgbcfhgghdebahdfeghhffecfhdcdafeccbehfdaefhchgfgbggccgchhggheefhdgcbbcgfggahggbbdbcehgbfcfgeabbddbedhcdefedhbfaaehfhfagdaeececfgfadhggaadegfcbcbgcdebghbgcfdccgddhdgaghehfdddfdccdhggafbbehdcehgfacdhghchehghdbachfhechabhfhbhacdhcbcaadcgabhgghadddbfgdhecfdadhfhedageacegacahgechhgfebcgeaahhfhcfachcdbhfhfcegaggecfaaffahfgceccedcdfbcdeaaeebagfceafdecaegfhacgfhddedbcachcgedecbhdgbhechebbcdggehehhfgdcgcdaaacgeebcahfghecahecdeagahcbbbecfggabfbhegheghaddcbggeaeadbbefgbchhgadbbbbgeegaegcbfacedhhfghecfbchdeahgdedccffgcdecbfedgddcbdcaebfddfaafbeecfechfhdadcedddhhefbfadgdfaaghcdedhaehffgbdcbcdedcegbbddefbhehdadbeehhghcgaaeacfehgdghabdedffahbebbhedebahdafebfacebaaegcbfdbbdgaffbefecehhffbechacgbbdddahdgbgebchbgchhdeeaffdcbheebcffdbbcegchgahfhfcaahedfdgbgefbbhbffehbedfdgdhedceedfheececaabehfbafbdafhaebahagcdgffhhdccdfcffdchbabeefcadgbbehbacbggghggcgehgffcgfaafgffgecaebcbehabdhgggfbdcefdcdhgchebdhceghgfcgghbaagbdcgdhdefhgdecebdeaaaabgefhfeaghabfdedbgabccfdggfdfgchbdgchafbaecahebahgcgcbegfahdfbfcgfgchefgdhbhgaahafbcfabeechecgdhdagdadfegfabacfccaegeebhehhdahbebbbacbfggdedfgebgdbcaefaegefggbddcggffcfgahfgaghbbfhfebabhhacffdccabafgcddbbfegfgagegbdhfedghhhbbbhheahgfchaedhgecgagbbchddfaddfagcdcdedfceefdagahfgfffhaddedgbaeggbaheaaebegechhghdcfdfdbgbgdbegchbfbhadeebcbdaghggahbdegbfdecfffddcecbgcaeeccbbfcffaefehadafhaacdccaacfhhgbaedchecgfddbfbegfhhedbghcdbdhgfheeedbbfghdgaacbdfacbacbedecghcfchhhcabddhbaabcgheabdcegfgfbbfbbcfbgdffdaccfgagagdaahedaabggeeeggegbadggbcgehhebdbchgbdbfdhhcebdfhfcdefaebabcffeaacaabhcafbadcccbhgafcecbddhfbghhbcdfheedgfbcbhbbcgagcabddafddafadefagcechdbehgecbhhbffccabhbahfgdcdfcfefhebfeacacgfefaghcgafgdechchbdaeceeacdggabdahcaaeceabcfcgfcfhdaaaacfhdagebbaahegeebegadeabeegedhcaeggfdhabbccbahageabdfdaahhhghdgffgehaccdhcbaghhhhaaegahfedafbafbgbbhggaghggfgfddegbbdecdcecghbcbgeadfebcfdfbcbhgeefcebagedaaheahebadehahbcfhghdbbfdagcgdbhbbfhefbcbggdahageegfgbhfghhgfbfghdhbbafcdacdhffchcebeaafbegghhggbhfbbdeaadabdgedecdccecbaecgfagdgcdgdhgbfahbbfgadedbfeddcgghgbdgbadbfcbfgfbabfdgdgcddddfbefbchbchahdcbcgdaaaahbafbcbbcggbghefdddfhddbcbbfdcfeeggdcedhfhaegfaccahcgehdccgdfagddhhhdhgdacgfcbhgcbgabddaddeafgahdgfegbghehacahdfggeddfbafeddbefbgdehheheebdhfgbeeffdddddadhgfhcggegcbbecgdadfchcgahaghdbhghcddcgfcaaheabedfebahgfdggadggcdhcggbbhacgfbffbgdfcagdedgeadhcdcaahcdafcggabfdhaffgbbgahhaaechgachhcabehccgaeedaabfgahhhfadbbhfbhbfbcdgabfbcdgffbhgbdgcdbaedebcdadecagbehdddbghhdfghbdgbeahhehfggbgdaffeafhfafhbfeeecadgcgfbhegcaafhcbegbefebbehgfaheaadfhbheeebfafgehfdbacggdegeggbefafdadbcggcdfcfcagdbacefheebadbdgbdgfbcdcdbedfbhghdegheddaehhdhbaffehedbffghbedfffbbecegafhhhbfegddgcbbafhgcdhegehcafehhhbcadacafcegfcggdcbhcddgbbccdhadcagdchaaefefcagbdbabedbfcehbdfadbbaaegghdfddfdbcgebcefggcebgcccdgdgdhheahggehghgaaccedadgbfbdgfdfbfaddhccbeeebdchbhcdcbhabddgeaagfebbehcccbhaefdbaegadhggdgfeddaaggacfgacfeeadfhfeabgccedcgcfdfcghdeebdfdahfhcbgfaaggdadcfbehcbcdhghbfaghhdchggabaebaaabefabhfacfcbehbefcbfdbegfcacdgbbgbchabcbgbbgdcafeffdegbecaaafgdfdaaeeabecgaagfdccefecbbcabehefhecadgfbaacefgahcfahaaffgdgcddhacdaegfccbhaedcddcacbgcchbghgccfgbedafcfafebeghddfchgabfacedgbecdccacbbaccgachdbabdccdfheffbafeegeecccadfbachbhgcgbcbaeedaddeahhhchebgchdfdfggaedbdbadedgbaecgcgadhcbgahcbahacegcacgghghbbddecgfdfghgagaefafefbcgeaehafefdaeedfgecfgefaaahddebfehccffdefghegfafbfhaaefcbbhfhccbabbeacghfgcbdacghcaedadghbabcedgfcdgagfehdgaffdchcbefggcgedbbabhedcadffafbhfbacageecgaghgheabhchhbedeffbcagfgdbefchbccadbecagehabhafggdebfcaaefbfgagfcbfbdghhggacbegeacfgchaageeefabcaccchffdghadfhachaadgcaahhdhdeefbcahehfcedfbeggheeaghbcdcdhcghcbebghhabbhbfegfegfgcfdaadhfeabacgfebaedgdbgdgffdbdbheaahhdacehbgcgafcaffabcahaaheahhhehdcadfbbhfbcadcbcfhadbdfhgdgaeacdbafhgfcgbfaahfhgdacfdcfbfbchefeabhgdecaadgabhadccgbdffdebbehfdehfbcaegbbcdccgbedegcccfbebffceaaaaddhebfggbadccefhhhefhcaeefdeabhfbfddchdfgdfdgdcggggbadhdbadghfhecdfdafgaebchcehbeadagbgghhgdddcfeedddhcehegfgghbhdgdacbaahgcbhgceaebeadebhdcdghgefcagdhdcffbcaceecdcdhgggbghgaeaebcagcgdbafgdefggcbhfedgabahecdaccfddadfeaefhhefacaahebabeggbgahfagbbhbbaecefebhbdcadbbdhggchhhafedaggbfhfahdgbfdcdhefefaehfegffdhacgecdhebbeabhedabehgacfghcgfhfdagghechbcbcfafabdccdcbggchahecfcbeaccchadefahgfefaceabhebhbegbagcdccadahfghcedhbcgddbedfghgbgfbghhafadhaefdgebdecbgdagabgddegeghbchahhebgfaafcdcbbbgdhcadccfhaehfgcbdeadfabggffabhcbafhbebbdgbdbbabbhacdfbhghfcbagfcedgbbfcafdfacedgaaeccegccaeedcbdcbchebeaahdabgaadhhcfgcgfeagffafgeghdgfgfabfaaedegcghfadgegeaaagecedbcdhghafedaghgchaggecdeacbeahecgchdcebcaeedeafggbbhghfbcfbfbgfghdchbbghfhgdbegbcceahegbheaabafgabfgadfgehadcehbbfafhgedbhafacfeefbegdehhdheeadfefebbggdcceahegahcedcahbegahbghcdhehfdhfadhfbgfbgagggfdedcefbhfahfbcdcddafgfdfdfbbcddhfaahgcfacdgbffehcahfadfacgcgehhghbaafbfddgfadafadcahbebfabcbahdfcfhbcdhefcheaaaaaaacbacahcgffcbbgbcdhhbgdhgegbfccgfaegdaaagaffdhhgccbbdfcgefcahfahfahfcchcdceedgdbcfeffgfgehcbehccffchhdebcdbgeahacbdgfgfhahddffhddegheagadhfgcbaghhdgfbdafdffbdheedebafagfhefehagdaebfcheadcacdcfcdcbdehfagfcbgeadfabdghadcahgfdchdaaefffgccehcdfccebbffaefehbefachegbgcdaffcfcebggfcehfffgeaccfddgdaeeeadfdacdfagbdhhaagbcffcdcdhfaffhfcdgeeddefcdfbehaeadggegbedfchgbeabbbdhcebhcfbcadcfcdgedfgdhdecbchfgghdfgegbhgcdegecgdcdfddfhbcbfbgfdbbheeghecedghhabcdbcbedadhcaehdchfhdebdbcgehbdeabefhcegbcbegehbechbdeeeedadeaahacddhgehghdggegcbgbhafhbbechcbeegdhdcehhgggdadacceadhdfcdedfaffdhdegfadhfebcbddcefheheefdbdbeeaahcggcgdfgafhbeeehacdhfagbagfhebefdgaceeaaagdhfdhbacfefhbgfgahcbhhededbbhhdcghcdbagbfbcfgcdfbedeahadafgfdagdcdbdefdaeafcafhbhddggffgbcgehdcbeafhfghfgdfhebccbeefddgggdegfadbfhfbgehccghbghgecaecaacbhcfhfecheafbhbbebfegfgffbhfhcacgfccdbcagbbbabebdahhdahefeddefecgbadcfghghbaegchdechegfefgbdfhcecbdfdbaaceeaahgfdaecdfheaggcgebfabgehcbcgffehbdadgcghbdfgbfgccfegdfdedeccahbbfhbahbghchfcafegddehdgbchfdcabbcebcabbfeacahcbedbhdhdebedcecbhhahchdbagafdcdbggechbbbgggeebfgfffcdheghdbhahgebgeafgcdgfcehcbdfhdagdbbcfegfbgcaegbeddcgfabgbehghdabcccfhefeagfffbdgfeaadfbecbchdggddgfbcfgdcbgfdfhdgccebadaeffafghcggfabaeghfageafhfhebcaehhgaefbeddgbbhgbaaefhcgeeagaabbcaaehhceffcagagafhbbhaeeehehbehaeabhbgddeheeeaadadefghaegcceehdfedeaaaadfbgefhceaedfggddgddeggdehacebeccagagdeecffhefcfeceagbfdchbhbdfehhfegdbcfgaffbdddgbgdhabbhedahfffcheheabchdecbbachefaahheegfchhebbbhfcfedcgbgecbffhcghffbgcfeacabgdhfdedgeebaeaagcbbhdadebbcbdhcfahcdbfgdaedacgggcaheeebgcfdhcfchehadcdffbdfeababfefcccgcggddahbcgfafeaedghhfgfeeaacgfachahfegbhdccadhcdeabdbdhebhecdhdghccdaecfdadedcbcefgcahgchfhafggaegddbcaabdceheeecdaaghhdfhhghaeaafdbdhefahgbebbdagbagffbfhdhghbgaeabecaahgdgehghhehhhbfdgehadfbcdahbachhbbcecfbdccegghefggfggbfghagbhgddeheccbafcdhhdcgfdececdefdceacaehhgfbaedgcdaccegfdggeahaebaaddghdafeghhdbdbdcheggbcdhecgccgbcahfhdgchceggdgbafhecbbbechhcdffhbfcegfghchdfcbbhghfehgdgccgfffegabdeeccccgggfagdhadbafdedaagfedbchdhgfehbfcehhdeafaaaebdfhhfgbccbffaabecffhcbedebghfagcffbccdgfgfhccddggdfbdacegegbchbhhchgggfebcdfbdahccfaggcchcaaecfcefcghagchfdbdcdgcabgachfcgaafaacfgedgabgdgdeabddcaagegedefbcghcegafacfcedbhecddbcegceggbchdaccdhgfafcccghhacfgbdcegabcbefbdcegbbgfadabegeefhgadageehfggfdabfhcghedcaeghfaahbhebehcdhfbffcaahcefbffcchhcbadfhgadafgbgdbfhfbbdfcacbagdbdccaadaffgecfhddfbaabcfdecacacddhhcegefbcghdaafbceeceeffcaafagdeabdhfeaehacfgaegceafdddgfecddahdccdccccfgafgdhecgcdfdcbcffdfgfagbbeaaehhbecccbecbdgbbehbabecagbebghfbbgfddaefdffgehhfhgcfafabacefffbbcgcahdegcaafcbaaegechhhfahcegccahebbababbfbfdacdghhdcdeggaegfefacadadadfcfcehaabgbecaaegbebdbgfaggcgbedhbefbdccfgcagadchacbbfcgdffahhgadbehbecfecfaeafcdefaffggagdbgdbfdcbdcddbbfcecbeaahfgcaedcafahggabggfhbdfgfdhffddcaeaffeafhgfdccdbeaadhadcahcdegbhfhhehfhchafaachbedbcfagbfhebfbaghfefhbhfegdbcfcghhcchcgahhcdabdhcggheecgfdbhcfahgfbbabhebbecgdeccfccfggdedgbbbebdfbghabfgbaafdcebebafeeddahbgfeahgbaabbbdbgcebdhahfadbbhhadhbdfcadaecddbcefcdefafcgedebbhccgahegfhcgacacccefddehadgfhdfcgbgbccdcgdhcbehcgabdabhhebadhaghchgedfeeefcegfebdeadffdfghdbgdfgbhcbbdhgcfaafbeacbfhghdfbachdddefafcbahdgcddefgacbchdggdbgbbgaagcafebefgfbeebdacdaebgafgfdchadfdfgfcgdfhdbbbccehccbhfdbfhbchbdbefbbaehedgbgegccgeeaafcbbcgdeehbbcfhfccfgafbdaadfggegffcfcafaaebgghhdggfhbfebcgdehgaffhhedbbgabecabdgahcdeaehgceafegbcbdccegccffdgefdhahagcgbbdcgaachafcddfaecegabbaddcacdchcbeedbccbcbaagcecggbebhehfdecddachafdcegegfgabffefhahgfcfbfehecfcbacaehbhefcdggghcaehhhfgcfcagehbcfecffbhbgdbcabdffedacdcabeaghehgbbggfcebbcghahcafcggghcebfgehegcecbfaafhgghhbfdhfdadhgdedeccfffcgccgahdfcefdgccgfbgcaghddfbgcchfcbaffbgfgfghbcfaefbbgbbhdbdfagfhfagbeggecghbhhaehgbfadgacbbhccehbhdebachgggebhffhahdccbcaeccgfddcbdgafghdabfgaagcdhcfebgcchdbahbbacfccdcdfcbeaahgfhghhghbhacfchdgefdbcegaaehececebddhbebfdeacchfdaagbebhagcdhbbfcghdadgdedeedghaabefhbghafdebccfbddbfdhhgfbgbhgeahghdgebaaecfhebedfhfhbahcfhehbbaheddadbfdchfdhcchhgbgbdahaagaecahaeegbhaedfeeggdfggbadgbbcdcceedcdbbgcccbfhahdhebbhefbfcdbefagccecfdfdfbecfeehaedgadahfgggchebabageaffgebdfbagcgbcafcdghhaeghcabacfggacfcfcdadfccddccdddbdchbefgehecdecddbhfcbdabfehfchehccbfbhbehefhgagbfgadggcgefehfhegbcahgafdcbadfdghbcfbdeagfhdhgaggcacebdehdchghbbceebbcabefcacbcchhgchegdcebedccgbfcbfeecdegbcbhhgfehbcgffcbcccgcabfeeacedbeefcachbehbfhfhfbgebadbegccceceecffhebeedffgbgbbbhcehfegabbcddaaabfhgfebgcghebbcccbfcfdehcfcadbbfheaegehdhfaaadbbhdcdehbgdfaggfhfbfffdgadeghchfdcgdfcagdefbfcefgfhcfebgcbegfgggbcaghhhcebafhfbedcdfegehdddggdedbbdahabchehaecgafhgfcadgcfaachhhdehgacfeeccecdhedhfhgdghcfgehcdfdhabchehffhfafebfgeaghhfaabffedhdcbheagbbcbecbdbcbgbggeegdcbhbahgcbbeccfdbggccabcgcfagdfgeehfcaachgadhdcbbffafbhdefdcdfagfdgbgeehacdggdedeaafebhdagahdadcacgaedgececbgfgbhbdhdhaahagbbegdhhdhefchfadhfdchfdbaacfggheggagdadhfbgcceefgeabefbafhhhcceafahhghbaagdabbgeagaheehccadeddfaeffbhabdaccddbhhcgfdfdhafdhfcaffhbbfhhhdegfhhbaafedehgcgaedccbgcgbfghghcheeahhhddbccgfbhdfhefgcdhggcbchgbahceddbbfacdbbaegahehgedcfhbdacdadgefgdhhfadeebdccgbhhefheaghgbehfgbgchhacdhhbcdachcbhfgfecghgbabehfhddggadcacbagdeefabagbcdhhcabcbbebcddacdfgeadhaeheedgfgfahbaeebfhbgbedhcegcecaeggefecfcbebfdaggafechgfhgfhhdhghcaghbhfgcecaefcedgecdbadeacecfdegafhecdefhheahaaggdaadcbddeaeabhegcfgcggfbcafhbebgdaedcahgchfchdaadgcadhgcgfedhcaeabggagcbhbccecadegceacaeffbbaaegffbhgecegacfgahdghdbfgehddhhbbfcdghedcfhcdcfebfgffcgcebhfdahedhehfgeacbfhfgagfebhchdafdhfcbbehbghecfabcgfchedbaeghdagachabgadbfebbecahecaccbcebaabhccdffhaaaacfbdbdcbhfhccfcabdcgbacfddcbadfdfafhbbfdfaecgcaacgeehebghfbbebeabfbehbacfdeggeffcgahefhbgcbcgcdfefaeacagccbghchbbbedggeagfgdeeghaefagadfcgffhchhedggbhfehhfaaddcehacaeafdefgfccghcdhagaebcdfehgabdhecdgfdhdfgedhabfccddhhdcaceafccfhcehbehghefdbabhdfebahcffeehcfcachebbcbhehbfbfgdbbebhdhhfhhgeggegabedhhafdgefhcghfadcdheffffffgheghfafhaffgbfeachahfghefageebddbebcebdaafdfaabeccadeghgdfefddcebfbhebheeccdcheedaagagfgehhfgedccgcaeecdhfhhhaahcafbggcbfdgcahdgfbgdhceeecdfghhdcgabdeeecbhddghbfdcacfhhfhcgcfhhfcbgfggbbdbaefcbbaeecagbgfeddacbahaebgeeefcddabbaadccdeefgfgffaeeadfbdadbgfhaghfgdbhcfffaeccghhccgggadcdcbcdbbbhacedbbhdhbaacehhfggfgfechgaggddfccdabdahchgfgbhehhbbbegcgfhhgadcgcgehdbbgebefbbhebeahdecfafcecdhegbhcbchdgbbdbdhdghefhhfbcffbcfdhgahgbcfdgefechdbaddaehdahgbdbhdgeaaebfbaegfgddagedefadbfcgbdgfhahdaagbdcahaffedcgaehfhfcfdgbaedgcebcahafeeggbdfeaeaeggbedhbeegefdahgdchceaaeccecebeagcecgdfeahfcdbgbfahaaaffacfbbgbghhdhceeaeehhhedbcbgcggcceffabfaadhbebadcebghcacgebhhehffhadcffbbbdadfahafcafhbcghcgbcecachgdaadcceccccdceaehecgdcdchhgadchgeeefefadffbddhfdgbefddegdchdeafhcedfahgedbfddeabcgegabaedhdadgefadcaedehfbebhegdchcbdcfcdecegbbagcedfeehggachdfdhafabgehcggeacdedcheefgadcaggdhebddbfbebhcheahcbddcaafebhffdafeaecgegbebgdbbgcegaddcgfdbgffeaagfhgebbdahdhcccefefbeeeefgfdbbgechebcfgahbcccbcchddeefccedeeadcffcbedbfhedcacbbbchghbefbefcbgcegbbfdbgfcfhdhcadagaeaagafgffcfghghaafhaecbdfgfdgcghdcdahfgfgbddabhabdbggbeehcdfeeegddcdchadebdffdhchbefdchbddafcedecadecggbabefffgcefabecaabhcdgbefgefdbbcbhhahgcgeggfghhgfacaahcfbgbcghhbffcehbeebbggfhachffaehfgbedcacadegcgaadahdhadccdbhddcdecghabafdhhdcghedcagcbaeahgchghabgcddeadccececbbchcfgdbdfbfedcheaaadhagcgadgaccbegcbeggegfaacefebcdhcfhdgefcgcebcbbbfgfffgaegagfhbgcdgahfbbaddbaggdchbbgdhfhdafafechacbehdafgccghggefgffddegcgheebehfbbhbfadeddfcedggghddafeedbecffhaadefebecachhghbfhaafebacbbbbbgghgegdbhghgdfddacaccddbdceffcffcdbbcgheecbhbdabbehaagcbabbceeadcdaefgcbbahcdadggghfcechbhcbccbhchdfcgacfbhffddbcgcdcfedhdedcdddffcfadccegbecaedgfgegghbbgcfbfdaedfgddfeeegdfcebcfccdbfefdaggdgdgaebcegfgfhhdceccebdhbgccbgbhcfehgdahhhcdgcffgbahehccfbcagcfcfeafeccfedfdafegecfehedeagcdbabhbdgegfcbfefahfhheaegabfcdbbbadchgcfhhbgcefchefaaebgbefgbagfhdcebbchadhachedecbegbeaafcbhhdegcgafdegahhaceedaffaaceabhdchbgeffbcdfcfccabfegbhdaaggbhfccgfeccggcfgedcgfcegcafffdadcaeaaabfffafhhcgfhafdadbaafcafdaaagafhcgggcdgcgcbfhgfeghehdgaahafadbadfhaghdfegbdggbfghegafdeefbgdchacddceaabbggbgbhbfeefeeahahhefgcgbbefhdccehedbcbebbcdfacffcgeahfadehefbfbghfbggffghafcaghhhchbgdfebceabhdcggbgbhdegeacchhaghchhbfdchgahbgaeahehebebdfdfacbebchebehbeecdeddbhaebdcgahccbaahbcacchhadhhcdcgabaaehgfdbeefeecahhdgedcgcagbdbcddgdehaehfdbaecebgghheecgcafgcehhfadccggafbbadfgdehfghbaegegdbcdedcedhagdaagbedbcgdfagacdhbadaagfgbfcgabegcaaccahedgcdgcddggbhbdecdhcehcagfgafbafcadcgcacafhadffdfccfaeeccfdhehdhafghghdfhfgfecagffecbdafcbcafbbdbeehdhbdcdffhhcbhgahfcefdcacffadgfcgeeghbefdgcgfggdbbgdegababfafghfgbghaegaefbgabcacegheccbhacgeaeacfghgfffedcffecfbcacbfhcdcegecbaebgfgdgggeehcffegcdcgadcahabeheheabbbdddghhchfgacdbgfhdcehhefedhgaeffaacagdcbdcgdffagggahfcffedhceedhfdfcdacaababaadegheeafdhfcebbbafeefecebgdghddheeegddhbbbggafgbachabcgcffffaeabegdfhgahdebadaaefebfgachfafhbdcfbheedaedddegaafdgbhceeegdgcgfgfdbdahdcdbgeachbbadfaefbfafhdchdadeaadggbbadgfcgcgechccggadbceacgfgachagcbcadecbggcafgadeeeffcdhffffdagdgafgcgdhgecfedfegecbbdfgdbhgdbhbfgbbfbgfbbgadhhcghchegehfceahffcgdddfhbfcbaghhhddcbcgeebfgffebbgadbgfbcgechacfcggcghhgcgccecccdcedgdccbddedfbbgcggfacfagahbcdgdchgbbafhehgcfecdddhfghfbcgfahchfdcfffcfggfadaheehfcceghgbcbfebfccfecbbagcgcdegaaeahehdgeaaegcbggghebfgchfegdfeeabfdcafedadfeegghffhcfcdeeceheaacegcddhgedadeahgcghheccaaggbdeeaehcabecddfbaccbhaffgafahgbhgabbdahaehfdbaaefbhcbadgeeeagbadaddgdagfdgbbaafcahdbgedcbbfebafhaahebhcecefcgeaeaehgcgfacaffbfcccggchbdahhfgdhhadcebadcddeefebfcedebehfebhhbdhbdhcaceacgfgbagghahfedbhebegahgegdbegbbdaaahbfhbdggachhbdafafdbfhbfaccbaahgffhbhegacehbbffaaahahgdbeafaehfcadgcaabgaadffcgahbhbgbdadadhhhebgfhbhfdacehcfbhhaahffegdgdhfeagfcbgbbddgeadbdeeegaffadgefbeahedcddeabfdgedgebhbedacghghfcgeebbaeebhafeafcccbdbgeefggcagafegebbddgacchedgcheebchdhedhbaffedgdehebbbahabdddcfhhbbcebhdeddhhcddfegebcgagcecgddhfedgdcbgaefddchegcfgdaghgdefedehehbahbcegdeehcdadhacffcfghhhhfcfffbbeefeggegachegdghhccdeebaheafccfggfcdcbeghbcbdbbdhfdchgahccdaafeffceehcdbahdehadhfbfecaffeheghgbahabfbcacgcedhcgffegeghaccfaegcghgbadchbfeagaffabbeddbebfdfbaeagghgfdedfefbfhecadehaebdhdddcdbgebhefbebcaacbdgchachdggecdhbfgabghhegaddfdcacfcdgghabdbaegaffhgbcddgghbdfehcdcfgadcecbhdgdcefhgbafhcgdabaagbecaggffcbgefeccebeddbcfbeadefhcdfbgabcggedabgaaeehfecadeegbgehebbhhedccghacfaghfhdeefeecddccedabhhghfahahhccbghbdecfgdaabbgfdcecfffefhfdedbadggdahegbbdchecfggfdebchabgehefdfceegddhdbbbgdfgcbfbeggbbafheaffggefdhchfhfffebfagbhegdchbbecehbfdhcfbbcheacbgfahdfdgheghdeafeabfhhhcfddafeahabdbdebabafchbbfhgedcbcghagcbbhefcbbaeehcgbhfchaghbdccbcgdgehdgbbgbdacgffecccfaeeagbachbeebdgdgdbbggagaegdddbafdbghcggdffgghgbcggffhhededafbeghbccdedddcfcffafcgccahfecdcgbdgfghhgahcfhhfdaggccgdhfacdbcfhbechachhabbbdfafdfaccecfdabahhcceabdafhgcddcgbchfhedaaacehbhgfhcggfehcdbbgdfdehdhaggdfccacbggcbebfgdaacfaghcabgffbaegabhaaefgdcdaeggadcgbehfhfbgeefgacgaghedaeabeeaeaedhebafbhgaegechchdchfbgafgdcehdcdahhghgfhhcehcdefadbachdgcchddecedcdghgahagdcgaeahadbdaaecdebbhbdgghhgfbagfdbgfdeagegchaecagegffaddheceadbeafccbghbbecachcdcfadgcbghfgfbaccgefbafgffebcaeececggbcedfebcecgbdgecgdfbehheedaebhgcfbhcgacbbafbgcebfhafbhfddcdheddffcebcgccahaabcebeafbadeahcghbhaagdeegcgdhedgdcgbabhddcddbddddhecdcbdfdhfhhgcdfcgdabhhgeegagagehadafbbafdbeddheebgddgebhfdfccehadegeaacahhghcfacecggfheeacbgfabgfdfdaacedfcbfecbfegebgdfbcbhegaeaeahdchdaechcabgbhccbbabgfccacebffddfcchdfeefdddddcdhecdagfbcbaehddbfacbhheghgcggdhfdhdgfaecgdhahfdgfdgbbbheaaghhfdheffddeahfccgdfgehheedgbdgaghahfhehhffdhhgaahcfgddahagdfgcaehgfbhaacdefhhddbhachcgbgcfadbgfbbeggedfhebafaefdbdagdfdhfhhaeaachhbabeacedbheceeegdacghcdcgdaddhhhfeaedhgfbbeaeedhhgdadhcdaggfhgegcfcdgfcehahcbchddabdcfgfbgagggecffgdgcaecbcagabfhdfahchbbgadbcbbhffaghfggfehhcecbgafbbcdhaeeccaddcfghbfbedbaghhgaecdahcfhbdhecfccaddbdfhbefadcfhfbefcdabefgaggebeeeebedcaacfheedgcdfgedefgdbdhcbddfbeafddegdbafcceeadbdaabfcegfeeeaedceadbddffgcfcahfffbaddgbeaeadggdfacffcaccdeddcacbcaeadbaghffahecachfbhaffbhggdbgafgbdabgahhcaheccgeaegfhdfehadgccahcfebhhfeegbahgdbdghehcdchdagdbfabbbdhfahgehefeececddhbehbdcbedcfebhhhdbfadgacgdbadbbbhhccefhhaghbacahcdddhacacbcchfgbaghgbeefdeebbbbfbgfbffgbbddcggbegcdbahheffaefehbehdedhaehbagabeehdhehebfhbafffbdfgbbedhaedecbehehbgafbafeegabdceegghadabhcdahecfffdhgghfbbahheahhdccgdgehegggbcfaegahghghggbgbdhbafhcacgdchbcbhfhdbcbhfbacfdceeaefgeaffbahhcaadgaghbcghaghadggcgedhagaddgbgfcdehebddcfdegebffcbhcbhacdafcacadeahbbeddghfcbfhaabchfgffbghdbehceaagfahfahbbcfgahdhfcbheabcghfgehhcdgaagheacgcffhccbfghecbegcahfhfdggagfabcbcbhbdcabcecfgeggefehbefchbcefeddgfcfggfcdhfcbcheeceffcchbhaegefabfgccdbceahbdfbadchdebaeddhcccbbdgahagcdbeeaddcaggcdcbggbabfhhdhbdhfccbchebdhebcecaefbghhdhhffebcbbfhafffhgbcdbhggbaaaeefacfgfhaeehdfbhchcaafgdchhgdebabfehhgahefgfbfehcfefefeccehafdbhdhbeeaedceeecehahhggfceffchcehbacgaddcedagagdfchbacdhhcfbccccffcehfhcgfeefbgbbcgbfedfhdbbahedgaabbhfhfgebffaahdbbfhehcgdgcdehdaeaefbfhdhbahfafhabedefdadbgbhgbfddhgaegcbbfhcedgehbffehdfbehfdbfccdggghgchheccaeedhfbdchebgcfdbbdceahcahcfeffdfegbdgfhbhcghfaadfegdfhagcefacgchaccgbbedgcddbfdddafafacgabegebcafgbdgacdfebgehhbbbcfddgeahdhgegcfcbchcbhcdcdegeddedaccehbgebafeagcbfddfhcagafddgeaheegfdhfggdhbaggfefbhdhcbhebdechacgagedggcbfdghhaahhcecafefbbaddccaefhdfgaffeadgbdagbeeaggbdcacgceeaafbfahcdgefagbaahafddhhfhddcedccahbcfgaaebagghfdhbdfdfgfbehbbfahdhbehfcgchfcahahhahcceagehbhhfacbbbeafehdcbhdadabcbgdhcfddghebdeegdbfehcbeagbchbcfabdcefgbgccfhdbhfeheghaheaedbdgbhghdfabdefaecgfbfdfhcheaeeghhfhhbefdddbehfbebdcfhgcggddcbfegcdhhcgbfghggbddaebcchgehdfdhfcffghaddcfbghgggafgbhdadhbdhcggccfeabfhbbadafcegdeacegdeebchgdbfhahheaafhgdfheeefgcfebfdhbhdgcedahacccghgheedcfeddgfabghcadhhdebdeegdcadgfdgfahfghcfebfbeaheedgfabaggdfefcbgcfgbegachheggcgfceehgfdaagefaahebacgdcabfdebhfhdggehcfdgcbebgbbbhbbcfaagabggfgfbbedggfhdfcdfgagefegafefhebcafdhbhbhfghcggecahdbgdgfabagbbfbafgcabddcecehcgcebgehbffhggecgdfedeegceeacaefcceffhfcgdhgabeacehaafhcbbfhaaabecghcbafdfccadgbcgfedagafbghdbdcecbagghgcbedbfgaehgggeghgfhedfefgbedcbcgbcebdeegdgghbgfgabgeacheghdafhdeghheefcfdahdfdbffaeehbffdhgdbacahbaafcbdeabefgeghcfeefbdhcafagddfgfdfbeecagceccffahafhafgbgabageabdfhgehahgabgeacfdefhcaeegcghgbffbcfcaabaccfcgeghdfbeaegfdachadbbbfggdagbefhhbcacacbbhgacbcgdadaccfabddgegeefachcafbbbehfhdfddagbfbheghaddhdbhbgagaahdcdhhbdfhchggabdagffgafagegafcbacdhghhdefghcchffheagfceadgaggdgcebacccdgbdgdhbeahefabbbdbdadeedhcddaebfcddcdecdbhfdhefcddggabfhggfhgachccgfgbcacddgbbgbgcbfgefdcdfhdgcfagfcdgababacgfbedgceafccdcdfecedhgeehdbgddcdddafdcdafaefachhfccdheaadgggdagdfceafdbdggcagcefebghcbgaedgbcbhdbfbfcdehaeaeadghcdgfachfahcacbbcfcffeabbcgfdhgdfaaagdeeefbgaegahdageachdgcdcehfgeagfeeagbdacgeecgdcaacacdebgagcghaabheaabdecbefbheaeaddegfgcaghbbfbgccdfddbcgdbchcbadadccbagfgfehfgefbaecgfgaahegfffgchhdhabceeadcfadbeggaccedacfggaffbcgbaaddbbcgahehfagdheeefcachhgcheededfggbfaafdhhfbeadfeffhacbcdaacggddbheaahhefacfagcbhcdcfeabhhhedgdbagdagdbcbchbcecahccacghebgaaghadbfdffghbffahfdfagegbbddeagaaebfcgdhaedhfebcaagabcghgdhffgfehfdgceegadggaaahedeabcdhdcbabhghdehgbbfgebegabahcdhhccbehdcfgbabfgeeeddafbgbbgceehcbchececcafaehbcdecgbcffgedaefceaehcfeacfdfegacfhfafedbbfgaccfbaafabfhahbgbeecceegdeefdeehhceddhedfggagdgedcaheaahadbhaaebbcgcgfchegebdbgfcaabdbchbghddcaghbedadbageedghbhhdaeeefaacggccdfddhagefgggfghdddafeaegfdggaceeaeddbfhbfgcfcbagabacegeeddgffagabdfedfdcgbaedghagaegcghgffcgdgfcebggbabbcahggcahecbcedabaaeffddabageacfaaaafbdbhdgcbaffccdfhfegbbcgaedfdhdgbafbdcbgegcdcafbddedddagcefbfbddcgfebfdefaagdgffhddadaaahfhdfeahbgchacdcgchadcdehhhdhhcahfgbbaghdgbbcegfadhbcbcggdcbhgcbbbfbbdhfeaacceeececeahadcgbddheebeccggfecafffafedgbdghebehddggadahadeffdaacbefehhghegdghegffchhggdbhcbdebdeceeaadgebefhdhgecgceabdegbcddhggcahfehcghcbcehabfeggbfcedgddhefgdcecgcbgeeebfhggcdhfcgecbfhebahachhgegegeeghfeghbffffhaheeeaccccbacbbbfaeeheffghfadchgdfebfbfbhadeegeagfgahfcbfdceffeghdfacfgbddfeefbdcfdffdeafgdgeffhbagghehhgedeecggcfggaeabfbhdbeagfdaababagbabgbhdbghhafcafafffhfhhebfacbefafddhhaeccadcbcahgaddbhbcbfedadafbghagggbacfeadagfcgedbafbbdfdhehchbfcgcebfccgafbecbgeccfcccaefbeaggdabhegbedafgggfgfcggbcbbfcbacedafghefdcdgdhcaabehegbadadbebfabhfcgedeedgegbccdacheafdgbhcbfcgefebaaeeaaacchgahfebahebfdbdbfdceagecbedhcbgcdadadhbddafhehecgabahedffcbgegfhfageadggghbgbeehhbafdeacaedafggcdabdcehgaebacbhcfdgcfcadbhahbhcfggcaehhfhghfggbcbehfgeafcafhgdfgcgfcbdfhfgdhfbfaefehffcbeedafeebbfcafbbedffebcehbcefhbfghafffcegdhhdeeaaeecedafeaddeddbccddheefefbacbcgffaheddagbbchdfcdfdfgahchhaaccfbdabgcchchedgbbfbdcbdhbbhfafgbfgbfbgadghehdfgcaaebbdehbeceaabhfheaahfcegacfffbdeafbbfgdfcedeghaeechbcdbbfghcbefaghddddgdbdeaaghchhdachabhdcagabbehhfgcdcebchhfdahhcaceccbfbdecedbeeaeagchbegcadfhcedgcfhabedfbebfaadgaabhegfabdhcaaaggcbhagbbhhdaebbbghegebebcdedehhedddgcbdababaagaddbagfggebgdbdhcdddgfghbdcafddfaggaeahefccecacgdadhdfcccfhgcbgfhgfhddaecaaccafebbfhagcdceadbgfhfdhdbbdbhdbedccgdehfahhfdgfchbgddgdcacacbabchbccedhaffgghcghagffegcdcaeafgdhafgdbggfaeeecgcbahbadddahgggafbebhhdhdbcdffccebbacfgbceaafbgecafdhadbeedhbfebfefeabacbbfhegachcafheaceceabchhabgaheaebghaggahbbfdbbdghcccfhdcadafbbcaahhafcfgcdhabbehggbcahechbdgggdbhgbhchcbgdbddccacbheabcgaafgecgbbdcdcdeeghfacfgceefggbdbbcghfbhdcfbaefhagcgadeaacedhdeehgebahheacdaheafbggaefdhebcfcgfbfffgfebaaghhfecefahadbffbhdfffcadehdhfahcbeafdddhaebdffhhfecaeeefabhaacebafhdfacahgcddhdadfcbcebdggdbddaaccgbchcghcbbfabdefbacaefgacfadbgfcfgfggbecfffedhafbgbfadchebgggecghbhhdbgbgccgceccefabcgagdhfbaabfhgdfbcbaahfhcbcadacehdgcdbadgagheefhhehgdbfhacechfbdbcafbcaedchadgghhgbggbfhfaghcbhfdadbhagbcbehbafaahbcbcbfbdfeecaachffbbfdbbhhbeebhfghgefhehacahaccaaddachhddaccdhbgbaeaeaeebcdbehaecehffgcdgfgfgbecddhaeddcffacaacebcbeceeechebcbehchcggaeegbfbeddahgfhdchacbddedehcehhdaddgbgcaafeddcfcdgddfagggbgdddcecfeccaccebfdfddbfadgfchbbhdbgbcgfehffgcdfhccehahddcbefgdfhbdfbhbdfahdgheccfgcbhfgdbcaddcfcddeebddaeedfhgdfcggcebhhecdedcdbhbaabdbechfchcbfhgcccffegaghfdffddhbcbaddbfcagbfdabacghbecfadgeddgbcgeggfdehggehccdbhgahhaacghbdgcdgfgddbbghgehffbehacehgdbcebdfeafbgggaefhcdehefcgdhaefeegebgcehfafhdefhacagbedfaahgacbfgfdgfhhebbdafadadggfddcdgbfabgfgegdfcgbegdhbhbdfggdghfgbfdfdchdgbfbaecgdfdbdaegaedgggfdgfaadhhgfabcdfbeehcccghhfbcehahehggaegeecgccbbgdefddffgcfgbagedeffhacegacdcfddddegdchcccdhgadhhghedgabhbbefcaccbggaebaffeaabhgbecdcffeddhgdagcbeababhfbcabafbgaafehebgdadbafbfbchgfbhfcagehbgehhdaebdggbacbbcfebghhdffdehfgfgdbgcedcgfhegbbhbcddbfhahbgbhccbffghfdgfbadbeghabgefcgbfefbgghbbahgcgadbhebbcaabedbdbhcedacbhdefebhdhhfbcfccgbcacfgbhgcfbfgfadaehahhghdahhgcahhghfegbgbbahecbbbdcghdaeeeaggbdcdhegcghhcegdfgcbcehcgdfdfebebabadbgecahbfbfecgcddebgbbchbfebhbccehghbbhegdcdghbebdhegcagddfdbhacgeffbafdabebgddgagcgaeageddbdfehgabebfbhhbgbhgfedffgcbfadddcddfchaggchagffafbcgeaccbfcddadcdfgbfagcdgbeahhdeggcffbggdbcfbbhacfaahaggcechcbgdebgaebchggbbaabcgbgddhbefbhdfdcffdbfffhcaeadgbdbdcbacfgbaefecgdhehddbdbbdaedgaddfeegfdcgadbbahcbbfbehheccddfhdhhbghfeahhfffhbagceghgfhgabhaagchddcfaacfbebaaaehdcebhacffcbdegdcdcdhaaaeegbbafecbgbchebhgcdhceeehhbhahaehdacagdfgfacggbcbhgbfcfgfachfbafahgcegahaacheafddgaghaccabgbcfbghbabfdaeadadcdbaabfgcdaacbdeehgbfddhdhbdhhbddfhfgbgcdbfagbeacabhadcffbefbahfedgacagfhhdbbeafhhcbgbbabgghadadfhcbffffcadefdadcgefagcagbgdhbfaedebggdfcbddbehghdhccgacbgecbageahaehbaacdbhdadgfbegcgeeebbeecdhdbhhcgbedfcafhfdhbfeafcffhegdghabbbcdhfefdbgcdghdehdgccfdhbhaagfgebdfaahecefddeacbebhgahafdhcbdhahdghhcahcdcedhhhcaaadaehaeghhcdebdbhdhhcbffgdcdeeddbhaceahfaggehegddgfeagdfghcghfcbgbfdhccebbgdffahabecegeefhdbghadcgeaecdhdcbggggcedchhffgbbdcecdcffaachcgeahahbcdaddhacfgbgeabahbeghgehceebegccgbfaahabgcffadghgbagfchdhhgcgcafcbfhcfhfadheehfcbfhdfgdecchhhhadcgdadbfbcdgaeacdbbaefabdaaeefaegfdbgcgcbbgfdahfbabbhbheaahcahheageaagbahehfcegdbageagaffaghgffaahcdhfbgbehffbffbgegfhdhcfefdechcgbfedhaccahfbhbhecgaggeaeaegafghgbhgchccghdafffdedachdeeahhaahfefbgcfhghbbbhgcgaadgaahaabhabdfgbfahdagbagcfecafeeefaeahcdghaaeffdhdgfhacbchaeedhbfhefbgcfegccbaceehbefecegdbagadeaechadcehdbhbeffhdgfehefgbgdhbebbechefegbcbbebcafghhgghgbdbahfcbehafeafdgfgeefgegaeaehdhfaeedbbedbahccbedchddbdfhebcbdacdahaaebababcfefcfhccddebcchaaahabdcdehaeaachafddhahfbhgbbfcccgdagfbfhdegbbdbccbfabddcefhgehbcdaghecbebegcffgddgegeadbfgchbbfbbcahcfbfaacdgdcfgbbdbgfaecbhbdaehhbbhbfadbdefagebegacaaafefedhcefddeahedageceddddgcechhaefadhecggaefcfdhcechdgbcchdbbahhbddcdbfagfgcegefabecfbdebhdecdchaeheaddfehdgdffghbgdfdgchadbfhbcgaedcggffghefcfaehehcfedafedfcbhebhcgdabcfhcggeefgagaecfgdfcegcafcehfabbehbegdcaahbgabdgeageaabddagebbcffabgffaggaabecehdddcbbfabcagdefegdgghageabghdcceehhggffccggbedgbadhfgdbgcfaagdhhhhaccffbgfacdhecbbbceechddabhdcehcccebhhcfadebbeheghbbcfgcdhedgacefgegbhgechffgaddagbegegbefceccfbfecabgeabeadecdcgafgdbbabfdgfehgbgabhdgbeeadhhgaddbbfabehedgfcccbabbfededabfbffgcefdebdeabahfhcafaccbdedfgegfafcbhagffahhdecccabceadgghhfeeacgfbaceebgadhdehfghcagdbeabeaaggeecgccgbebhcefadagbggbahhgaahdhchdccfcgfeahfebhafefeaagfgeabdgcbadahgghhfehggbehadfgbecffhcdacdhafabdcceeefhafgdbhefdbheefdhecaghhdggafhecbhcfcgeaaaaghgccegcedadchbbfgchdfcgghgfhffheffghfaachdcgdegchccdbfeebgddegceefbebghddaceefdcddehfdfghhgdhcbfechcbacdbhhbachaahfcfbbhafdgacefdabgabbhfdbdedbahcbgheddfgdgcdhcefhfhegeaeagaeegcbagaedchfhhhggcbfcgggabcehecbeagcbehbfgdafhfbcgghdeacehfbdgaffhdeffdfbdgecdfagfhhhegcdchbaghfbgahaddceafefhhfghdgahgecbaabaebcfghhffdgdbcdhhhbbhhhebgacgdefhddheghfaehehaeahffbcedbgachdbghefacebbdhgffbdfggcfecbggaacgefabdgbhfhebcddfccdfdhegehhfdggddbacfehfbceagefacfehgfcgdgeafbheeaadabffeaegagchehdafgachghdccaabaefhdgagggfeebhaadeabdadabggfgcabbfafcagdgbcahhdebbaddbecahfdegedddfcgfdbacdceefbdeddbheagddhegafeebaebbdfdhhbadbbhgeahcafgcdbghehhggddedehehchechhafgdfbgbbbegefahdcdehchdffbbfgbhdaaacgfbfhfcdbfeafbfhgccddeheecagbgfgeebedchadhdcehghgacbgahhggafcedebgdcffefcahdgeafgebgeefdgffbceabedfdecdeecfhfeecbabhbecaccdebddgaagdcdegbdfhggeehhbbaabdabfgbbfbhedfbacahggfgcfccgcbdaaacacffcdcdheabdgdbgdcfachhbhddacffdhdhgacbgaaeebdgccdcdhgaceccffgcggfacdcghbhdafhabbbfdbadcbhbghfhdhffhcbaahhchehchdcafcchbeeacagbgecchdfdhghdcceacbacbeedhahhfchecghcaacahhehdcehfcgabdcdbchfhhbadgbcdaefaegchfaecdecbaehfdfchgcabaafbhhhffeaefcbabcbbhdcbffbehgbacagfagdhabeehdceebfbddbccbfhghfacdfagbafheadfdhhafgaaffcbfdhfacgccadhhedhhbbedfbgfecabbgadfhfagdbfcdbfdabbeceggedcehdggdbgfhhgggghcfhfecgcdeegcgfggcebfcdfcbbhfdfcfhcbhchcfcbcgddaehbbegbhccaffafghbbafhhcehabdccaaadfbfgabchghcddgbdcadfchgafdcabebggehadfcahcfcdhfdeacccfbcecdadcbbbhdegfecfcacffhcbahcghhegbcadhfeehbafcbfgceeafbhggaeafbddhaegcafahghdagdaeebghdhfcbbebhhhgdcdhcbgeecghcaffdddeafchdhefdeedabhcdgafdcgaaadhegfgcgfbbgghbbcefbgadccbbfbbadffcgdegdgchdgbbbdcbhggdafhdgeegaeadhcbfaadefhdeeageafbgggbhddbaffgfeaheddfebgedfcaecgecfdghaddgffdbdddghdhcbgbbbcbffgcbffhcbfbcfdagdhcbffaffedbegbccgcggbbhfcdbehdagcbhbbggbfdgaabhchcgegdbfegabbbedfhcacafgcaabghbgadgffdadfaggcehfggffgchaehahggeefegcgecfabchgehbfehfchddffhhedfefhbdfgagbhdhfhgeebedhaddfabahchffdbeghgaadbeedchgebdehaabeecdgegaadhechacgcffeddaehdgggehabeabgbgafgdedgcgaegeahbefcehebaaefdfaeefegfecgehbheaffcdbbabhcadhcegfbheabgbbaggabcdcgecgcbaafhcbadceaeegedebaehgeegaefghfgcbcaehfebabebfabdccgefachgbdchchabcbcdafffbaeeghhfebabhdcagecagbdcccadhhfefaceffeecedfhdedhcgfhgdghdgbaaffcedbedfggefgcafdceabecbfgaffebeafgcfahgcccehebfaedeaececaadbdhdfgaeacddeebehbfbadbcghfhdbgchhecdfcdfbggcdcaaeafcfchfhcbaagddcgebgdgbbcacdghddcecegfahbeacfcdaabbhaahbaabahaabagcbggghhabaffahaffgacddbfgccddghhhhabdcecddfaddfchabfhebefhbgghhffdggcbacgfhbdebhhaehffffafghbhdegaagbagdefffbdchaceechfhddheefhecaeegdhgebafdfddgfdhdfgfahcfhagbbeeeabgababcafcabbgdbbggceccagcbcbbebcedachacdadhgaehgbdfgbdfhccbcgfegcgfccccggabhabdhaggahagchfdhchgaeeadegdgbgchfbabdahfghaedgdebebddhhhgaadcddfacbaccbcgegbcafafbddbdhcafadhdbaaefeafaaahhdbecheeadbhedcdaahhehefbaedacdehdcbbeghhcbebfddabacfbbfbbfhahfhhbgfgfgdgbbgebeaabhfbbhcfeddgefbgbdegggbbfebehcaddaaeghgcaefhecfgagfbgecbaeabgbbdbgbahdagcccgedfbdacecgbhhhdcefhagaggfdddhaahbgdfdbbbdhhbcfaegbggccdhaaegbfbfbbgbdecaehcchcgfecbhceaahcgcbhgbeaaccegchggdebccbcccbgeffcbcgecafcbhahdadfbbbcdcgaagfdgeadefaacgegaacdgccgfdafgfbcdchbfbbhcgbeeddgagacbfhhbdcebgdadhaedeeceebheccfcdbgddhfgaeegcaheeeddcfbfccbacfecbbaedaafddhfhafcgdaaaghcgghebhbdecgeaeagehbfbedgfgceagfgdaaagbdbhbchechffbfgacdbcgffgegcaaccfffdchdhbbghhbhedhhgbadfahaaahfcbgechbfbecfdbhghaecbadhfabagcahcghaghbdcbeagggddaacdeeghhghbdhdefbheggdbdecahgfeccggdefdfhbhfcddgchfccagadgdbdacfbaghdbdebeaeddaebgeccchgfghbeeagebgeggafefehbbfafhgchcefachgadhhhghdffdhbhfgedhegefcegddhhfaedhhcgaadfddbeggdacdfaahcgdcbhfhfacfaghcefhffecfgfbhdehhhheehhgedeefaefgbfcddhafbcdcffgggcdfdfhagbgchchgcdcaghdcaehbgfecagcfhgdbadfhccfacacdcfdbccbcehacheeeaeghahhhgheehbaedgccgbgheheccggchagefebeahfggefeeedgchcggheggefcgfgegchhedgfbchhhcbcgadeafacgffegdahdahcecbgbacheheccfcdeeccdccacfdbhafbhhefgdecdahcfegadfdgebdeccfbggbdcbbhchbbcedefhcbcdhgdgccfceaebgadahhcafdgafhbffeagcchaeebacdddgaebaechfeghahacafdadhhbbacecgahhfdaeabcbaecbecdbfchafagfhbgcfffeebfhgebhedhdcbeghegfbeehedccghehdcbdgfadffaeehdaceaffbgfehbahchccadgbbcfeddehaecgdecdeeddefecegdfdgadadddaagaeeddfbeeddfaahdgefaaefdfdgffhedefhfadaefadbhdfcfchhgfehaaffacadfedfefdecgahgdehfedggbbdcebcacbeegbgadadagdhhdfgdhhaehhbbhcheaddcggebcdhfaadacfdahgadabfdbacdebagchhbfdebdbfccebbcdffccafcadegcgcddgeafhbbcbfachgbhegdaafhbaffhhfdcbaehbabfeaahebaagcafhehdgcdeaffbggegfdhaghgcgbgbdbfdecdcabehecacgafcceeheccfcaabgggdcafeefgcacghgcgfcgdehffhgdcccehdhcgfhafcgeghcbbgchbgadhgbdegbbeefabhdhbbheagbcbgagcbhbhefhfceefbgcbgbgdeehbafcfagbfhhcddgbeadahhcbefcddhegfaddfdbffdachfadddbbcgghhdabcfchhfhhbdfadebddfdedcebhdffggfbhbeddfgfchhfcbhegfbahbfafcafhcecgdcchhbgbedacefcebabchdcbdhcbfbeegbbabhbbcbdachhfacfbcfeegeagahecfcaeeecefbgbcfgehgfbegabbgbeaeedghddhbdhhgddegcdddagedaegahdhdacfhbbfcdehcebcaefaagddfahcaehecfdcgdfhaaagefcghfdedahbccddfeadeebdadffghfaacfchceghcbcgfagcddchfgfgbbbeccbfafefdhddbeheebbfaggfebaabfehfegdgdffhagfdhahbahfefbhfhdbcadgfadbahdbdefabhecacaahcdehfgdaacfccceaadbgbdfdfeaafafdedcbbcahbfgdabbgegddbeecfddccfbaccgbehfchdgdbbbaaeahhggebeffedhfebegdacaebbdgbhfhddebeghffcdecbecccfcggeafaeggcghggcfbfhahbfecfhhchgdbdghdaadhgghdghadheabehgbghehadhgfdcghdfeahagahbfacecfdabfbhddcdeccdcggfdgfhedhfhchcaecaeaddbfdhedadbccaehgfgbdegghgacfbcdgfhbfcgbfeahaagfabfbbcadbaehdchgdecegbcgedcbdcdfhabafehaecgbeagbhfcfdedgbhdaeachfcheebcaabefffgdgehceaefhaagfbhaffggdedahecccgafaghbgbhfbghaacacggbedgcfeggaabagfhdaddffdhcbfffghfchagafcbbfgheggbaddhbcbfdafedhddchdabcbdechbbdbdbefggcbecegdeadgfebgddeehggcdhcfaagebgffbeeeffhhbhacaaffgadfffbefefghafdgebccefhaeefcgebbaghcdbcgggdhbaffdcbfeafabehgfdegfbehdbdhadfgedchaghceadchaehhcgdgffagedaaahdhbgdcddeehcaggbhcghefbcbchbbbaffdbhhcggfebdfdhfgfabfbgbadfccfchdcfcfbdebdgebabdfeahdbhgbaafaccdeaecddbdhcechbhbgdbadbeedhachhgdacdfdahhhacaeefbeeghdcdeafffhgfegddfehdehchcgcbhhcfhaahhaafcdddheaefffgehdcggbechbgbcebgacagghfcgfgfaagdgbdfebaagfeefheabfecfchceefdfhfgcefcahcdgfffcgfefcbehedbefegccabfhcbhafcgahedadbbeagfchefghbdababfghecfefcahbdgffffhcacfbechfadchehfcaffbfbgfdagcggacebgheghdcbhhfecgdgahhgahbedabgbeacghhcbfcgheafdchbbghcgfgeeaebhgbaefhdbacgbffagadaaegffffgfegaeaaabhcbedbaebbhfggbhbbhcdbbbehhaddfhfdfggdfhbffahhefahhecgafgaaghcgefchabecghedfcechcbbeahebhbafbgbabeghbefhhhfgggfgabdgcggdhaeccggfgfgddggcbfddbaaeaacgahdggccacchhaacbdahhebghfdgccbhffabgefgdddacedeahbbhedadfaadaahedcdeebchehaggcgbbbddhehdfbfcecgbcagfhbehcacgeddfgaebbegbbgedgedgebfaaadedcdfggddhagahfbgcchecacdchdhagchceeafeggefgfhdghcaedghbfbefbbcffbgebdabdbceehbdcgeeheddhedbcafdechgdfgdeeabafghhaacgfbabeffehhfchgdgghhceafgfedadfddcfchbdahgdhdbefcefhddfadeggfcdffdcggfbfdhcfehbgaffafbcfachhfafgfbacfhccacfcbchcbfebbgbfehecafgdaeaehggfheehhefbaaecddbgdbfdfabgffgecccdbaedaadagdcfgchhhfhfahcadceaabfadghgadfhbegdhbcghhehdggfgebdbgfbahbhhafebbbgcfhdbcbbbgfebfhafhfgcdhcbbhhfeeaeedaecaeechehehgehegcafdggccadhgdgbdcheffdhbdbgdhfcebfdhbfghfadhffdaeegdfbehdfadafgfdabbbdadheafdgdfahhhccbdaegfgdehggbbbdacgeehhgeahhdagfaagfafacgfchfbgchbafghfhghcfhbhebbagcfhfgegefafdcfbahedbahbahaaefbeecfhefefefgdcgbghhfhfbedhaffcbdebfabhhbehfgeeafebcehfdebcehefgfebdbafdfcefbcchgbbfehbfaefadghghacfhhdehcedgehfbddbgdfcfhebgfgcgbccceaccgaedhhafecefadaggfhchgcbbhfeggddcaegeahddgafgcbfgdbehagcfeeegahhhabegccbgacdbhhedcgbgecbbcfddbaadhbggcffcbeaefgaeaecddfeaefggfagfedfafchfagadbabaaagcbaeabeagfhhhhhchefbhbchhgbfbccbabgggghecefgedcgbgcchddbffechgebbfaeacahhhfddadcbafhecahbcbbhbhcedbbagecgacffcfaeacahafdcccdgceehebbbbgefebgfeffabcgefghgahgbfedgchhahegbcgcgccfddebeafehdbehddaecghbfdfdbhcbhfdfcfbhcahegaghabeeefedbdehhgfegdhbgcfcdbdafbghhghdgabfbaefbagggcacdecfhdabfbbhfcdfcecggadhefcafbhgfhggahdcehdhaaffbgdeehecdbcadceaeahdbegdfcbggcebgfhfhbdhecceedhhhebefecahbcadcbeccgdhffbcbgghhbhbaacchcfedbbdbgbffggacacefdfdggdaecedaabfdbfefhgabbbbahbeeebaaaccdbbafbfaedecedbghgdbbehecbgdgbacgheggdeeegeccgfhaafeccadagdaaaechbggcfcceedgadgdgdefedehaecageddacchffcbffeedebfdegahcbcfcdcagbhabbdacfaebachgedcbaaeabfbaecbedfcdccbbegafdddbhghdcgedegfegefdfabfaaeefffahgcghgcgcdeffghefeagfdafdcfeeaafhcbgbdehghdbdacfbgcccaebgafbdhffeddcgddbceegaafabcbghhadfecdfegegbaddahfcbdgcggbechehhafeafgcddfhahbffafedaefgfcffaccecaehbagbheccefccegcahcddcfebeadcbagachhfaafefgbdgheddhdcggafafdbcgeadaddhhbeacahegebcebhgecbcfahbaafcceedbhaafcfhcgcffccbhbbfhdebbbecbeacagdbgadedcegafggbbeggcbcghafffacffehebgdbbbdbgfaffddhdfbcaegbbdbbhhcffechhfhdcabbafhbeedaaedddfaeghcaebgffeadeebeegcbceddhdagdcacgcffcadefeaechdhgdefghdggdfabecgbbheeaeebbbgdaddeffbhcaehegfdaeffgbgfccfhachbbdhcdhedfgdfcbhaagfdhbgefabghhedggeeffaffcdhfbggegebghgbdhacabbebfheagacgahcdefaedfddbebagefaebffgbcbffabaehccebcadbhcaahdfcbehhdffddgfgaafgcgcefcfecffdfhaeedcdfgcbfcachgfcecefdcfcaceaehedgeehdacbfacbhhfhcffeacebfbhhaecaheeghgehgdbdchbddcahhgcfcahdccadeafehhhfffbbgdaaebcfghchbbbbbecaaggfhchchebbadcfbhbdhhcbebebeaahcecghgchgdcdaadgddbhhcabdhhcdhfeecdcgeeegbagaadghgchccaebghghebfdgdhhdffbedbhabhbdeehdcbbfgdcaefgdhghebfccdcccfcagccfeffadadaehbdhfeggahcggceagadabgeegfbbcghfehehdgfeachefdeagdfghefeddbgdggabfdfdegcebccagbaccdaaaahbfchdchdbaahghfhdfhadhaddeafghffdbbdafbghfahcggchgeceefafcbfgbccbaeabgfeadghehaaachbhabbdgdeadecbgfcgaaffdcggbcgegbadghehdccgfeaaeheaebfedaecccddbdcbfgaafacagafbbgbcedaefhbeghdacchaebadeegadfeecfacdbefdfebbbcfccgeaddadfafeaabchbfdccbbaecfbbfhhcbhcbfbebbgdccadaegefchdgdhbhcadgdfefgaeeacbgdffacbegcadaheacebgggbdehgbgchcfhcdgcdccdfhdaacfgbacgaacfegffafdahgcahdgeehbdccghfbehbhfehcdbahheafggedddcbgadgahhgfdhchbhdagebghgecdbhbegbggghafabchhdhccacgebefbhcgdcadhcecdcabedhaabefbdbfcebagecbgeafhhcadffffedfccfdceeeafbfgafdcccfhgedbeadeddhefbcdacgcfhcdheaedgcffbghbhddhcccgafhbdhgdafdbbfhfbgbdbagbfhhbffebaehfehhfhfhdhcgdbdfaaehdbccacggchgfhhbdchcebbgedecggbdehaefbhdegfabgcadfaafdafdebebfeeaagcdgcdgedhbdgchhebhfcagbdedbhchfdhbhfbcfdadhfdhbgaadcdagfcdhhedgdgdggbdbaeggeffbehhfgahhabfffhebbedhgabdhafbffefffhhadedfdheeaeeedefbdcbhbcbbfhgbedaghdaefaggdaceheccbccdaeeabhcbbacgdedhcegbeahbgfdfbdbcfggdhbcbgehehefdfhchfdhcegaeagfcbbcehacfffhafgehecaafgfbddgebceadeabbccehadcbdegcefbffghbbfgdedhdeeaffacebaabchhbddccgfcecgahaafcfheeeagebebhahffffgehfadfecghddcachadhhbffbcbaaceabeddaggdcgdgahfaadahfdhhceahbddddgadhgcfehbdegcfbafhafbbgdebeeecaadagdbeeeedecfaefecbgddbagbgdhaedhfdbdgefdcaeggdgcahabaeegaaefghachhbfecahedgdbcdaeabehfcghfchdaaadfahgcaedhbfhcbaedbchdbcecfbghfeedghgcegbbceebhgfbbacafhcbeedhdaegbdbfdfgadfdabgcaefcabbdghhfegeegffbhecaabfcgcegechfbahdccgcbfgddhadeaeeageehgegededcgabebadgbfdchggchhahhdeggahbaefhaffaffddeedfccgegfgbcfddebfbcbbegcabadacfeabhcfeehagghbgbgeeefhaafffcaeheedahdbbgccddacbahaahfghdfhfbbhgbfggbaaafhdaghghcgdccbfdbbcededdfhhheaachafhchfhcbebdgbdhfbgcbdfecccchhafafdgcegahbaebffddcagahegbcddfdchdcfdcadffhddeachbbgehfbddedhffaaefcabafebcdgcbdaefeegcccdfhgfchecefbefaaacgdeeadcfaggfbhcbcabaeahdhddfebbehbhfeebafbfbbdacgddhfbaafhgccahgaehfgegbebghgdcagaafafaedddhccgcahcbfhbadcggahbbggagegdfdeffbagacgccfafeedefcdffhcfhbhadacdhfegfcdcabggechbgcabbbfbdfcfehgeehhhhfhedchcbgafgdhccghdfddfbebcedaffaceabdfehhddddebhefggdhbggacaadhdgdefhhdhddahddhchbeccfacfcachhaehahfgebgbgegbaacdgahbcaegchecebhgfehhgadcghgeabfacahcceecgabeeaabhdaddehebeafhfdfcaaaffffhdbgagfffdchgbedhgcgafdgaedbebbahhgefafecahcegbdfbafbafbhedaeggeahbebhbabgefaabghhegbdbgafdaaaabaggffeaghdgbehhbeaacdhbffdbefcbgfhdeabbadfedabeabhfeacfecbabbbbbcechabggadbdebdgaefgbbcahdehfacfcddgeccaeehheedgadadacdaeaeeggbfaghhffdddcggcbbcfbfhccdehffehaaffgbedeaebbheheaccgfhbhceeebhgdggceaacedffdfghehefcbehfddaghaceceecdegcdefefgfdchfhgdcdbbabacghfacafgbbhcdhfgbgdfebbffafdfahhfcdcehdgdcefcgefbgbhahchbddggagccbceegeebgeaafgbbgagdaacgfabgebhehfdceddbfhehcchaecfbefahbfahgacdachcdadafghbdeefhdddgcfdcdcdfaefbgcahhfebahceddedcfacdbbacafcchfaafhdadfaehhbdgfeebhhgabeabghdgbggdgaccahdfacfcdeabbhfdebbfagcbgdhecfgdhdbfbhgceccdafgbbccbddbcbedgahaaedcafdbcfahdebhhhddbcgfadbchgacfhfbfagdbgfafchdcdbdddagcgceceaadfcbfbeaefgcgbbbfdhccfdddhhgddfdhcbecahaebfaddedffhcfcfbccghheeaehcdhacaeacgacbbfcbbbggfehehcbbdfcbeeddgffgefdhaacdgedacgchdbecebdabbhgfcfagbbacdhafhdhbhbedacgadhedfdgfbagdcghdacfbcbdghgdbceegfbccfgahccbfaaddfhdgabfgebgehgaefcgaggeaegehgbeahghbgdcdaffaafffadfheeddfcdcbhcggbbfdhchbebfbddcffahgbebhehbbcacgghdfbfghafehgfhcdhdaeeagcchadbdcdhedfagfddebcggdbebfcbgccdgdgaeafbhchcfhdhcfbacadhfgcehdhahadhhghefheddgehafggcefehecgfghdbbehcecfehchbdgbebdgdaafcbbhcfaaacgedcdeehffafcadgfchhebaecbaedaecgefdagcfbgdhhacfhbdachadehdebgaacbdhhffeeaagbadcgddcdbcdeeddggfhhccfccfbcebecaaggdffdhacacfbgafbfcehcadgecgadebagbbbcbdddccdchhchehgfgegegacdehfgegcgbchbdgeccgechgbceghdfhbhabebaaceegcbaaacedcfbaghaghfecdeaadhfcbfhdefgdcfefacahbabefaehebgbcahfbheghdhhbfeccfgfcgfdceebagacggchgafgeahdgbbgfgeagehgagcagecbcdgbbbefdaeaabbghhdadfbchddddhgegffccdgcdcccagefhgaehhchcfddaggbebfhcghaddfhffhgffahfaabcfdacafgdacfgggcfgafdbeeeaghcahfaffahbafchabfdcbahabcdcfbfggdbebbgeecebabfaaffdcffachdebghaddhdeeadgaaddefcfbdafbfegeaaagcchhaecfhagdceeffhggddhgfcahbhgcaadeahcabfgeededhbeagafabbebaeffbbbdeebaacbeffhhcdgebghhcegbcagbaahcfchhccgdhehdddffabgdaadacedcfgbhebhdcheegfehagaddbghbbfcaaagfbcbchbfhggbdehcbbeffdcabbfcdchdabahdfhccfhddgehfafhgbdcabhebfcgdfgghdcegadcchehfecgehhdbgefchachfdccbfafggfhhafeefbgdbfbeghdeecfhahaeedhdeggehahdeaffheeeeefhfhaaaehfbfgcaabhbfhffgdeegddgghgfacfcffffcfafcfdcbdfbfacdhagdggfgfhgdafahbgdhcafhgcfdbhdafceabccgaeafhgedbdcgadfededcadfchddggfecefhdfefhdeeadhgadhffahbfcbdaaeefddhgedddbebgdaeedbccfeadchgbebggedfebfhdhbgecfgaaeacdaedheecefcfggabgaddhcgadadebbcfebfhhdgeaagbfdadebhddgdhhhbdddchedebabfdhbgbadebccfbhhddcdhhbdgebfaacgggfcdhcdghcchegebeehhgabcheaedgfbfeabadagddfgdbgccdabgebfehcebhaagbeccgeacfhcabgcdfchgagcegbbcgedhacdaeadafdadcfaffcggfaeffgdddaegabcebdhhhahhfaebgadcceeadcefbaecdhchffhbhadhdgaadfefccfgaecaefedfeghdcedgdebbeefgdcabegchdgadabdfdegcahdgfhceehgbeafbacfecaaebedhcbhcdafcgahghcdbabecbehhfdcfdbdfaahfgbhbachaageehchgafhgebdhgfdhcacbccadfhcfhdfcbfahegfdfghcegadggbbadadafbhbcchhehdcgcgebfhedhgfbafceahehebahhggfchebedbafhehafdhggccgecgfgcacfbbdefgdafdchgbcdddfbgcfdhhceccgegacaffdhhhffgfadbebcchcbeaffbdfecgbbedaghegafehefebebgcahfgbcehabeheahhbgafccffcdabfaeeadachagcbhgfachhdgghadggchfgbgfhgfcbeegfahgdfcbahgheggbefggcfagaegbhcbaceaaheaheeagafhbaddgcebaabfdabdccgceahabaadcagdcdfeddffdeacdadddgfhdebffbgbgagaedcfcffhggahbebceddhacbehcbbfhhfehhhaechedhhgceagcddeceebdbcfdfeghdcfabegafdffffbcfdfcggdchacfcaedbadhaahcchhhdgadfedcagbfaccchaabccddbgabagbbfaffhhcgdefebbfchbcbgfbhcfcbheehfhdhffhacdgaghcffbfafffhfceadegeabfagbgahefcaaagbhbdbabfacehbddchebbgagbbfeggebbhchbfdgdhcgggccaebbaghdcbaghbfgfbehddgbaahgfbbcdgabeebgddggchehaagfgeddgefeaeacgchehhhdbfdfbagdhfegdacdddfbaabbhfbbcgddcehdhbbdhgfdgdbfhffcadehdgcdcfaggggbaedcehhhfdahgfhddhbeccdbgedbbaeeadfbbfheehgfddgahffafbahbebhbbaaebccgedabchhhbccdfhbgdfhbfdchdgdfegfhgehcdhbfaghcaggagfcdbfafcgdeeddehgdddfdfcchcabaddabhdffhfhgecghehfbchgabgeebfacadhbacefaehheacaafhghdhhcfaggadcadaffhebgdhhdhghfeeegbfdebbhfcahcbddhbfbdbghhaddaaafaggfhgghbbfdecaeeegfgcdeffccgegdhfchbacbdhbhgbfdaahcadbaacaheabcdffafhgcheaegccfgchbhbabgahdcggfebcfabefdfddghgfcfcbbeahedhgedeefeaeedggabcffhacfcdecgfehdfhdefbfgagdaaacfaccgaffhhfcdcffgbfaadgbdcffhffhhfdghghdfccdhcdaaddaefgbehcccaebdgggdaahdhdbhcadgfaggfgchgacbgdefaeafehcbcgbcfdfbfcfdeacabecedfeafaheageefehhecedachcdhagchadbdagefdggdgadfaaagfcahecddadaegfbadabceabehhagedbaffddgcebadbfhhddgbcaagabdheeeggacgfbfbcbeabdfbgghbeceaddhcdebebcfghhgacdbfcacdcgbcbgafggeegchfdhcaefhdbahcgeeadbdefhdebhffaehdafggfbgahfffeebdbaebhhdhfccheedhcdgahfbagaefdahafcceebfadfggcabaadhcdbeafaddchcebfadeheghchgaghheeagcbaedfbbhhgcdccebhcbfgfhabhcdgfdfbagfhacdhgfehachhcdegcgafabfebfffgcffeheeceagcdfgcdbgdefgbeaghchbdeadceeabgcfgfhbcagdhbdfhecafdeafabcgagbfbcgfhechggfhfhhefaeabfgaeadeefcggbffecfgfbhcbbfgbeehbfefehdcdbcfahghbggahhgechaabaahghadgfghgagabgdhdbeadbdgghdbcghehcdaebggbfahbccbhagececbgchbbdehhhhbedeaabegdefbdcbacaeeagfdhcefbcbeabghggddbahbagchaeaffdcfccbbgddfdfedhhheaabbddddgabcbeecfcghcbhegagfdaebaacbccgbhbbbbffdbcacafhedahefagdchehdccedfhefhgfggcacaeaeadhbebdhcgbbegegfdcbagccfgcffghhagecdaadafaebgdggeccdgcaghgbadeadffhfbdcafaffedahdahfahdaaecagbhbggdhfdafcegceccgebfaccgagcdchabfhbafcaehagedgccedhacaagehahhgfbhdebgcffeffffghgdgbfhbbdhdhfcgfhghbggaddfacebegbhcgffcbccaedhhdfcehcbcefacfdadbhgcgaggdgceafeccfdfegghdhbcdfhhgeddacbafdeaabfgfefeabecbeffaeahggfchbcccfaghcbcgbbdgheccdbefagecaaagefcebecdfabbhhhbcgdhaahbeeacegfcbebhcfcgbhfgdcefhaedadaacegbgghbfhedefabeehaaddabagddfeacfafgebccheecfhhgcfhaghgfebchffcehgcdhhcbfffhhgacfadeddeghfghhfadffgaabbggfcbgaafhahhcefgadcfadceecbefhbbfchfcchgdfebhdfbdhfcbadaacehgfdhhhdagfahaegbdhdhgfggbadeeabdaffedbdddfbdhfaebeeggbgdfedceghdfbfhaefhhfghgdccbaeehbebagcbbdddcebfdhacdahcdfcdcffgghhafbacedaddhffgegfbegbgebcaccchfhchbbhcfhdgaaedbfgchadehceggcbdfefaeahhdcfddhcbbadafhaghdgfecdddabhhcefhcghfdahbdheddgcadegdhgddfdhedffddgechbgehchhadbfeeahghceahehhbehhbgfahcafbadgffeahgabfbdhbdeadaabhggbbhedhfbdcdbedgdccfegfecbdaafhbggadghfhhhggfabaeabcbgfgcfbahdfbbegghcdbahfhebfgafhfefeadagaaffdhaacdaebeddafhheacgdegegacaegbffbbhebdgfdfbgheadegdgedeacdbbddagcfahhcghgfcbgehgcfebddbhhheebdfcbfhcefdggagcdgddfbahfdceeahefeaehdfeeegcaedaebcgahfcdhacahfdbcfcdcbceaghcffgdbhbfdbaedafedgecfhdcfgggbhadbaeaacefhbghghbaabcdhaafdcghbhfbebecafefdfdgbdhcgdgaggaabadbfbddbgabhgafgggebcgcgahcfbafhddgghfdccghgcffggdabafgcbcfbfcdbchagbhahbhbabbhbgchbgbcbfbhgbefhgeceggbffhbbdebbdebdagccbeegdcdfdeagaeeeefedffahaabhcfcehbgahhdddggafhbcgfdbbhaefcggfhdcddbdfcaefdghchhfcgdefbehdehdhfebcddacdfhgfdacdebdgaecbbfaahahbccdbaaahdeddafdafddgbfdhhgebadfceahhfcbefdedbeghhdaaafhdfhhfcccgecgecdedhbbcdecabgfcdceffebfbadcghadbeehffdccdedadabhgaedccgggfhafhhbhdbgceggbfadaagcgefdhfhhegdcfdfaagagegbeahbeacfbgdffadgeaedfgegheaccbbcgheghhegebgehggaedagefghfhhgcgegaheeffacebfbeadffhfeaahcffdbghgedhhheecchbfbfbfecgaebcgfdgaabbddcdcceebcgdadhechdaedbfedcggebhedgdeeaffefachhbfbdebabchabfddehcgahbdhegdbdfcafgbeeehehafcagacaeddecgffcafeddhaehbgbhgegdeeedebfhahhfdgadfgaebghffcegachdahcccedabggcdedbeafebgehedhefceeceeadecfchgbdcaagadbbgcfaggdhadhcfeebfabafaegecgcgfdhdhceabcbbbcbgcffdbaeffdcfacecbegchagaacdgeccgcfcdeechdcbagabffhhbbghaebagfdffhhgbddcgdgahbcaefcddaaegchcgahfbfcacbcaaeccddhcccdgcfbhfgeecdhehcheeeebfcgcccdfhcbddfbgcebdggghgehaehdgcaehecbgedfhdaagfgdgecbbchhbcfhgbceahhchbhahfdhehcegeghdhghfafeddcaebfgfbaefgcfafahbbfffbacacebgahgbaaabcaghbhfhgcgcfehccfhhfffbfcecfcbaaefacabghcghbabcgfbccacaddfddbbahchbdccefgbdbgbebadfcgehgdbhbhdbcchffacffcdebagebgdaedhbdghfdchdcgcdaeehgfcabcgeabbfegaebgfgggcgffhcgdbbhcdeagafagefbghcfaabfehfcbbeaddgcfgfgbcceddbcfhdegdhafcacgefegaaafahagdghdcaeefeabcdggfdddhhbbbbfbfgfbhheageacbbffdaedfdacdggeagchceaehbefghgfbgghbehgbeehgbehggadfgeeegfbdecbbghgehachdhcfahhhfcdceahfbdfddhgfdaedddhcbdhgbfbdhhfhadcbebhgffbdbeadfhhhggccefdaaeadgheefafhhcbfhbagfedegggbfgfhcgefcchcgehbdbaadhabdebhhafbbhafgcdefdahcbcdagegcceeegdbcfhggecefbaedbhedeaafcehhehchdhhhedfehbgchdbgaadehhcbahcdfcgabfcchhhacfdhchdfegacbefbdhfaabhafgcaadagcfeffdbgdafbbbhabfdgfbdccecdbeegfegeeggdeacgdeefcechfhedaegffaechffhcbdfdfdbcegadagaaabhbhgcfcchcechfcehabhegfhhdbfffhcbafdgcbgcdbfhgcfgacaafecehcgffbhaccdgbbdbfedgbcgefdgeeahbebhhdabadbceehehcghccgaahffabhbbeafcbdhegdehbecghfdaccddgdhhefccddgdcfgbfhgafbfhehfcdgbhggffagechcdaaabaceaccbeghggebdaedggfecfdeddbchehbhaeghaghfghahdgdfbhhhdhdhbgdaefcdafdbbbbgdgaeeabehdbbahfbfbhfdeegccbegdfbdhdhabddchcbffeagffchabdecchbahcadgdfhafhdeceghggfghadaegghddbhhadfcfbafggfdhcheecbbhgdcbbbfgfabghfgfchagghaagcahffahccfcafhhceagadeddfchafgbaadaecgafadfgggbhbhefbhebadhggcebcefhcbadabgahecbgcacfhfchbbeahfeagefgabfahbdeacfehbchgbaehfecgadcabaghcafhbbacfaddcefcddfgecdadbdgbfbgcbdhdhbfgdbahcecfagbbfdbeehdeeeddehgebdgfeabffgfcedaacchcfeadbcgdbebcabeccheedgecebhggdbacadcdffaacfdhahbbceecchaebffccbggacdbaadfheddedbdaeagfegfggchfbedbcgbhhfghgefhghefhhbfacacafcbfagafcbeaecbdehggbeghdbccgcdaehebdcacgdahhadfgahegdebgabehdgbbafafbdheedfdeaaffgggebcbechdbbbhchdfaahcehdedaegdffdedahdbeafgchbddfedaegbeccbcbcadacfgefecadfgadabfefecccadefebghceghhbhfedcafgdhfcahcaafgacggchcgdcecdhagahhhcaggdfeeghagdgcgdfebfaggceddfdadhbbghfbaagacbabcebbefcdcddffcfcbbhhgfdggabehbaddhddfccfaeadbgahfhddfaaaehffdfddfagccfcadhdeagdebaceeegfedhafbdedgfbchdfhgfdadbbbdhfgcddebgfcdgadcdbadebbbbfdfgfebehdfachdfheeadbdcegeahdecedhgfhfehaddfabaffaceefccahcbhfhhabfeedcfbddcgcedebdchbehdagahhgbcdafabaafagdcdhaccdaaaecehceeffdeaacedgcafddfadefagdcegbhcaededfcaedeehbfdabahfccaccghgeahdaagaddecggdegdbeddbcahgghfaeehbegcbeabbebbafagfbfgehfeaeabffchachafgdgcebgbhfdgbhhcdcebfgfebgacfegbfheadhbdabahaddahdhagbbgefhafdeaedhdhfhdhefcbcfgcadfhbedfhebffcfcchahdfaeeedefaedabdgfebchffbbcdcccdbcedgfbhbfgfghdafcccgggagcghbgddehfeffbhhehhegfefcaebahffhdggfbcdadecgaccahggcghgabhecfhbhbbchafcgacgeaggaahcgfaaahcbegacbbdhhdbfebchedbdehedbebhfbgfffcfeceaeheeddhagdddfgeddbadhbdabbhbeheddeeecbggedaccchagcdgecdhgecbfhgegcagdcaagecbdefbgdghddeffdcbbcdgceghbeahecdafddehdedddabcefehacbffdedbbcbgaccbddcbccbegbecechhgbfdaadhfehaddagdbabbegeebegebfahedffabbhgdhbbfdgfdcgbfbhaafgbaeafgdgcgachadcaaaggddhfdcbdhcggagegecbgafgdebfehccbhcehegbhcgfbdgddabeeebfbcbcdfbfagfhcdcbhdheaabfbgdghhdfhadgfgbhfaceehbhfgcaddghdcebgaeeeehdfgdfafcaafgegdcgfgbacfceehceecgahgbebahhgcbcabhhecbgbgcbagdhcfaadfdcbeaccecddadahfefbabdhafgagfafgbbfedgagaabdbadahccfgbaecbgedbehccacebbhfcggfcbeafehebaabahgagffbabbgedhddagfgacgbcbbffcdbagdgccbdcbebeefdeabbfgcbefhahdbfdgcbhhgdecabccedadadcfdedeebdadeegafdgchbeegaecgeeffeghgaeeffcbhheahcfcfceeadbagcbbdacffcgffahgfbhfeaedhdafafcggfgdfgffadedghaffdbaachffeehcghaedchafhahehedfdcgaagdhgeeefbfgdbaaadhcdbafhchahddddeffbfdhfcacdgbggdhebdgabfffcbadcaddehebaeffdchcdgfabgaefbgfchddehahefedhdgbhcdfdbhcdhccdcghgdfgdcfehhhbhbfggaehgfdefcbdhhgeafaebdbeeheebfehbcgcedcdefghcdchfbgcdbabgcdcfhfaeaahdahbedahehfabagadcdhebahcfgfedcgaagdfafbghfhdbhfdccbbehbhhbeddchegadegddaegaaacbdedhbfbhaffbhcfhebffhbcdgfbbhdcbbhfebfdaecbggcfgbdfehfcbhbbageabacagbbagbdbfcfbbfgdcabgdhhfhehcggfgcgcghfgdghbhehhfgabafdfcdbhgfgbbecedhceafcfbecehgfaaedeadbafaefgccgbgehgfdfdhhhgeeacaaghdehefagfgchcbggeecfhaafeahfeafgfafgedahagdecgecgebcdbgbgfeehbfahfghgcafaaeabbahacdahccfbgfhghehedgbfbhgfacbbaeaefchecdbfdacdgbfcbcabcggbfegeaadafgdfhfbafhbhhbcgefbcbcehbgbbfhaggfeegebhghghbecggcaaaecahgbecgehbbcfhddhbaacdbfbegddchcfbfgfahcfdddbccdfcfhahfgbgafhdeeebfeehhbegaffghgfhhfafaagchgcacccdcddcadebeaedehbafgebdgfbfadcfcecfcfecgdgfeahgefdhdecdfabaffbafchdaagbbcgdagdabfbehebfcabhgdeeedefgadefaahhagebegbccfghbfgeaabbafcfbfaafgdadccdccceddhgdchghhdcbcfegaecdgcdeacecebhbeeagdbbceaefgcahbeeeebffdfbhgebdacgadeedacfefgedbdbhcgbbfaefbfhgaeddcgafeceecadcfebhdgbcbeaahhgcadfdfdaghegcdecgbdgfgecabgadhafcacahbddcbadhahdhcheagehfbgfdfgchddfefacebeeebfhbdgefdbbhbegfcfdbbghbadbgedebggdacgfdgafegcafhaeagabcghhagbhhbadhgadhdbegaafggbdgdddhhcfhgfddhdbbafebffcfggbeaehegfebhefaafchcacbabbeeadcehbbbbffadadfefbeeddhffcdgbbdhchbbfaheaabfecafbfehaacehcceheccdhaaeffdbhefaafegdahebgcbafafagfehcbhbdcbgbbegcabegbdghafdefgcdcfgggdhdhgbgfbaefefecaecbdgagcadebeefaecfffacgfchdhbefhgefebgfaggbfegdggbgffhcbcgcdehgcdadfdgggeacffcdecadcadcgdhfcgedffaefacdbahgcccabcfeaahhfffbcedgfadbdceedacfadbbabcdhgabdfhdbeeeacgbdfecfebbbhgfffbeagcbeaafdabcdhdafchgeabacgdecafddgcbafbeabcbchgfaffebfbdbhcbgagehdaefgaafbgdbafhcccdcbahbccacgcbcbfbagdefaebafggdfhgffccegdbgagheeghebdeeccafgbffchcaebhefbgcgefahahcgechebaacdgccegfgcgegeefcgegbebcafgcggcaeeccecgafacgeadachdccecffaaceeeacddadbcffbeechdeaabbdafgfgafdaehfgdefgacaggbehbgeeegedffdcbfhgegdbcbbcfdhafggfdfdbdghehccbbaeaacdcegghbdahaafhcfhffffeeefefedeaeeaebabbcbdeeddbcgbcghageaefhdcdhafedeaaffgdhgfhgeadhaagbbgabbbbdefbggefeefaechfeehchgaecebagefacfdbegaebccagadfddaggabbhfgcdbeggcahhfcggehfbchcgeeagcgcddbfhcaaadaafdbabfggceaedcfbhfbagbfefeadggbcdabedaegfffagbbdcbcdaadbcdbfegggecbacbbfadcfacfedabdhbdfeghhcgcbcdacdchadbcdahagdaeagbbdafaeefgbffbhdhadfeagchbbbgghcbadcebagefhfaebcffdaacbbchcghhafehagfbfddbdcahhhgabbgaaghhbbgcabgdffdhdgbgadccabgcaeghehgdhbbbagbfbfhahbbcccfahghgdecbbdehehgchfgdgffecfddbbhgeahdgaahecacfcagcabfbdfbecbhhghdefecchgggbhefcaacaccadfegehagdafedgbabdaecbadfbhbbdbcfgdgdchecfafcefchdbbhhadfchhheafdfbhgccedbacchhhfcehahfgadgbhccfchehgegbhhfdhbfdabggfbdaebfhdcchacffbhdcfgcedbdbgebgdbbhbcecfchcaecbghfbbcdbgeefccbaebbhccebhdhbcbagcbahgaacdhgfbbebefebbhdedggcdebaebddghbdgfgcchcfhedbhdhafeeffhgfahbadbgafbghbdafabefbahgfdedfgfdfahdgaddggbefffhddcgahggbagddbafedbgcccgdefdghdbaafbbdddgfcbbhcbhfhahfaffaebcfhfcchehbbaccedbchaabgddahggadhcacdbcgccehccfbchbefeaggfcacacdceghhcfhccfffagafahcfgbfeafbhgbfbcchgbbehdebcfbcadhfhbhbgbghbbbfhgdafcddhhbdegeaebhggfdhfaebbegfcbeaecfbeeegdbcefbhaafcgedeeggeahdcbhcbadcadghhcggbahagfcfeeafgfagafebbcbeabaafagffbaggbchgdedfechbahccfhfcgfcfefhhcahahdachdacadaecaeebdfahfgchgahfadhcdahffgcchgcbbabhhfbaecgecfcfhbaegehbehfeehfbfdehgbbacfbcdddgeecffabgehfcfeadhffcdbabfdgddhbgcaaebcehcffacfehecdabehhhhfcdeeaegfcfegchcadefhdfggddgacghbeehagceehhbhcaedgbdacffahecegfhcbfhahgbfedgehcffdadfeeaaghhbgcdgdehgbahcfeefadaccgfcbhgdfchffhhfcbahdcbdafhfegeheghhgfbhggaccccdcdahbegbfaaehbedchfggefafgbhfdfgggfagfchgdcgaehbaachhhahhhfhfagecdeageahbefbeecbfhhbchfhfdbhgcdebeaeadaffdaahfaagaaahhffhaaaahegdbgedbcehacffhdegaccdddcaaaebedchbhdaadabcegfhbefbccffhhccgaghcdbdhffeahdgabbcbfadcfcfdhbdhagehagedeefaeeabdhgfbbagfeeafadabghcgcbbfgghdbcafbgebhbeeheaedeceebhhcachaadggbdcdbhdcfecedccffegfgbgcbbgahcadfdfeegccadfdgehegcbecdcbefagdedgfeffgaefedccfgbdegcfgfhdecabdhahfhbbhgagcdbbhbdghhfdafeaeaccdahacfegdcgcaaebbcghghheehbfadbcfcgaahgcaagaghdeedfcabafhfcdffcebbchabbdgbfcgafdfaghbhcdagghhbadabbbgfgaafhhffgccaccghfbbbagceabbegeachbbdcbcefaegabfhgbeeacbbecbdgefhhdegceehccddbcbbfdfheaeebehbacgchdbbcagchchfacaheabhccegcfhhfehababedgdeedbbegafhcbgbaebgheghehegcchccdegbhgcfaecgdfchcfdahgfdbdccbffchhfhbgddhaaagbdcccbecfhaagcdcbbdbgcdcdhdcbhgbcbccggfcgdeggfehhfedggghfafcebhfgeghhfdadgbccdfcgdeceehgahfbdhgeacfcebafagdebebgdbdcadbddfhfheebhgcaaffgccghecehcadgheccdbdaggcgfdfbhbhfahedhfeegfbadfabagehddaacefchfagadbfbhabddcehdfhhfbhacbehebcggdbafafdbfcgfaafaggechehaefdcbafdfbhffbcehghchfcghegbgdechaaggdadhfbedgaddafafdghchdbgcagehbhgggfgeeheagdacahbaecfagcdgeabebhcceegaddheffdeeabhehedeadfgbfhbfbfcgahcgeaafaabaghdedcgfehdhfbbcdbdcbbbdbfhehbfgaabdcgbcdcghhcgbcegcbbfaceggdffhdeaafaafcafbhbacffbfffbbhgfgggeeegfacfbegghfcfcchbdbcaggabcchdcdcghgcghdcbbgcahcebbdeabhgdfdfgdhegddgdeaaababcfeggaeagcahgdabafdhehagbaggaefafdfghhfgacdbbcbfhabdffhbgbhbefadfdfchefaghhdfhcbeaafbaedechcefgahbhhfahdeagafdhbdhfdegdhbdcefbbefadbghgfdafghfbebbcgebcfbfcabeafbafdfhbahhcfaggfcbgcahghfefcbhahgadbeeaghbhegaefhfaadhfffggdhegeeadhafaaahfcgdcaeggdggbbacahdgbgddfeceebgefadeeggbfcdefebhhbaehebbfaghcacbdcghdgegghafghhgdhfggbfaecfchhceaecdhcgabhgccbbcadacdgafahbgchbagfdgggeegcbhdbfcdhbeaaddbceehabebabedgafhfhehbfcefhbadgdghbbfcecdcgddbbababbhdhhcgddcaahhaehbggcfbbffgbbbaebedcadgbfhhdhadaeadahhcbfaabhdfbddcadffecdhcecdbdbgcbgbabebchbbcddcggegbbafdcfbbghafdchecdeabghahghaeedffbdcbdfeaahbaehcgaggghachfachdebecdgfeffabedefegaahgcbeaeehedhebbccagdeefedehhbceegafeagggceefgeefbbgbceagbecaccgeacaecdecdeechahecdbeeabcaadbcgddbhbbddecgaaaabhaadaafbbcdaefbcbcdbdbceggacfgfcdcdbgbddgfcbfhgafbbadaafffaafdaebhcggbaffhfbdcebfecefffbfefcbhgfbebffhhhccbfaegffedehbhcgcfffcacabchfhhchhaheghehagfbcabhgdaddachhdeafdehcabhgbddbcfafahcagcbbdhhahdcfcbabdehbdacfcffahcdcdefhh\""
   ]
  },
  {
   "cell_type": "code",
   "execution_count": 242,
   "metadata": {},
   "outputs": [
    {
     "data": {
      "text/plain": [
       "52185"
      ]
     },
     "execution_count": 242,
     "metadata": {},
     "output_type": "execute_result"
    }
   ],
   "source": [
    "len(s)"
   ]
  },
  {
   "cell_type": "code",
   "execution_count": null,
   "metadata": {},
   "outputs": [],
   "source": [
    "#for a position i, determine if the number of distinct characters in [0:i]\n",
    "#matches the number of distinct characters in [i+1, end]\n",
    "#We will figure out the former. How to do the latter.\n",
    "def backward_matcher(i):\n",
    "    for b in range(len(backward_spots)):\n",
    "        if i+1<backward_spots[b]\n",
    "            return b\n",
    "    "
   ]
  },
  {
   "cell_type": "code",
   "execution_count": 277,
   "metadata": {},
   "outputs": [],
   "source": [
    "class Solution:\n",
    "    def numSplits(self, s: str) -> int:\n",
    "        chars={}\n",
    "        for i in range(len(s)):\n",
    "            if s[i] not in chars:\n",
    "                chars[s[i]]=[i,i]\n",
    "            else:\n",
    "                chars[s[i]][1]=i\n",
    "        forward_spots = []\n",
    "        backward_spots = []\n",
    "        for c in chars:\n",
    "            forward_spots.append(chars[c][0])\n",
    "            backward_spots.append(chars[c][1])\n",
    "        forward_spots.sort()\n",
    "        backward_spots.sort()\n",
    "        print(forward_spots)\n",
    "        print(backward_spots)\n",
    "        \n",
    "        \n",
    "        for i in range(len(forward_spots)):\n",
    "            b=self.backward_matcher(forward_spots[i],backward_spots):\n",
    "            if i==b:\n",
    "                print backward_spots \n",
    "        \n",
    "        \n",
    "        for i in range(len(forward_spots)):\n",
    "            b=self.backward_matcher(forward_spots[i], backward_spots)\n",
    "            if i==b:\n",
    "                print([i for i in range(forward_spots[i],backward_spots[b])])\n",
    "                return backward_spots[b]-forward_spots[i]+1\n",
    "        return 0\n",
    "\n",
    "    def backward_matcher(self,i,backward_spots):\n",
    "        for b in range(len(backward_spots)):\n",
    "            if i+1<backward_spots[b]:\n",
    "                return b       \n",
    "            \n",
    "\n",
    "instance=Solution()"
   ]
  },
  {
   "cell_type": "code",
   "execution_count": 278,
   "metadata": {},
   "outputs": [
    {
     "name": "stdout",
     "output_type": "stream",
     "text": [
      "[0, 2, 4]\n",
      "[2, 4, 5]\n",
      "[0, 1]\n"
     ]
    },
    {
     "data": {
      "text/plain": [
       "3"
      ]
     },
     "execution_count": 278,
     "metadata": {},
     "output_type": "execute_result"
    }
   ],
   "source": [
    "instance.numSplits(\"aacaba\")"
   ]
  },
  {
   "cell_type": "code",
   "execution_count": 268,
   "metadata": {},
   "outputs": [
    {
     "ename": "SyntaxError",
     "evalue": "invalid syntax (<ipython-input-268-4d7194939ceb>, line 1)",
     "output_type": "error",
     "traceback": [
      "\u001b[0;36m  File \u001b[0;32m\"<ipython-input-268-4d7194939ceb>\"\u001b[0;36m, line \u001b[0;32m1\u001b[0m\n\u001b[0;31m    [1..4]\u001b[0m\n\u001b[0m       ^\u001b[0m\n\u001b[0;31mSyntaxError\u001b[0m\u001b[0;31m:\u001b[0m invalid syntax\n"
     ]
    }
   ],
   "source": []
  },
  {
   "cell_type": "code",
   "execution_count": 284,
   "metadata": {},
   "outputs": [],
   "source": [
    "number_dict={1:[1,2,3],2:[4,7,8],3:[5,6,9]}"
   ]
  },
  {
   "cell_type": "code",
   "execution_count": 294,
   "metadata": {},
   "outputs": [
    {
     "data": {
      "text/plain": [
       "Counter({1: 3, 2: 2, 3: 2, 4: 1, 6: 1, 7: 1, 8: 1})"
      ]
     },
     "execution_count": 294,
     "metadata": {},
     "output_type": "execute_result"
    }
   ],
   "source": [
    "from collections import Counter\n",
    "list = [1,2,3,4,1,2,6,7,3,8,1]\n",
    "Counter(list)"
   ]
  },
  {
   "cell_type": "code",
   "execution_count": 293,
   "metadata": {},
   "outputs": [
    {
     "data": {
      "text/plain": [
       "9"
      ]
     },
     "execution_count": 293,
     "metadata": {},
     "output_type": "execute_result"
    }
   ],
   "source": [
    "total_sum"
   ]
  },
  {
   "cell_type": "code",
   "execution_count": 415,
   "metadata": {},
   "outputs": [
    {
     "data": {
      "text/plain": [
       "'16214'"
      ]
     },
     "execution_count": 415,
     "metadata": {},
     "output_type": "execute_result"
    }
   ],
   "source": [
    "class Solution:\n",
    "    \n",
    "    def multiply(self, A: str, B: str) -> str:\n",
    "        num_dict = {'0':0,'1':1,'2':2,'3':3,'4':4,'5':5,'6':6,'7':7,'8':8,'9':9}\n",
    "\n",
    "\n",
    "        return str(self.helper_multiply(A,B))\n",
    "        \n",
    "    def helper_multiply(self, A,B):\n",
    "        if len(A)>1 and len(B)>1:   \n",
    "            return self.helper_multiply(A[:-1], B[:-1])*100 + self.helper_multiply(A[:-1],B[-1])*10+self.helper_multiply(A[-1],B[:-1])*10+self.helper_multiply(A[-1],B[-1])\n",
    "        elif len(A)<2 and len(B)>=2:\n",
    "            return self.helper_converter(B)*num_dict[A]\n",
    "        elif len(B)<2 and len(A)>=2:\n",
    "            return self.helper_converter(A)*num_dict[B]\n",
    "        else:\n",
    "            return num_dict[A]*num_dict[B]\n",
    "    def helper_converter(self,A):\n",
    "        return sum(num_dict[A[len(A)-i-1]]*10**i for i in range(len(A)))\n",
    "\n"
   ]
  },
  {
   "cell_type": "code",
   "execution_count": 396,
   "metadata": {},
   "outputs": [
    {
     "data": {
      "text/plain": [
       "123"
      ]
     },
     "execution_count": 396,
     "metadata": {},
     "output_type": "execute_result"
    }
   ],
   "source": [
    "num_dict = {'0':0,'1':1,'2':2,'3':3,'4':4,'5':5,'6':6,'7':7,'8':8,'9':9}\n",
    "\n",
    "helper_converter('123')"
   ]
  },
  {
   "cell_type": "code",
   "execution_count": 402,
   "metadata": {},
   "outputs": [
    {
     "data": {
      "text/plain": [
       "[1, 2, 3, 4]"
      ]
     },
     "execution_count": 402,
     "metadata": {},
     "output_type": "execute_result"
    }
   ],
   "source": [
    "A[:-1]"
   ]
  },
  {
   "cell_type": "code",
   "execution_count": null,
   "metadata": {},
   "outputs": [],
   "source": [
    "   (n-1-j,i)    becomes (i,j)"
   ]
  },
  {
   "cell_type": "code",
   "execution_count": 431,
   "metadata": {},
   "outputs": [],
   "source": [
    "class Solution:\n",
    "    matrix = \n",
    "    def rotate(self, matrix):\n",
    "        \"\"\"\n",
    "        Do not return anything, modify matrix in-place instead.\n",
    "        \"\"\"\n",
    "        n=len(matrix)\n",
    "        matrix = [matrix[n-1-entry[1]][ entry[0]] for entry in itertools.product(range(0,1),repeat=2)] \n",
    "\n"
   ]
  },
  {
   "cell_type": "code",
   "execution_count": 432,
   "metadata": {},
   "outputs": [],
   "source": [
    "sol=Solution()"
   ]
  },
  {
   "cell_type": "code",
   "execution_count": 444,
   "metadata": {},
   "outputs": [
    {
     "ename": "IndexError",
     "evalue": "list index out of range",
     "output_type": "error",
     "traceback": [
      "\u001b[0;31m---------------------------------------------------------------------------\u001b[0m",
      "\u001b[0;31mIndexError\u001b[0m                                Traceback (most recent call last)",
      "\u001b[0;32m<ipython-input-444-aecbe58c5edb>\u001b[0m in \u001b[0;36m<module>\u001b[0;34m\u001b[0m\n\u001b[1;32m      1\u001b[0m \u001b[0mmatrix\u001b[0m\u001b[0;34m=\u001b[0m\u001b[0;34m[\u001b[0m\u001b[0;34m[\u001b[0m\u001b[0;36m1\u001b[0m\u001b[0;34m,\u001b[0m\u001b[0;36m2\u001b[0m\u001b[0;34m,\u001b[0m\u001b[0;36m3\u001b[0m\u001b[0;34m]\u001b[0m\u001b[0;34m,\u001b[0m\u001b[0;34m[\u001b[0m\u001b[0;36m4\u001b[0m\u001b[0;34m,\u001b[0m\u001b[0;36m5\u001b[0m\u001b[0;34m,\u001b[0m\u001b[0;36m6\u001b[0m\u001b[0;34m]\u001b[0m\u001b[0;34m,\u001b[0m\u001b[0;34m[\u001b[0m\u001b[0;36m7\u001b[0m\u001b[0;34m,\u001b[0m\u001b[0;36m8\u001b[0m\u001b[0;34m,\u001b[0m\u001b[0;36m9\u001b[0m\u001b[0;34m]\u001b[0m\u001b[0;34m]\u001b[0m\u001b[0;34m\u001b[0m\u001b[0;34m\u001b[0m\u001b[0m\n\u001b[1;32m      2\u001b[0m \u001b[0mn\u001b[0m\u001b[0;34m=\u001b[0m\u001b[0mlen\u001b[0m\u001b[0;34m(\u001b[0m\u001b[0mmatrix\u001b[0m\u001b[0;34m)\u001b[0m\u001b[0;34m\u001b[0m\u001b[0;34m\u001b[0m\u001b[0m\n\u001b[0;32m----> 3\u001b[0;31m \u001b[0mmatrix\u001b[0m \u001b[0;34m=\u001b[0m \u001b[0;34m[\u001b[0m\u001b[0;34m[\u001b[0m\u001b[0mmatrix\u001b[0m\u001b[0;34m[\u001b[0m\u001b[0mn\u001b[0m\u001b[0;34m-\u001b[0m\u001b[0;36m1\u001b[0m\u001b[0;34m-\u001b[0m\u001b[0mentry\u001b[0m\u001b[0;34m[\u001b[0m\u001b[0;36m1\u001b[0m\u001b[0;34m]\u001b[0m\u001b[0;34m]\u001b[0m\u001b[0;34m]\u001b[0m\u001b[0;34m[\u001b[0m \u001b[0mentry\u001b[0m\u001b[0;34m[\u001b[0m\u001b[0;36m0\u001b[0m\u001b[0;34m]\u001b[0m\u001b[0;34m]\u001b[0m \u001b[0;32mfor\u001b[0m \u001b[0mentry\u001b[0m \u001b[0;32min\u001b[0m \u001b[0mitertools\u001b[0m\u001b[0;34m.\u001b[0m\u001b[0mproduct\u001b[0m\u001b[0;34m(\u001b[0m\u001b[0mrange\u001b[0m\u001b[0;34m(\u001b[0m\u001b[0;36m0\u001b[0m\u001b[0;34m,\u001b[0m\u001b[0mn\u001b[0m\u001b[0;34m)\u001b[0m\u001b[0;34m,\u001b[0m\u001b[0mrepeat\u001b[0m\u001b[0;34m=\u001b[0m\u001b[0;36m2\u001b[0m\u001b[0;34m)\u001b[0m\u001b[0;34m]\u001b[0m\u001b[0;34m;\u001b[0m\u001b[0mmatrix\u001b[0m\u001b[0;34m\u001b[0m\u001b[0;34m\u001b[0m\u001b[0m\n\u001b[0m\u001b[1;32m      4\u001b[0m \u001b[0;34m\u001b[0m\u001b[0m\n",
      "\u001b[0;32m<ipython-input-444-aecbe58c5edb>\u001b[0m in \u001b[0;36m<listcomp>\u001b[0;34m(.0)\u001b[0m\n\u001b[1;32m      1\u001b[0m \u001b[0mmatrix\u001b[0m\u001b[0;34m=\u001b[0m\u001b[0;34m[\u001b[0m\u001b[0;34m[\u001b[0m\u001b[0;36m1\u001b[0m\u001b[0;34m,\u001b[0m\u001b[0;36m2\u001b[0m\u001b[0;34m,\u001b[0m\u001b[0;36m3\u001b[0m\u001b[0;34m]\u001b[0m\u001b[0;34m,\u001b[0m\u001b[0;34m[\u001b[0m\u001b[0;36m4\u001b[0m\u001b[0;34m,\u001b[0m\u001b[0;36m5\u001b[0m\u001b[0;34m,\u001b[0m\u001b[0;36m6\u001b[0m\u001b[0;34m]\u001b[0m\u001b[0;34m,\u001b[0m\u001b[0;34m[\u001b[0m\u001b[0;36m7\u001b[0m\u001b[0;34m,\u001b[0m\u001b[0;36m8\u001b[0m\u001b[0;34m,\u001b[0m\u001b[0;36m9\u001b[0m\u001b[0;34m]\u001b[0m\u001b[0;34m]\u001b[0m\u001b[0;34m\u001b[0m\u001b[0;34m\u001b[0m\u001b[0m\n\u001b[1;32m      2\u001b[0m \u001b[0mn\u001b[0m\u001b[0;34m=\u001b[0m\u001b[0mlen\u001b[0m\u001b[0;34m(\u001b[0m\u001b[0mmatrix\u001b[0m\u001b[0;34m)\u001b[0m\u001b[0;34m\u001b[0m\u001b[0;34m\u001b[0m\u001b[0m\n\u001b[0;32m----> 3\u001b[0;31m \u001b[0mmatrix\u001b[0m \u001b[0;34m=\u001b[0m \u001b[0;34m[\u001b[0m\u001b[0;34m[\u001b[0m\u001b[0mmatrix\u001b[0m\u001b[0;34m[\u001b[0m\u001b[0mn\u001b[0m\u001b[0;34m-\u001b[0m\u001b[0;36m1\u001b[0m\u001b[0;34m-\u001b[0m\u001b[0mentry\u001b[0m\u001b[0;34m[\u001b[0m\u001b[0;36m1\u001b[0m\u001b[0;34m]\u001b[0m\u001b[0;34m]\u001b[0m\u001b[0;34m]\u001b[0m\u001b[0;34m[\u001b[0m \u001b[0mentry\u001b[0m\u001b[0;34m[\u001b[0m\u001b[0;36m0\u001b[0m\u001b[0;34m]\u001b[0m\u001b[0;34m]\u001b[0m \u001b[0;32mfor\u001b[0m \u001b[0mentry\u001b[0m \u001b[0;32min\u001b[0m \u001b[0mitertools\u001b[0m\u001b[0;34m.\u001b[0m\u001b[0mproduct\u001b[0m\u001b[0;34m(\u001b[0m\u001b[0mrange\u001b[0m\u001b[0;34m(\u001b[0m\u001b[0;36m0\u001b[0m\u001b[0;34m,\u001b[0m\u001b[0mn\u001b[0m\u001b[0;34m)\u001b[0m\u001b[0;34m,\u001b[0m\u001b[0mrepeat\u001b[0m\u001b[0;34m=\u001b[0m\u001b[0;36m2\u001b[0m\u001b[0;34m)\u001b[0m\u001b[0;34m]\u001b[0m\u001b[0;34m;\u001b[0m\u001b[0mmatrix\u001b[0m\u001b[0;34m\u001b[0m\u001b[0;34m\u001b[0m\u001b[0m\n\u001b[0m\u001b[1;32m      4\u001b[0m \u001b[0;34m\u001b[0m\u001b[0m\n",
      "\u001b[0;31mIndexError\u001b[0m: list index out of range"
     ]
    }
   ],
   "source": [
    "matrix=[[1,2,3],[4,5,6],[7,8,9]]\n",
    "n=len(matrix)\n",
    "matrix = [[matrix[n-1-entry[1]][ entry[0]] for entry in itertools.product(range(0,n),repeat=2)];matrix\n",
    "\n"
   ]
  },
  {
   "cell_type": "code",
   "execution_count": 437,
   "metadata": {},
   "outputs": [
    {
     "data": {
      "text/plain": [
       "[[1, 2, 3], [4, 5, 6], [7, 8, 9]]"
      ]
     },
     "execution_count": 437,
     "metadata": {},
     "output_type": "execute_result"
    }
   ],
   "source": [
    "A"
   ]
  },
  {
   "cell_type": "code",
   "execution_count": null,
   "metadata": {},
   "outputs": [],
   "source": []
  }
 ],
 "metadata": {
  "kernelspec": {
   "display_name": "Python 3",
   "language": "python",
   "name": "python3"
  },
  "language_info": {
   "codemirror_mode": {
    "name": "ipython",
    "version": 3
   },
   "file_extension": ".py",
   "mimetype": "text/x-python",
   "name": "python",
   "nbconvert_exporter": "python",
   "pygments_lexer": "ipython3",
   "version": "3.8.5"
  }
 },
 "nbformat": 4,
 "nbformat_minor": 4
}
