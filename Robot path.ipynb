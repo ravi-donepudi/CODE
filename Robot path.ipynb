{
 "cells": [
  {
   "cell_type": "markdown",
   "metadata": {},
   "source": [
    "### Robot path through an obstacle field"
   ]
  },
  {
   "cell_type": "code",
   "execution_count": 76,
   "metadata": {},
   "outputs": [
    {
     "data": {
      "text/plain": [
       "[]"
      ]
     },
     "execution_count": 76,
     "metadata": {},
     "output_type": "execute_result"
    }
   ],
   "source": [
    "#Given mxn array with 0s and 1s, need to reach (m-1,n-1) from (0,0) while avoiding the spots marked by a 1.\n",
    "def robot_path(road_blocks):\n",
    "    def robot_path_helper(i,j):\n",
    "        if m==0 and n==0:\n",
    "            path.append([0,0])\n",
    "            return True    \n",
    "        elif i>=0 and j>=0 and i<m and i<n and road_blocks[i,j]!=1:\n",
    "                if robot_path_helper(i-1,j):\n",
    "                    path.append([i-1,j])\n",
    "                    return True\n",
    "                elif robot_path_helper(i,j-1):\n",
    "                    path.append([i,j-1])\n",
    "                    return True\n",
    "                return False\n",
    "        else:\n",
    "            return False\n",
    "\n",
    "    m=len(road_blocks)\n",
    "    n=len(road_blocks[0])\n",
    "    path=[]\n",
    "    return path\n",
    "\n",
    "robot_path([[0,0,0],[0,0,0],[0,0,0]])\n",
    "    \n",
    "    \n",
    "    \n",
    "    \n",
    "    \n",
    "    \n",
    "    "
   ]
  },
  {
   "cell_type": "code",
   "execution_count": 46,
   "metadata": {},
   "outputs": [],
   "source": [
    "def eight_queens(n):\n",
    "    placement = []\n",
    "    def valid_solution_checker(i,j):\n",
    "        for i in  \n",
    "        \n",
    "        return True\n",
    "    def helper_eight_queens(i):\n",
    "        if \n",
    "    \n",
    "    \n",
    "    return placement"
   ]
  },
  {
   "cell_type": "code",
   "execution_count": 79,
   "metadata": {},
   "outputs": [
    {
     "name": "stderr",
     "output_type": "stream",
     "text": [
      "<ipython-input-79-481ee0cb8bfe>:1: DeprecationWarning: Using or importing the ABCs from 'collections' instead of from 'collections.abc' is deprecated since Python 3.3, and in 3.9 it will stop working\n",
      "  from collections import Mapping\n"
     ]
    }
   ],
   "source": [
    "from collections import Mapping"
   ]
  },
  {
   "cell_type": "code",
   "execution_count": 85,
   "metadata": {},
   "outputs": [
    {
     "data": {
      "text/plain": [
       "collections.abc.Mapping"
      ]
     },
     "execution_count": 85,
     "metadata": {},
     "output_type": "execute_result"
    }
   ],
   "source": [
    "Mapping"
   ]
  },
  {
   "cell_type": "code",
   "execution_count": null,
   "metadata": {},
   "outputs": [],
   "source": [
    "bitshifting\n",
    "def multiply(m,n):\n",
    "    if m==1:\n",
    "        return n\n",
    "    elif n==1:\n",
    "        return m\n",
    "    else:\n",
    "    "
   ]
  }
 ],
 "metadata": {
  "kernelspec": {
   "display_name": "Python 3",
   "language": "python",
   "name": "python3"
  },
  "language_info": {
   "codemirror_mode": {
    "name": "ipython",
    "version": 3
   },
   "file_extension": ".py",
   "mimetype": "text/x-python",
   "name": "python",
   "nbconvert_exporter": "python",
   "pygments_lexer": "ipython3",
   "version": "3.8.5"
  }
 },
 "nbformat": 4,
 "nbformat_minor": 4
}
