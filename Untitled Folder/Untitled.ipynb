{
 "cells": [
  {
   "cell_type": "code",
   "execution_count": 10,
   "metadata": {},
   "outputs": [],
   "source": [
    "def CM2(q):\n",
    "    g=2;\n",
    "    p=radical(q);\n",
    "#Set up a polynomial ring over a finite field\n",
    "    F.<alpha> = GF(q); A.<a> = F[];R.<x>=A[]\n",
    "#Define the RHS of the hyperelliptic curve\n",
    "    f=(x*(x^4+a*x^2+1))\n",
    "#Compute the coefficients needed for Cartier-Manin matrix\n",
    "    c=(f^((p-1)/2)).list()\n",
    "#Using the coefficients of f^((p-1)/2) to compute Cartier-Manin matrix\n",
    "    return matrix(A, g, g, lambda i, j: c[(i+1)*p-j-1] )\n",
    "\n",
    "#Isomorphism class of the p-torsion J(C)[p]. There are 16 possibilities.\n",
    "#If p=1,7 mod 8, the curves are either ordinary or superspecial. \n",
    "# (x,y)-->(zeta*y, i*x)"
   ]
  },
  {
   "cell_type": "code",
   "execution_count": 15,
   "metadata": {},
   "outputs": [
    {
     "data": {
      "text/plain": [
       "(33) * (a + 19)^2 * (a + 78)^2 * (a^2 + 20)^2 * (a^2 + 29)^2 * (a^2 + 69)^2 * (a^2 + 87)^2 * (a^2 + 92)^2 * (a^2 + 5*a + 22)^2 * (a^2 + 6*a + 93)^2 * (a^2 + 38*a + 19)^2 * (a^2 + 59*a + 19)^2 * (a^2 + 91*a + 93)^2 * (a^2 + 92*a + 22)^2"
      ]
     },
     "execution_count": 15,
     "metadata": {},
     "output_type": "execute_result"
    }
   ],
   "source": [
    "CM2(97).determinant().factor()"
   ]
  },
  {
   "cell_type": "code",
   "execution_count": 1,
   "metadata": {},
   "outputs": [],
   "source": [
    "def CM(q):\n",
    "    g=4;\n",
    "    p=radical(q);\n",
    "#Set up a polynomial ring over a finite field\n",
    "    F.<alpha> = GF(q); A.<a> = F[];R.<x>=A[]\n",
    "#Define the RHS of the hyperelliptic curve\n",
    "    f=(x*(x^4-1)*(x^4+a*x^2+1))\n",
    "#Compute the coefficients needed for Cartier-Manin matrix\n",
    "    c=(f^((p-1)/2)).list()\n",
    "#Using the coefficients of f^((p-1)/2) to compute Cartier-Manin matrix\n",
    "    return matrix(A, g, g, lambda i, j: c[(i+1)*p-j-1] )\n",
    "\n",
    "#Isomorphism class of the p-torsion J(C)[p]. There are 16 possibilities.\n",
    "#If p=1,7 mod 8, the curves are either ordinary or superspecial. \n"
   ]
  },
  {
   "cell_type": "code",
   "execution_count": 18,
   "metadata": {},
   "outputs": [
    {
     "data": {
      "text/plain": [
       "0"
      ]
     },
     "execution_count": 18,
     "metadata": {},
     "output_type": "execute_result"
    }
   ],
   "source": [
    "#The curve is ordinary if and only if the matrix is invertible.\n",
    "CM(101).determinant().factor()\n",
    "#a=-2 and a=2 give singular curves\n",
    "#Determinant is roughly size 3p/2. The 2, -2 factors are always (p-1)/2 each. We are left with ~p/8 good curves.\n"
   ]
  },
  {
   "cell_type": "code",
   "execution_count": 5,
   "metadata": {},
   "outputs": [
    {
     "data": {
      "text/plain": [
       "(a + 10*alpha + 88) * (a + 10*alpha + 89) * (a + 10*alpha + 94) * (a + 10*alpha + 95) * (a + 15*alpha + 34) * (a + 15*alpha + 47) * (a + 21*alpha + 34) * (a + 21*alpha + 41) * (a + 25*alpha + 29) * (a + 25*alpha + 42) * (a + 27*alpha + 73) * (a + 27*alpha + 93) * (a + 32*alpha + 18) * (a + 32*alpha + 46) * (a + 34*alpha + 15) * (a + 34*alpha + 47) * (a + 39*alpha + 59) * (a + 39*alpha + 69) * (a + 39*alpha + 85) * (a + 39*alpha + 95) * (a + 42*alpha + 1) * (a + 42*alpha + 53) * (a + 45*alpha + 74) * (a + 46*alpha + 25) * (a + 51*alpha + 71) * (a + 52*alpha + 22) * (a + 55*alpha + 43) * (a + 55*alpha + 95) * (a + 58*alpha + 1) * (a + 58*alpha + 11) * (a + 58*alpha + 27) * (a + 58*alpha + 37) * (a + 63*alpha + 49) * (a + 63*alpha + 81) * (a + 65*alpha + 50) * (a + 65*alpha + 78) * (a + 70*alpha + 3) * (a + 70*alpha + 23) * (a + 72*alpha + 54) * (a + 72*alpha + 67) * (a + 76*alpha + 55) * (a + 76*alpha + 62) * (a + 82*alpha + 49) * (a + 82*alpha + 62) * (a + 87*alpha + 1) * (a + 87*alpha + 2) * (a + 87*alpha + 7) * (a + 87*alpha + 8)"
      ]
     },
     "execution_count": 5,
     "metadata": {},
     "output_type": "execute_result"
    }
   ],
   "source": [
    "#These are the a value. The map from the a-line to the j-line is 6-to-1.\n",
    "q=97^2\n",
    "g=1\n",
    "p=radical(q)\n",
    "F.<alpha> = GF(q); A.<a> = F[];R.<x>=A[]\n",
    "f=x*(x-1)*(x-a)\n",
    "f^((p-1)/2)\n",
    "c=(f^((p-1)/2)).list()\n",
    "c[p-1].factor()\n",
    "\n",
    "#Output's degree is 48 which is (p-1)/2 a values\n",
    "#Roughly (p-1)/12 j-invariants that are supersingular\n",
    "#Homework: Write down the formula for j-invariant in terms of a-invariant and see how many of these values yield\n",
    "#j-invariants in F_{97}.\n"
   ]
  },
  {
   "cell_type": "code",
   "execution_count": null,
   "metadata": {},
   "outputs": [],
   "source": []
  }
 ],
 "metadata": {
  "kernelspec": {
   "display_name": "SageMath 9.2",
   "language": "sage",
   "name": "sagemath"
  },
  "language_info": {
   "codemirror_mode": {
    "name": "ipython",
    "version": 3
   },
   "file_extension": ".py",
   "mimetype": "text/x-python",
   "name": "python",
   "nbconvert_exporter": "python",
   "pygments_lexer": "ipython3",
   "version": "3.8.5"
  }
 },
 "nbformat": 4,
 "nbformat_minor": 4
}
