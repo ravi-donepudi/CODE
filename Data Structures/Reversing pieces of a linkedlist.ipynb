{
 "cells": [
  {
   "cell_type": "markdown",
   "metadata": {},
   "source": [
    "# Naveen's question\n",
    "Given a linkedlist 1,2,4,5,6,8,10,12,13\n",
    "Output wanted 1,4,2,5,12,10,8,6,13\n",
    "reverse the order of elements stuck between odd numbers\n"
   ]
  },
  {
   "cell_type": "code",
   "execution_count": 2,
   "metadata": {},
   "outputs": [],
   "source": [
    "\n",
    "\n",
    "\n",
    "class ListNode():\n",
    "    def __init__(self, val=0, next=None):\n",
    "        self.val = val\n",
    "        self.next = None\n",
    "    def listnode_to_list(self):\n",
    "        arr=[]\n",
    "        temp = self\n",
    "        while temp!=None:\n",
    "            arr.append(temp.val)\n",
    "            temp=temp.next       \n",
    "        return arr\n",
    "    def pretty_print(self):\n",
    "        print(self.listnode_to_list())\n",
    "\n",
    "    def reverse_list(self):\n",
    "        if self == None or self.next== None:\n",
    "            return self\n",
    "        else:\n",
    "            ancestor = None\n",
    "            current = self\n",
    "            while(current!=None):\n",
    "                next = current.next\n",
    "                current.next = ancestor\n",
    "                current = next\n",
    "\n",
    "\n",
    "def list_to_listnode(arr):\n",
    "    if len(arr)==0:\n",
    "        return None\n",
    "    head = ListNode()\n",
    "    current = head\n",
    "    for i in arr:\n",
    "        current.next = ListNode(i)\n",
    "        current = current.next\n",
    "    return head.next\n",
    "\n",
    "\n",
    "\n",
    "def odd_segmentation(head):\n",
    "    left = None\n",
    "    right = None\n",
    "\n",
    "    if head.next==None:\n",
    "        if head.val%2==0:\n",
    "            return head, None\n",
    "        else:\n",
    "            return None, head        \n",
    "    current = left = head\n",
    "    while(current.next!=None and current.next.val%2==0):\n",
    "        current = current.next\n",
    "    if current.next.val%2==1:\n",
    "        right = current.next\n",
    "        current.next = None        \n",
    "    return left, right\n",
    "\n",
    "def weird_reversing(head):\n",
    "    if head==None or head.next==None:\n",
    "        return head\n",
    "    remaining = head\n",
    "    while(remaining!=None):\n",
    "        segments = odd_segmentation(remaining)\n",
    "        left = segments[0].reverse_list()\n",
    "        remaining = segments[1]\n",
    "        left.next = weird_reversing(remaining)\n",
    "        \n",
    "#reversing a linked list\n",
    "\n",
    "def reverse(head):\n",
    "    if head==None or head.next ==None:\n",
    "        return head\n",
    "    current =  head\n",
    "    previous = None\n",
    "    while current!=None:\n",
    "        next = current.next\n",
    "        current.next = previous\n",
    "        previous = current"
   ]
  },
  {
   "cell_type": "code",
   "execution_count": 4,
   "metadata": {},
   "outputs": [],
   "source": [
    "if not \"sf\":\n",
    "    print('hi')"
   ]
  },
  {
   "cell_type": "code",
   "execution_count": null,
   "metadata": {},
   "outputs": [],
   "source": []
  }
 ],
 "metadata": {
  "kernelspec": {
   "display_name": "Python 3",
   "language": "python",
   "name": "python3"
  },
  "language_info": {
   "codemirror_mode": {
    "name": "ipython",
    "version": 3
   },
   "file_extension": ".py",
   "mimetype": "text/x-python",
   "name": "python",
   "nbconvert_exporter": "python",
   "pygments_lexer": "ipython3",
   "version": "3.8.5"
  }
 },
 "nbformat": 4,
 "nbformat_minor": 4
}
