{
 "cells": [
  {
   "cell_type": "code",
   "execution_count": 159,
   "metadata": {},
   "outputs": [
    {
     "name": "stdout",
     "output_type": "stream",
     "text": [
      "[1, 2, 2]\n",
      "[4, 5]\n",
      "[1, 2, 2, 3, 4, 5]\n"
     ]
    }
   ],
   "source": [
    "class ListNode:\n",
    "    def __init__(self, val=0, next=None):\n",
    "        self.val = val\n",
    "        self.next = next\n",
    "    def list_to_listnode(self, arr):\n",
    "        current = dummy = ListNode(0)\n",
    "        for i in arr:\n",
    "            current.next = ListNode(i)\n",
    "            current = current.next\n",
    "        return dummy.next\n",
    "    \n",
    "    \n",
    "    def listnode_to_list(self):\n",
    "        arr=[]\n",
    "        temp = self\n",
    "        while temp!=None:\n",
    "            arr.append(temp.val)\n",
    "            temp=temp.next       \n",
    "        return arr\n",
    "    def pretty_print(self):\n",
    "        print(self.listnode_to_list())\n",
    "        \n",
    "def partition(head, x):\n",
    "    smaller = start1 = ListNode(0)\n",
    "    bigger = start2 = ListNode(0)\n",
    "    x_in_linkedlist = False\n",
    "    while head!=None:\n",
    "        \n",
    "        if head.val<x:\n",
    "            smaller.next = ListNode(head.val)\n",
    "            smaller = smaller.next\n",
    "        elif head.val>x:\n",
    "            bigger.next = ListNode(head.val)\n",
    "            bigger = bigger.next\n",
    "        else:\n",
    "            x_in_linkedlist = True\n",
    "        head = head.next\n",
    "    start1.next.pretty_print()\n",
    "    start2.next.pretty_print()\n",
    "\n",
    "\n",
    "\n",
    "    if x_in_linkedlist:\n",
    "        smaller.next = ListNode(x)\n",
    "        smaller = smaller.next\n",
    "    \n",
    "    smaller.next = start2.next\n",
    "    \n",
    "    start1.next.pretty_print()\n",
    "        \n",
    "lst=[1,4,3,2,5,2]\n",
    "            \n",
    "sol = Solution()\n",
    "partition(ListNode().list_to_listnode(lst),3)"
   ]
  }
 ],
 "metadata": {
  "kernelspec": {
   "display_name": "Python 3",
   "language": "python",
   "name": "python3"
  },
  "language_info": {
   "codemirror_mode": {
    "name": "ipython",
    "version": 3
   },
   "file_extension": ".py",
   "mimetype": "text/x-python",
   "name": "python",
   "nbconvert_exporter": "python",
   "pygments_lexer": "ipython3",
   "version": "3.8.5"
  }
 },
 "nbformat": 4,
 "nbformat_minor": 4
}
