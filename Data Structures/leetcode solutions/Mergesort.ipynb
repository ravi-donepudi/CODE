{
 "cells": [
  {
   "cell_type": "markdown",
   "metadata": {},
   "source": [
    "## This implementation of mergesort creates tons of smaller arrays. Try to do it inplace."
   ]
  },
  {
   "cell_type": "code",
   "execution_count": 115,
   "metadata": {},
   "outputs": [],
   "source": [
    "l1=[9,7,5,3,1]\n",
    "l2=[2,4,6,8]\n",
    "arr=l1+l2\n",
    "\n",
    "def merge_Sort(arr):\n",
    "    def merge(arr1,arr2):\n",
    "        if arr1==[] or arr2==[]:\n",
    "            return arr1+arr2\n",
    "        final=[]\n",
    "        while len(arr1)!=0 and len(arr2)!=0:\n",
    "            if arr1[0]<arr2[0]:\n",
    "                final.append(arr1.pop(0))\n",
    "            else:\n",
    "                final.append(arr2.pop(0))\n",
    "        if len(arr1)==0:\n",
    "            final+=arr2\n",
    "        else:\n",
    "            final+=arr1\n",
    "        return final\n",
    "    n=len(arr)\n",
    "    if n<=1:\n",
    "        return arr\n",
    "    mid=n//2\n",
    "    left_half = merge_Sort(arr[0:mid])\n",
    "    right_half = merge_Sort(arr[mid:])\n",
    "    return merge(left_half,right_half)\n",
    "\n",
    "\n"
   ]
  },
  {
   "cell_type": "code",
   "execution_count": 116,
   "metadata": {},
   "outputs": [
    {
     "data": {
      "text/plain": [
       "[1, 2, 3, 4, 5, 6, 7, 8]"
      ]
     },
     "execution_count": 116,
     "metadata": {},
     "output_type": "execute_result"
    }
   ],
   "source": [
    "merge_Sort([1,3,5,7,2,4,6,8])"
   ]
  }
 ],
 "metadata": {
  "kernelspec": {
   "display_name": "Python 3",
   "language": "python",
   "name": "python3"
  },
  "language_info": {
   "codemirror_mode": {
    "name": "ipython",
    "version": 3
   },
   "file_extension": ".py",
   "mimetype": "text/x-python",
   "name": "python",
   "nbconvert_exporter": "python",
   "pygments_lexer": "ipython3",
   "version": "3.8.5"
  }
 },
 "nbformat": 4,
 "nbformat_minor": 4
}
