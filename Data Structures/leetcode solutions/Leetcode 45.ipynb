{
 "cells": [
  {
   "cell_type": "code",
   "execution_count": 1,
   "metadata": {},
   "outputs": [],
   "source": [
    "    \n",
    "#minjumps[i] is the minimum number of jumps to reach n-1 from i.\n",
    "#Recursion: minjumps[n-1]=0, minjumps[i]=1+min(minjumps[i+j+1] for j in range(nums[j]))\n",
    "#dp solution\n",
    "\n",
    "from math import inf\n",
    "class Solution:\n",
    "    def jump(self, nums: list) -> int:\n",
    "        n=len(nums)\n",
    "        if n==1:\n",
    "            return 0\n",
    "        minjumps=[-1]*n\n",
    "        minjumps[n-1]=0\n",
    "        for i in range(n-2,-1,-1):\n",
    "            if nums[i]==0:\n",
    "                minjumps[i]=inf\n",
    "            else:\n",
    "                minjumps[i]=min(1+minjumps[i+j+1] for j in range(nums[i]) if i+j+1<n)\n",
    "        return minjumps[0]\n",
    "    \n",
    "    \n",
    "    \n",
    "#direct solution\n",
    "\n",
    "class Solution:\n",
    "    def jump(self, nums: list) -> int:\n",
    "        if len(nums)<2:return 0\n",
    "        left,right=0,nums[0]\n",
    "        jumps=1\n",
    "        while right<len(n)-1:\n",
    "            next=max(i+nums[i] for i in range(left,right+1))\n",
    "            left,right = right,next\n",
    "        return jumps\n",
    "        \n",
    "    \n",
    "\n"
   ]
  },
  {
   "cell_type": "code",
   "execution_count": 13,
   "metadata": {},
   "outputs": [],
   "source": [
    "to_check=set({3})\n"
   ]
  },
  {
   "cell_type": "code",
   "execution_count": 15,
   "metadata": {},
   "outputs": [
    {
     "name": "stdout",
     "output_type": "stream",
     "text": [
      "3\n"
     ]
    }
   ],
   "source": [
    "for i in to_check:\n",
    "    print(i)"
   ]
  },
  {
   "cell_type": "code",
   "execution_count": 16,
   "metadata": {},
   "outputs": [],
   "source": [
    "to_check.add(4)"
   ]
  },
  {
   "cell_type": "code",
   "execution_count": 18,
   "metadata": {},
   "outputs": [
    {
     "data": {
      "text/plain": [
       "{3, 4}"
      ]
     },
     "execution_count": 18,
     "metadata": {},
     "output_type": "execute_result"
    }
   ],
   "source": [
    "n=10\n",
    "l=4\n",
    "\n",
    "processed=set()\n",
    "to_check"
   ]
  },
  {
   "cell_type": "code",
   "execution_count": 49,
   "metadata": {},
   "outputs": [
    {
     "name": "stdout",
     "output_type": "stream",
     "text": [
      "{0}\n",
      "1 1\n",
      "1 0 True\n",
      "here\n"
     ]
    },
    {
     "data": {
      "text/plain": [
       "True"
      ]
     },
     "execution_count": 49,
     "metadata": {},
     "output_type": "execute_result"
    }
   ],
   "source": [
    "class Solution:\n",
    "    def canReach(self, s: str, minJump: int, maxJump: int) -> bool:\n",
    "        visited={}\n",
    "        to_visit={0}\n",
    "        while to_visit:\n",
    "            print(to_visit)\n",
    "            i=to_visit.pop()\n",
    "            print(minJump,min(maxJump+1,len(s)-1))\n",
    "            for jump in range(minJump,min(maxJump,len(s)-1)+1):\n",
    "                j=i+jump\n",
    "                print(j,s[j],j not in visited)\n",
    "                if s[j]=='0' and j not in visited:\n",
    "                    print('here')\n",
    "                    to_visit.add(j)\n",
    "                if j==len(s)-1:\n",
    "                    return True\n",
    "                    \n",
    "        return False\n",
    "sol=Solution()\n",
    "sol.canReach(\"00\",1,1)"
   ]
  },
  {
   "cell_type": "code",
   "execution_count": 50,
   "metadata": {},
   "outputs": [
    {
     "name": "stdout",
     "output_type": "stream",
     "text": [
      "0 0\n",
      "0 1\n",
      "0 2\n",
      "0 3\n",
      "0 4\n",
      "1 0\n",
      "1 1\n",
      "1 2\n",
      "1 3\n",
      "1 4\n",
      "2 0\n",
      "2 1\n",
      "2 2\n",
      "2 3\n",
      "2 4\n",
      "3 0\n",
      "3 1\n",
      "3 2\n",
      "3 3\n",
      "3 4\n",
      "4 0\n",
      "4 1\n",
      "4 2\n",
      "4 3\n",
      "4 4\n",
      "5 0\n",
      "5 1\n",
      "5 2\n",
      "5 3\n",
      "5 4\n",
      "6 0\n",
      "6 1\n",
      "6 2\n",
      "6 3\n",
      "6 4\n",
      "7 0\n",
      "7 1\n",
      "7 2\n",
      "7 3\n",
      "7 4\n",
      "8 0\n",
      "8 1\n",
      "8 2\n",
      "8 3\n",
      "8 4\n",
      "9 0\n",
      "9 1\n",
      "9 2\n",
      "9 3\n",
      "9 4\n"
     ]
    }
   ],
   "source": [
    "for i in range(10):\n",
    "    for j in range(10):\n",
    "        if j>=5:\n",
    "            break\n",
    "        print(i,j)\n",
    "        "
   ]
  },
  {
   "cell_type": "code",
   "execution_count": null,
   "metadata": {},
   "outputs": [],
   "source": []
  }
 ],
 "metadata": {
  "kernelspec": {
   "display_name": "Python 3",
   "language": "python",
   "name": "python3"
  },
  "language_info": {
   "codemirror_mode": {
    "name": "ipython",
    "version": 3
   },
   "file_extension": ".py",
   "mimetype": "text/x-python",
   "name": "python",
   "nbconvert_exporter": "python",
   "pygments_lexer": "ipython3",
   "version": "3.8.5"
  }
 },
 "nbformat": 4,
 "nbformat_minor": 4
}
