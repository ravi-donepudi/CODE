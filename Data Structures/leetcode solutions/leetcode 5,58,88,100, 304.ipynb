{
 "cells": [
  {
   "cell_type": "markdown",
   "metadata": {},
   "source": [
    "# 5. Longest Palindromic Substring (Incomplete)\n",
    "\n",
    "Given a string s, return the longest palindromic substring in s.\n",
    "\n",
    "Strategy: \n",
    "\n"
   ]
  },
  {
   "cell_type": "code",
   "execution_count": 2,
   "metadata": {},
   "outputs": [],
   "source": [
    "def LPS(s):\n",
    "    if is_palindrome(s):\n",
    "        return s\n",
    "#    else\n",
    "#       return s[:-1]\n",
    "def is_palindrome(s):\n",
    "    if len(s)<=1:\n",
    "        return True\n",
    "    else:\n",
    "        return s[0]==s[-1] and is_palindrome(s[1:-1])"
   ]
  },
  {
   "cell_type": "markdown",
   "metadata": {},
   "source": [
    "# 58 Length of Last Word\n",
    "\n",
    "Given a string s consists of some words separated by spaces, return the length of the last word in the string. If the last word does not exist, return 0.\n",
    "\n",
    "A word is a maximal substring consisting of non-space characters only.\n",
    "\n"
   ]
  },
  {
   "cell_type": "code",
   "execution_count": 26,
   "metadata": {},
   "outputs": [],
   "source": [
    "class Solution:\n",
    "    def lengthOfLastWord(self, s: str) -> int:\n",
    "        if s==\"\":\n",
    "            return 0\n",
    "        if s[-1]==' ':\n",
    "            return self.lengthOfLastWord(s[:-1])\n",
    "        candidate =''\n",
    "        for c in reversed(s):\n",
    "            if c!=' ':\n",
    "                candidate+=c\n",
    "            else:\n",
    "                break\n",
    "        return len(candidate)"
   ]
  },
  {
   "cell_type": "markdown",
   "metadata": {},
   "source": [
    "# 88. Merge Sorted Array\n",
    "Given two sorted integer arrays nums1 and nums2, merge nums2 into nums1 as one sorted array.\n",
    "\n",
    "The number of elements initialized in nums1 and nums2 are m and n respectively. You may assume that nums1 has a size equal to m + n such that it has enough space to hold additional elements from nums2."
   ]
  },
  {
   "cell_type": "code",
   "execution_count": 31,
   "metadata": {},
   "outputs": [],
   "source": [
    "class Solution:\n",
    "    def merge(self, nums1, m, nums2, n) -> None:\n",
    "        if m!=0 and n!=0:\n",
    "            i1=m-1\n",
    "            i2=n-1\n",
    "#Use the two pointers i1 and i2 and move them along backwards as long as atleast one of the arrays is nonempty.\n",
    "            for i in range(m+n-1, -1, -1):\n",
    "                if i1>=0 and i2>=0:\n",
    "                    if nums1[i1]>nums2[i2]:\n",
    "                        nums1[i]=nums1[i1]\n",
    "                        i1-=1\n",
    "                    else:\n",
    "                        nums1[i]=nums2[i2]\n",
    "                        i2-=1\n",
    "                elif i2>=0:\n",
    "                    nums1[i]=nums2[i2]\n",
    "                    i2-=1\n",
    "        if m==0:\n",
    "            for i in range(len(nums1)):\n",
    "                nums1[i]=nums2[i]"
   ]
  },
  {
   "cell_type": "code",
   "execution_count": 32,
   "metadata": {},
   "outputs": [],
   "source": [
    "class TreeNode:\n",
    "    def __init__(self, val=0, left=None, right=None):\n",
    "        self.val = val\n",
    "        self.left = left\n",
    "        self.right = right"
   ]
  },
  {
   "cell_type": "markdown",
   "metadata": {},
   "source": [
    "# 100 Same Tree\n",
    "Given the roots of two binary trees p and q, write a function to check if they are the same or not.\n",
    "\n",
    "Two binary trees are considered the same if they are structurally identical, and the nodes have the same value."
   ]
  },
  {
   "cell_type": "code",
   "execution_count": 88,
   "metadata": {},
   "outputs": [],
   "source": [
    "\n",
    "class Solution:\n",
    "    def isSameTree(self, p: TreeNode, q: TreeNode) -> bool:\n",
    "        if p==None or q==None:\n",
    "            return p==q\n",
    "        if p.val!=q.val:\n",
    "            return False\n",
    "            print(1)\n",
    "        elif (p.left == None) != (q.left == None):\n",
    "            print(1)\n",
    "            return False\n",
    "        elif (p.right==None) != (q.right == None):\n",
    "            return False\n",
    "        elif (p.left == p.right):\n",
    "            return True\n",
    "        else:\n",
    "            return self.isSameTree(p.left,q.left) and self.isSameTree(p.right, q.right)\n",
    "\n",
    "pl=TreeNode(2)\n",
    "pr=TreeNode(3)\n",
    "ql=TreeNode(2)\n",
    "qr=TreeNode(3)\n",
    "p = TreeNode(1, pl, pr)\n",
    "q = TreeNode(1, ql, qr)"
   ]
  },
  {
   "cell_type": "markdown",
   "metadata": {},
   "source": [
    "# 304 Add up all the numbers in a specified rectangle in a 2d array"
   ]
  },
  {
   "cell_type": "code",
   "execution_count": 202,
   "metadata": {},
   "outputs": [
    {
     "name": "stdout",
     "output_type": "stream",
     "text": [
      "14\n",
      "11\n",
      "12\n"
     ]
    }
   ],
   "source": [
    "class NumMatrix:\n",
    "\n",
    "    def __init__(self, matrix):\n",
    "        m=len(matrix)\n",
    "        n=len(matrix[0])\n",
    "        self.matrix = matrix\n",
    "        self.cum_sums =[[0 for i in range(n)] for j in range(m)]\n",
    "#first row initialization:\n",
    "        current = 0\n",
    "        for j in range(n):\n",
    "            current = current+matrix[0][j]\n",
    "            self.cum_sums[0][j]=current\n",
    "\n",
    "#first column initialization:\n",
    "        current =0\n",
    "        for i in range(m):\n",
    "            current = current+matrix[i][0]\n",
    "            self.cum_sums[i][0]=current\n",
    "#rest of the initialization:\n",
    "        for j in range(1,n):\n",
    "            for i in range(1,m):\n",
    "                self.cum_sums[i][j] = self.cum_sums[i-1][j]+self.cum_sums[i][j-1]-self.cum_sums[i-1][j-1]+matrix[i][j]\n",
    "    def sumRegion(self, row1: int, col1: int, row2: int, col2: int) -> int:\n",
    "        sum = 0\n",
    "        a=self.cum_sums[row2][col2]\n",
    "        b= self.cum_sums[row1-1][col2] if row1>0 else 0\n",
    "        c= self.cum_sums[row2][col1-1] if col1>0 else 0\n",
    "        d= self.cum_sums[row1-1][col1-1] if (row1>0 and col1>0) else 0\n",
    "        return a-b-c+d\n",
    "    \n",
    "matrix = [[3,0,1,4,2],[5,6,3,2,1],[1,2,0,1,5],[4,1,0,1,7],[1,0,3,0,5]]\n",
    "ls=[[0,0,1,1],[1,1,2,2],[1,2,2,4]]\n",
    "nummat = NumMatrix(matrix)\n",
    "for l in ls:\n",
    "    print(nummat.sumRegion(l[0],l[1],l[2],l[3]))\n"
   ]
  }
 ],
 "metadata": {
  "kernelspec": {
   "display_name": "Python 3",
   "language": "python",
   "name": "python3"
  },
  "language_info": {
   "codemirror_mode": {
    "name": "ipython",
    "version": 3
   },
   "file_extension": ".py",
   "mimetype": "text/x-python",
   "name": "python",
   "nbconvert_exporter": "python",
   "pygments_lexer": "ipython3",
   "version": "3.8.5"
  }
 },
 "nbformat": 4,
 "nbformat_minor": 4
}
