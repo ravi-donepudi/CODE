{
 "cells": [
  {
   "cell_type": "markdown",
   "metadata": {},
   "source": [
    "## Leetcode 128: Find longest consecutive run of integers in an unsorted list "
   ]
  },
  {
   "cell_type": "code",
   "execution_count": 14,
   "metadata": {},
   "outputs": [
    {
     "data": {
      "text/plain": [
       "7"
      ]
     },
     "execution_count": 14,
     "metadata": {},
     "output_type": "execute_result"
    }
   ],
   "source": [
    "class Solution:\n",
    "    def longestConsecutive(self, nums) -> int:\n",
    "        if not nums:\n",
    "            return 0\n",
    "        nums = set(nums)\n",
    "        max_length=0\n",
    "        streak=1\n",
    "        while nums:\n",
    "            n=nums.pop()\n",
    "            temp=n+1\n",
    "            while temp in nums:\n",
    "                nums.remove(temp)\n",
    "                streak+=1\n",
    "                temp+=1\n",
    "            temp=n-1\n",
    "            while temp in nums:\n",
    "                nums.remove(temp)\n",
    "                streak+=1\n",
    "                temp-=1\n",
    "            max_length=max(max_length,streak)\n",
    "            streak=1\n",
    "        return max_length\n",
    "            \n",
    "sol = Solution()\n",
    "sol.longestConsecutive([9,1,4,7,3,-1,0,5,8,-1,6])"
   ]
  },
  {
   "cell_type": "markdown",
   "metadata": {},
   "source": [
    "### A simpler solution is to not even bother processing an element n until n-1 is no longer in the set and only then process it."
   ]
  },
  {
   "cell_type": "code",
   "execution_count": null,
   "metadata": {},
   "outputs": [],
   "source": []
  }
 ],
 "metadata": {
  "kernelspec": {
   "display_name": "Python 3",
   "language": "python",
   "name": "python3"
  },
  "language_info": {
   "codemirror_mode": {
    "name": "ipython",
    "version": 3
   },
   "file_extension": ".py",
   "mimetype": "text/x-python",
   "name": "python",
   "nbconvert_exporter": "python",
   "pygments_lexer": "ipython3",
   "version": "3.8.5"
  }
 },
 "nbformat": 4,
 "nbformat_minor": 4
}
