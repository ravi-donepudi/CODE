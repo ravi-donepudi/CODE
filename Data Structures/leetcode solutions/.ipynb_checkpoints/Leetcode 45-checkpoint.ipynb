{
 "cells": [
  {
   "cell_type": "code",
   "execution_count": 1,
   "metadata": {},
   "outputs": [],
   "source": [
    "    \n",
    "#minjumps[i] is the minimum number of jumps to reach n-1 from i.\n",
    "#Recursion: minjumps[n-1]=0, minjumps[i]=1+min(minjumps[i+j+1] for j in range(nums[j]))\n",
    "#dp solution\n",
    "\n",
    "from math import inf\n",
    "class Solution:\n",
    "    def jump(self, nums: list) -> int:\n",
    "        n=len(nums)\n",
    "        if n==1:\n",
    "            return 0\n",
    "        minjumps=[-1]*n\n",
    "        minjumps[n-1]=0\n",
    "        for i in range(n-2,-1,-1):\n",
    "            if nums[i]==0:\n",
    "                minjumps[i]=inf\n",
    "            else:\n",
    "                minjumps[i]=min(1+minjumps[i+j+1] for j in range(nums[i]) if i+j+1<n)\n",
    "        return minjumps[0]\n",
    "    \n",
    "    \n",
    "    \n",
    "#direct solution\n",
    "\n",
    "class Solution:\n",
    "    def jump(self, nums: list) -> int:\n",
    "        if len(nums)<2:return 0\n",
    "        left,right=0,nums[0]\n",
    "        jumps=1\n",
    "        while right<len(n)-1:\n",
    "            next=max(i+nums[i] for i in range(left,right+1))\n",
    "            left,right = right,next\n",
    "        return jumps\n",
    "        \n",
    "    \n",
    "\n"
   ]
  },
  {
   "cell_type": "code",
   "execution_count": 13,
   "metadata": {},
   "outputs": [],
   "source": [
    "to_check=set({3})\n"
   ]
  },
  {
   "cell_type": "code",
   "execution_count": 15,
   "metadata": {},
   "outputs": [
    {
     "name": "stdout",
     "output_type": "stream",
     "text": [
      "3\n"
     ]
    }
   ],
   "source": [
    "for i in to_check:\n",
    "    print(i)"
   ]
  },
  {
   "cell_type": "code",
   "execution_count": 16,
   "metadata": {},
   "outputs": [],
   "source": [
    "to_check.add(4)"
   ]
  },
  {
   "cell_type": "code",
   "execution_count": 18,
   "metadata": {},
   "outputs": [
    {
     "data": {
      "text/plain": [
       "{3, 4}"
      ]
     },
     "execution_count": 18,
     "metadata": {},
     "output_type": "execute_result"
    }
   ],
   "source": [
    "n=10\n",
    "l=4\n",
    "\n",
    "processed=set()\n",
    "to_check"
   ]
  },
  {
   "cell_type": "code",
   "execution_count": 44,
   "metadata": {},
   "outputs": [
    {
     "name": "stdout",
     "output_type": "stream",
     "text": [
      "{0}\n",
      "2 1 True\n",
      "3 0 True\n",
      "here\n",
      "{3}\n",
      "5 0 True\n",
      "here\n"
     ]
    },
    {
     "data": {
      "text/plain": [
       "True"
      ]
     },
     "execution_count": 44,
     "metadata": {},
     "output_type": "execute_result"
    }
   ],
   "source": [
    "class Solution:\n",
    "    def canReach(self, s: str, minJump: int, maxJump: int) -> bool:\n",
    "        visited={}\n",
    "        to_visit={0}\n",
    "        while to_visit:\n",
    "            i=to_visit.pop()\n",
    "            for jump in range(minJump,min(maxJump+1,len(s)-1)):\n",
    "                j=i+jump\n",
    "                if s[j]=='0' and j not in visited:\n",
    "                    to_visit.add(j)\n",
    "                if j==len(s)-1:\n",
    "                    return True\n",
    "                    \n",
    "        return False\n",
    "sol=Solution()\n",
    "sol.canReach(\"011010\",2,3)"
   ]
  },
  {
   "cell_type": "code",
   "execution_count": null,
   "metadata": {},
   "outputs": [],
   "source": []
  }
 ],
 "metadata": {
  "kernelspec": {
   "display_name": "Python 3",
   "language": "python",
   "name": "python3"
  },
  "language_info": {
   "codemirror_mode": {
    "name": "ipython",
    "version": 3
   },
   "file_extension": ".py",
   "mimetype": "text/x-python",
   "name": "python",
   "nbconvert_exporter": "python",
   "pygments_lexer": "ipython3",
   "version": "3.8.5"
  }
 },
 "nbformat": 4,
 "nbformat_minor": 4
}
