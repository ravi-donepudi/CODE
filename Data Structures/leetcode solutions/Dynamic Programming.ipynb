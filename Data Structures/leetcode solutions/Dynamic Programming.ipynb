{
 "cells": [
  {
   "cell_type": "markdown",
   "metadata": {},
   "source": [
    "## Fibonacci numbers using O(n) time and O(1) space\n",
    "### Recursion: Fib(0)=0, Fib(1)=1, Fib(n) = Fib(n-1)+Fib(n-2)"
   ]
  },
  {
   "cell_type": "code",
   "execution_count": 41,
   "metadata": {},
   "outputs": [],
   "source": [
    "def fib(n):\n",
    "    previous=0\n",
    "    current=1\n",
    "    for i in range(n):\n",
    "        current, previous = current+previous, current\n",
    "    return previous"
   ]
  },
  {
   "cell_type": "markdown",
   "metadata": {},
   "source": [
    "## Number of moves to solve the \"Tower of Hanoi\" problem with n disks in O(n) time and O(1) space\n",
    "\n",
    "### Recursion: Hanoi(0)=0, Hanoi(1)=1, Hanoi(n)=2*Hanoi(n-1)+1"
   ]
  },
  {
   "cell_type": "code",
   "execution_count": 49,
   "metadata": {},
   "outputs": [],
   "source": [
    "def hanoi(n):\n",
    "    previous = 0\n",
    "    current = 1\n",
    "    for i in range(n):\n",
    "        current, previous = current+previous, current\n",
    "    return previous"
   ]
  },
  {
   "cell_type": "markdown",
   "metadata": {},
   "source": [
    "## Longest Increasing Subsequence\n",
    "### LIS(i,j) is the longest increasing subsequence of A[i,..,n-1] starting with A[j]\n",
    "### Recurrence:         \n",
    "### LIS(i,j) is defined in three cases as\n",
    "### i) 0 if i>=n\n",
    "### ii) LIS(i+1,j) if A[i]<=A[j]\n",
    "### iii) max( 1+LIS(i+1,i), LIS(i+1,j) else\n",
    "\n",
    "### However, we need to memoize, otherwise this is apparently too slow"
   ]
  },
  {
   "cell_type": "code",
   "execution_count": 133,
   "metadata": {},
   "outputs": [],
   "source": [
    "def LIS(A):\n",
    "    memo=[[-1 for i in range(len(A))] for j in range(len(A))]\n",
    "    def LIS(i,j):\n",
    "        if i>=n:\n",
    "            return 0\n",
    "        if memo[i][j]!=-1:\n",
    "            return memo[i][j]                    \n",
    "        elif j==-1:\n",
    "            return max(1+LIS(i+1,i),LIS(i+1,j))\n",
    "        elif A[i]<=A[j]:\n",
    "            return LIS(i+1,j)\n",
    "        else:\n",
    "            return max(1+LIS(i+1,i),LIS(i+1,j))\n",
    "    return LIS(0,-1)"
   ]
  },
  {
   "cell_type": "code",
   "execution_count": 131,
   "metadata": {},
   "outputs": [
    {
     "data": {
      "text/plain": [
       "4"
      ]
     },
     "execution_count": 131,
     "metadata": {},
     "output_type": "execute_result"
    }
   ],
   "source": [
    "def lcs(X, Y):\n",
    "    memo = [[-1 for j in range(len(Y))] for i in range(len(X))]\n",
    "    def lcs_helper(m,n):\n",
    "        if m==0 or n==0:\n",
    "            return 0\n",
    "\n",
    "        if memo[m-1][n-1]!=-1:\n",
    "            return memo[m-1][n-1]\n",
    "\n",
    "        if X[m-1]==Y[n-1]:\n",
    "            memo[m-1][n-1]=1+lcs_helper(m-1,n-1)\n",
    "            return memo[m-1][n-1]\n",
    "        else:\n",
    "            memo[m-1][n-1]=max(lcs_helper(m-1,n),lcs_helper(m,n-1))\n",
    "            return memo[m-1][n-1]\n",
    "    \n",
    "\n",
    "    return lcs_helper(m,n)\n",
    "\n",
    "lcs(\"AGGTAB\",\"GXTXAYB\")\n",
    "\n"
   ]
  },
  {
   "cell_type": "code",
   "execution_count": 107,
   "metadata": {},
   "outputs": [],
   "source": [
    "def test(A,B):\n",
    "    def inner1():\n",
    "        print(A)\n",
    "        def inner2():"
   ]
  },
  {
   "cell_type": "code",
   "execution_count": null,
   "metadata": {},
   "outputs": [],
   "source": []
  }
 ],
 "metadata": {
  "kernelspec": {
   "display_name": "Python 3",
   "language": "python",
   "name": "python3"
  },
  "language_info": {
   "codemirror_mode": {
    "name": "ipython",
    "version": 3
   },
   "file_extension": ".py",
   "mimetype": "text/x-python",
   "name": "python",
   "nbconvert_exporter": "python",
   "pygments_lexer": "ipython3",
   "version": "3.8.5"
  }
 },
 "nbformat": 4,
 "nbformat_minor": 4
}
