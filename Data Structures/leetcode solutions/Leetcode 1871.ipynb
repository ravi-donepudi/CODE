{
 "cells": [
  {
   "cell_type": "code",
   "execution_count": 14,
   "metadata": {},
   "outputs": [],
   "source": [
    "class Solution:\n",
    "#reach[i] is true if we can reach n-1 from i\n",
    "    def canReach(self, s: str, minJump: int, maxJump: int) -> bool:\n",
    "        n=len(s)\n",
    "        if s[n-1]=='1':\n",
    "            return False\n",
    "        reach=[False]*n\n",
    "        reach[n-1]=True\n",
    "        for i in range(n-2,-1,-1):\n",
    "            for j in range(i+minJump,min(i+maxJump,len(s)-1)+1):             \n",
    "                if s[j]=='0' and reach[j]==True:\n",
    "                    reach[i]=True\n",
    "                    break       \n",
    "        print(reach)\n",
    "        return reach[0]\n",
    "\n",
    "    def canReach(self, s, minJump, maxJump)-> bool:\n",
    "        n=len(s)\n",
    "        arr=[c=='0' for c in s]\n",
    "        pre=0\n",
    "        for i in range(1,n):\n",
    "            if minJump>i: pre+=arr[i-minJump]\n",
    "            if maxJump>i: pre-=arr[i-maxJump-1]\n",
    "            arr[i]&=(pre>0)\n",
    "\n",
    "        return arr[-1]"
   ]
  },
  {
   "cell_type": "code",
   "execution_count": null,
   "metadata": {},
   "outputs": [],
   "source": []
  }
 ],
 "metadata": {
  "kernelspec": {
   "display_name": "Python 3",
   "language": "python",
   "name": "python3"
  },
  "language_info": {
   "codemirror_mode": {
    "name": "ipython",
    "version": 3
   },
   "file_extension": ".py",
   "mimetype": "text/x-python",
   "name": "python",
   "nbconvert_exporter": "python",
   "pygments_lexer": "ipython3",
   "version": "3.8.5"
  }
 },
 "nbformat": 4,
 "nbformat_minor": 4
}
