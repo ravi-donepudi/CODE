{
 "cells": [
  {
   "cell_type": "code",
   "execution_count": 4,
   "metadata": {},
   "outputs": [],
   "source": [
    "def CM(q):\n",
    "    g=4;\n",
    "    p=radical(q);\n",
    "    F.<alpha> = GF(q); A.<a> = F[];R.<x>=A[]\n",
    "    f=(x*(x^4-1)*(x^4+a*x^2+1))\n",
    "    c=(f^((p-1)/2)).list()\n",
    "    #Using the coefficients to compute Cartier-Manin matrix and it's determinant. \n",
    "    return matrix(A, g, g, lambda i, j: c[(i+1)*p-j-1] )"
   ]
  },
  {
   "cell_type": "code",
   "execution_count": 24,
   "metadata": {},
   "outputs": [
    {
     "data": {
      "text/plain": [
       "(8) * (a + 2)^8 * (a + 15)^8 * (a^2 + 12)^4"
      ]
     },
     "execution_count": 24,
     "metadata": {},
     "output_type": "execute_result"
    }
   ],
   "source": [
    "CM(q).determinant().factor()"
   ]
  },
  {
   "cell_type": "code",
   "execution_count": 17,
   "metadata": {},
   "outputs": [
    {
     "data": {
      "text/plain": [
       "(a + 1)^2"
      ]
     },
     "execution_count": 17,
     "metadata": {},
     "output_type": "execute_result"
    }
   ],
   "source": [
    "q=17\n",
    "F.<alpha> = GF(q); A.<a> = F[];\n",
    "(a^2+2*a+1).factor()"
   ]
  },
  {
   "cell_type": "code",
   "execution_count": 33,
   "metadata": {},
   "outputs": [
    {
     "data": {
      "text/plain": [
       "0"
      ]
     },
     "execution_count": 33,
     "metadata": {},
     "output_type": "execute_result"
    }
   ],
   "source": [
    "F.<alpha> = GF(q); A.<a> = F[];R.<x>=A[]\n",
    "p=radical(q)\n",
    "f= (x^3+a^q-a)^((p-1)/2)\n",
    "c=f.list();c[q-1]"
   ]
  },
  {
   "cell_type": "code",
   "execution_count": 28,
   "metadata": {},
   "outputs": [
    {
     "data": {
      "text/plain": [
       "x^24 + (8*a^17 + 9*a)*x^21 + (11*a^34 + 12*a^18 + 11*a^2)*x^18 + (5*a^51 + 2*a^35 + 15*a^19 + 12*a^3)*x^15 + (2*a^68 + 9*a^52 + 12*a^36 + 9*a^20 + 2*a^4)*x^12 + (5*a^85 + 9*a^69 + 16*a^53 + a^37 + 8*a^21 + 12*a^5)*x^9 + (11*a^102 + 2*a^86 + 12*a^70 + a^54 + 12*a^38 + 2*a^22 + 11*a^6)*x^6 + (8*a^119 + 12*a^103 + 15*a^87 + 9*a^71 + 8*a^55 + 2*a^39 + 5*a^23 + 9*a^7)*x^3 + a^136 + 9*a^120 + 11*a^104 + 12*a^88 + 2*a^72 + 12*a^56 + 11*a^40 + 9*a^24 + a^8"
      ]
     },
     "execution_count": 28,
     "metadata": {},
     "output_type": "execute_result"
    }
   ],
   "source": []
  },
  {
   "cell_type": "code",
   "execution_count": null,
   "metadata": {},
   "outputs": [],
   "source": []
  }
 ],
 "metadata": {
  "kernelspec": {
   "display_name": "SageMath 9.2",
   "language": "sage",
   "name": "sagemath"
  },
  "language_info": {
   "codemirror_mode": {
    "name": "ipython",
    "version": 3
   },
   "file_extension": ".py",
   "mimetype": "text/x-python",
   "name": "python",
   "nbconvert_exporter": "python",
   "pygments_lexer": "ipython3",
   "version": "3.8.5"
  }
 },
 "nbformat": 4,
 "nbformat_minor": 4
}
