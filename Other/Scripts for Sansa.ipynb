{
 "cells": [
  {
   "cell_type": "code",
   "execution_count": 38,
   "metadata": {},
   "outputs": [],
   "source": [
    "from time import time\n",
    "from numpy import random\n",
    "def Sansa_Math_Quiz():\n",
    "    N=14\n",
    "    print('Hello Sansa! How many questions would you like to attempt today? ')\n",
    "    score=0\n",
    "    num_questions = input()\n",
    "    if num_questions=='0': return\n",
    "    for i in range(int(num_questions)):\n",
    "        m,n = random.randint(0,N+1), random.randint(5,11)\n",
    "        t = time()\n",
    "        print('What is '+ str(m)+' x '+str(n)+'?')\n",
    "        ans=input()\n",
    "        if ans==str(m*n):\n",
    "            print('Correct!')\n",
    "            score+=1\n",
    "        else:\n",
    "            print('Not quite! It is '+ str(m*n)+'.')\n",
    "        t=(time()-t)\n",
    "    print('Your final score is:',score,'/',num_questions,'. Your average time per question is %.2f seconds'%(t/int(num_questions)),'. Your total time is %.2f'%t)"
   ]
  },
  {
   "cell_type": "code",
   "execution_count": 39,
   "metadata": {},
   "outputs": [
    {
     "name": "stdout",
     "output_type": "stream",
     "text": [
      "Hello Sansa! How many questions would you like to attempt today? \n",
      "7\n",
      "What is 9 x 6?\n",
      "54\n",
      "Correct!\n",
      "What is 12 x 5?\n",
      "60\n",
      "Correct!\n",
      "What is 1 x 6?\n",
      "6\n",
      "Correct!\n",
      "What is 9 x 7?\n",
      "63\n",
      "Correct!\n",
      "What is 0 x 6?\n",
      "0\n",
      "Correct!\n",
      "What is 6 x 7?\n",
      "42\n",
      "Correct!\n",
      "What is 14 x 7?\n",
      "98\n",
      "Correct!\n",
      "Your final score is: 7 / 7 . Your average time per question is 0.59 seconds . Your total time is 4.10\n"
     ]
    }
   ],
   "source": [
    "Sansa_Math_Quiz()\n",
    "\n"
   ]
  },
  {
   "cell_type": "code",
   "execution_count": null,
   "metadata": {},
   "outputs": [],
   "source": []
  }
 ],
 "metadata": {
  "kernelspec": {
   "display_name": "Python 3",
   "language": "python",
   "name": "python3"
  },
  "language_info": {
   "codemirror_mode": {
    "name": "ipython",
    "version": 3
   },
   "file_extension": ".py",
   "mimetype": "text/x-python",
   "name": "python",
   "nbconvert_exporter": "python",
   "pygments_lexer": "ipython3",
   "version": "3.8.5"
  }
 },
 "nbformat": 4,
 "nbformat_minor": 4
}
