{
 "cells": [
  {
   "cell_type": "code",
   "execution_count": 1,
   "metadata": {},
   "outputs": [],
   "source": [
    "from time import time\n",
    "from numpy import random\n",
    "def Sansa_Math_Quiz():\n",
    "    N=14\n",
    "    print('Hello Sansa! How many questions would you like to attempt today? ')\n",
    "    score=0\n",
    "    num_questions = input()\n",
    "    if num_questions=='0': return\n",
    "    for i in range(int(num_questions)):\n",
    "        m,n = random.randint(0,N+1), random.randint(5,11)\n",
    "        t = time()\n",
    "        print('What is '+ str(m)+' x '+str(n)+'?')\n",
    "        ans=input()\n",
    "        if ans==str(m*n):\n",
    "            print('Correct!')\n",
    "            score+=1\n",
    "        else:\n",
    "            print('Not quite! It is '+ str(m*n)+'.')\n",
    "        t=(time()-t)\n",
    "    print('Your final score is:',score,'/',num_questions,'. Your average time per question is %.2f seconds'%(t/int(num_questions)),'. Your total time is %.2f'%t)"
   ]
  },
  {
   "cell_type": "markdown",
   "metadata": {},
   "source": [
    "Sansa_Math_Quiz()"
   ]
  },
  {
   "cell_type": "code",
   "execution_count": null,
   "metadata": {},
   "outputs": [],
   "source": []
  }
 ],
 "metadata": {
  "kernelspec": {
   "display_name": "Python 3",
   "language": "python",
   "name": "python3"
  },
  "language_info": {
   "codemirror_mode": {
    "name": "ipython",
    "version": 3
   },
   "file_extension": ".py",
   "mimetype": "text/x-python",
   "name": "python",
   "nbconvert_exporter": "python",
   "pygments_lexer": "ipython3",
   "version": "3.8.5"
  }
 },
 "nbformat": 4,
 "nbformat_minor": 4
}
