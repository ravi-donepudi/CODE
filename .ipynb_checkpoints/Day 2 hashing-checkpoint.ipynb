{
 "cells": [
  {
   "cell_type": "code",
   "execution_count": 141,
   "metadata": {},
   "outputs": [
    {
     "name": "stdout",
     "output_type": "stream",
     "text": [
      "1\n",
      "230584300921369601\n",
      "6870310583545294398\n",
      "529344067295497451\n"
     ]
    },
    {
     "ename": "TypeError",
     "evalue": "unhashable type: 'list'",
     "output_type": "error",
     "traceback": [
      "\u001b[0;31m---------------------------------------------------------------------------\u001b[0m",
      "\u001b[0;31mTypeError\u001b[0m                                 Traceback (most recent call last)",
      "\u001b[0;32m<ipython-input-141-9bde7c80140f>\u001b[0m in \u001b[0;36m<module>\u001b[0;34m\u001b[0m\n\u001b[1;32m      9\u001b[0m \u001b[0mprint\u001b[0m\u001b[0;34m(\u001b[0m\u001b[0mhash\u001b[0m\u001b[0;34m(\u001b[0m\u001b[0mc\u001b[0m\u001b[0;34m)\u001b[0m\u001b[0;34m)\u001b[0m\u001b[0;34m\u001b[0m\u001b[0;34m\u001b[0m\u001b[0m\n\u001b[1;32m     10\u001b[0m \u001b[0mprint\u001b[0m\u001b[0;34m(\u001b[0m\u001b[0mhash\u001b[0m\u001b[0;34m(\u001b[0m\u001b[0md\u001b[0m\u001b[0;34m)\u001b[0m\u001b[0;34m)\u001b[0m\u001b[0;34m\u001b[0m\u001b[0;34m\u001b[0m\u001b[0m\n\u001b[0;32m---> 11\u001b[0;31m \u001b[0mprint\u001b[0m\u001b[0;34m(\u001b[0m\u001b[0mhash\u001b[0m\u001b[0;34m(\u001b[0m\u001b[0me\u001b[0m\u001b[0;34m)\u001b[0m\u001b[0;34m)\u001b[0m\u001b[0;34m\u001b[0m\u001b[0;34m\u001b[0m\u001b[0m\n\u001b[0m",
      "\u001b[0;31mTypeError\u001b[0m: unhashable type: 'list'"
     ]
    }
   ],
   "source": [
    "#hashing various kinds of datatypes. See error happening for list since it's mutable\n",
    "a=1\n",
    "b=1.1\n",
    "c=\"baaa\"\n",
    "d=(1,2,3)\n",
    "e=[1,2,3]\n",
    "f=[1,2,3]\n",
    "print(hash(a))\n",
    "print(hash(b))\n",
    "print(hash(c))\n",
    "print(hash(d))\n",
    "print(hash(e))"
   ]
  },
  {
   "cell_type": "code",
   "execution_count": 19,
   "metadata": {},
   "outputs": [
    {
     "name": "stdout",
     "output_type": "stream",
     "text": [
      "100\n",
      "-79272694646325283\n",
      "-6644214454873602895\n"
     ]
    }
   ],
   "source": [
    "#Demonstration of __hash__ as an inbuilt function\n",
    "\n",
    "val = 100\n",
    "print(val.__hash__())\n",
    "print(\"falcon\".__hash__())\n",
    "print((1,).__hash__())\n"
   ]
  },
  {
   "cell_type": "code",
   "execution_count": 60,
   "metadata": {},
   "outputs": [
    {
     "data": {
      "text/plain": [
       "True"
      ]
     },
     "execution_count": 60,
     "metadata": {},
     "output_type": "execute_result"
    }
   ],
   "source": [
    "class User:\n",
    "    def __init__(self, name, job):\n",
    "        self.name = name\n",
    "        self.job = job\n",
    "    def __eq__(self, user):\n",
    "        return self.name==user.name and self.job==user.job\n",
    "    def __str__(self):\n",
    "        return self.name+\" , \"+self.job\n",
    "\n",
    "u1 = User(\"john\",\"carpenter\")\n",
    "u2 = User(\"john\",\"carpenter\")\n",
    "\n",
    "print('hash of user 1')\n",
    "print(hash(u1))\n",
    "\n",
    "print('hash of user 2')\n",
    "print(hash(u2))\n",
    "u1.__eq__(u2)\n",
    "print(u1)"
   ]
  },
  {
   "cell_type": "code",
   "execution_count": 88,
   "metadata": {},
   "outputs": [],
   "source": [
    "#iterator implementation\n",
    "class MyNumbers:\n",
    "  def __iter__(self):\n",
    "    self.a = 1\n",
    "    return self\n",
    "\n",
    "  def __next__(self):\n",
    "    x = self.a\n",
    "    self.a += 1\n",
    "    return x\n",
    "\n",
    "num = MyNumbers()\n",
    "iterator=iter(num)\n",
    "next(iterator)"
   ]
  },
  {
   "cell_type": "code",
   "execution_count": 136,
   "metadata": {},
   "outputs": [],
   "source": [
    "#generators\n",
    "def reverse(data):\n",
    "    for index in range(0, len(data)-1, 1):\n",
    "        yield data[index]\n",
    "data=[1,2,3,4,5,6,7]\n",
    "gen=reverse(data)\n",
    "next(gen)"
   ]
  },
  {
   "cell_type": "code",
   "execution_count": 150,
   "metadata": {},
   "outputs": [],
   "source": [
    "from random import randrange\n",
    "\n",
    "lst=[]\n",
    "for i in range(100):\n",
    "    lst.append(randrange(1000))"
   ]
  },
  {
   "cell_type": "code",
   "execution_count": 185,
   "metadata": {},
   "outputs": [],
   "source": [
    "dict_lst = {}\n",
    "for i in range(len(lst)):\n",
    "    dict_lst[hash(lst[i])]=i"
   ]
  },
  {
   "cell_type": "code",
   "execution_count": 186,
   "metadata": {},
   "outputs": [
    {
     "data": {
      "text/plain": [
       "{393: 0,\n",
       " 17: 1,\n",
       " 430: 2,\n",
       " 401: 3,\n",
       " 192: 4,\n",
       " 587: 5,\n",
       " 722: 6,\n",
       " 357: 7,\n",
       " 426: 8,\n",
       " 627: 9,\n",
       " 769: 10,\n",
       " 227: 11,\n",
       " 588: 12,\n",
       " 549: 13,\n",
       " 429: 14,\n",
       " 43: 15,\n",
       " 472: 16,\n",
       " 314: 17,\n",
       " 909: 18,\n",
       " 661: 19,\n",
       " 143: 20,\n",
       " 382: 34,\n",
       " 441: 22,\n",
       " 947: 35,\n",
       " 642: 24,\n",
       " 536: 25,\n",
       " 224: 26,\n",
       " 709: 27,\n",
       " 645: 84,\n",
       " 282: 29,\n",
       " 654: 30,\n",
       " 443: 31,\n",
       " 658: 32,\n",
       " 647: 33,\n",
       " 511: 36,\n",
       " 529: 37,\n",
       " 91: 38,\n",
       " 384: 39,\n",
       " 818: 40,\n",
       " 346: 41,\n",
       " 982: 42,\n",
       " 21: 43,\n",
       " 383: 44,\n",
       " 557: 45,\n",
       " 298: 46,\n",
       " 442: 47,\n",
       " 42: 48,\n",
       " 242: 49,\n",
       " 955: 50,\n",
       " 116: 51,\n",
       " 892: 80,\n",
       " 527: 53,\n",
       " 257: 54,\n",
       " 585: 55,\n",
       " 471: 71,\n",
       " 406: 57,\n",
       " 307: 58,\n",
       " 989: 59,\n",
       " 615: 60,\n",
       " 467: 61,\n",
       " 18: 62,\n",
       " 173: 63,\n",
       " 742: 64,\n",
       " 984: 65,\n",
       " 226: 66,\n",
       " 266: 67,\n",
       " 754: 68,\n",
       " 546: 69,\n",
       " 277: 70,\n",
       " 500: 72,\n",
       " 408: 73,\n",
       " 274: 74,\n",
       " 878: 75,\n",
       " 367: 76,\n",
       " 176: 77,\n",
       " 589: 78,\n",
       " 12: 79,\n",
       " 644: 81,\n",
       " 273: 82,\n",
       " 179: 83,\n",
       " 333: 85,\n",
       " 859: 86,\n",
       " 223: 87,\n",
       " 118: 88,\n",
       " 55: 89,\n",
       " 857: 90,\n",
       " 797: 91,\n",
       " 691: 92,\n",
       " 336: 93,\n",
       " 553: 94,\n",
       " 98: 95,\n",
       " 853: 96,\n",
       " 76: 97,\n",
       " 548: 98,\n",
       " 158: 99}"
      ]
     },
     "execution_count": 186,
     "metadata": {},
     "output_type": "execute_result"
    }
   ],
   "source": [
    "dict_lst"
   ]
  },
  {
   "cell_type": "code",
   "execution_count": 175,
   "metadata": {},
   "outputs": [
    {
     "name": "stdout",
     "output_type": "stream",
     "text": [
      "393 472 865\n",
      "722 143 865\n",
      "588 277 865\n",
      "472 393 865\n",
      "143 722 865\n",
      "642 223 865\n",
      "529 336 865\n",
      "277 588 865\n",
      "12 853 865\n",
      "223 642 865\n",
      "336 529 865\n",
      "853 12 865\n"
     ]
    }
   ],
   "source": [
    "target=865\n",
    "for i in range(len(lst)):\n",
    "    if 865-lst[i] in dict_lst:\n",
    "        print(lst[i], dict_lst[865-lst[i]][1],lst[i]+dict_lst[865-lst[i]][1])"
   ]
  },
  {
   "cell_type": "code",
   "execution_count": 182,
   "metadata": {},
   "outputs": [
    {
     "data": {
      "text/plain": [
       "True"
      ]
     },
     "execution_count": 182,
     "metadata": {},
     "output_type": "execute_result"
    }
   ],
   "source": [
    "12 in dict_lst"
   ]
  },
  {
   "cell_type": "code",
   "execution_count": 184,
   "metadata": {},
   "outputs": [
    {
     "data": {
      "text/plain": [
       "[79, 12]"
      ]
     },
     "execution_count": 184,
     "metadata": {},
     "output_type": "execute_result"
    }
   ],
   "source": [
    "dict_lst[12]"
   ]
  },
  {
   "cell_type": "code",
   "execution_count": 495,
   "metadata": {},
   "outputs": [],
   "source": [
    "class ListNode:\n",
    "    def __init__(self, val=0, next=None):\n",
    "        self.val = val\n",
    "        self.next = next\n",
    "    def addTwoNumbers(self, l1: ListNode, l2: ListNode) -> ListNode:\n",
    "        self=ListNode(None)\n",
    "        cur=self\n",
    "        carry=0\n",
    "        while l1!=None or l2!=None or carry!=0:\n",
    "            num=carry\n",
    "            if l1!=None:\n",
    "                num+=l1.val\n",
    "                l1=l1.next\n",
    "            if l2!=None:\n",
    "                num+=l2.val\n",
    "                l2=l2.next\n",
    "            num = num%10\n",
    "            carry = int(num/10)\n",
    "            cur.next= ListNode(num)\n",
    "            cur=cur.next\n",
    "        return self.next"
   ]
  },
  {
   "cell_type": "code",
   "execution_count": 496,
   "metadata": {},
   "outputs": [],
   "source": [
    "lnode4=ListNode(5)\n",
    "lnode3=ListNode(4,lnode4)\n",
    "lnode2=ListNode(2,lnode3)\n",
    "l1=ListNode(1,lnode2)\n",
    "\n",
    "\n",
    "rnode4=ListNode(5)\n",
    "rnode3=ListNode(8,rnode4)\n",
    "rnode2=ListNode(1,rnode3)\n",
    "r1=ListNode(2,rnode2)\n",
    "\n",
    "#sum is 1233\n",
    "\n",
    "sumi=ListNode(0)\n",
    "total=sumi.addTwoNumbers(l1,r1)\n",
    "\n"
   ]
  },
  {
   "cell_type": "code",
   "execution_count": 497,
   "metadata": {},
   "outputs": [
    {
     "name": "stdout",
     "output_type": "stream",
     "text": [
      "3\n",
      "3\n",
      "2\n",
      "0\n"
     ]
    }
   ],
   "source": [
    "while total.next!=None:\n",
    "    print(total.val)\n",
    "    total=total.next\n",
    "print(total.val)"
   ]
  },
  {
   "cell_type": "code",
   "execution_count": null,
   "metadata": {},
   "outputs": [],
   "source": [
    "def addTwoNumbers(self, l1: ListNode, l2: ListNode) -> ListNode:\n",
    "    self=ListNode(None)\n",
    "    cur=self\n",
    "    carry=0\n",
    "    while l1!=None or l2!=None or carry!=0:\n",
    "        num=carry\n",
    "        if l1!=None:\n",
    "            num+=l1.val\n",
    "            l1=l1.next\n",
    "        if l2!=None:\n",
    "            num+=l2.val\n",
    "            l2=l2.next\n",
    "        cur.val = num%10\n",
    "        carry = int(num/10)\n",
    "        cur=cur.next\n",
    "    return self\n",
    "        \n"
   ]
  },
  {
   "cell_type": "code",
   "execution_count": 470,
   "metadata": {},
   "outputs": [
    {
     "data": {
      "text/plain": [
       "<__main__.ListNode at 0x7f9471d17430>"
      ]
     },
     "execution_count": 470,
     "metadata": {},
     "output_type": "execute_result"
    }
   ],
   "source": [
    "l1 or l2"
   ]
  },
  {
   "cell_type": "code",
   "execution_count": 482,
   "metadata": {},
   "outputs": [
    {
     "data": {
      "text/plain": [
       "<__main__.ListNode at 0x7f9471c52130>"
      ]
     },
     "execution_count": 482,
     "metadata": {},
     "output_type": "execute_result"
    }
   ],
   "source": [
    "l1"
   ]
  },
  {
   "cell_type": "code",
   "execution_count": 480,
   "metadata": {},
   "outputs": [
    {
     "ename": "NameError",
     "evalue": "name 'l2' is not defined",
     "output_type": "error",
     "traceback": [
      "\u001b[0;31m---------------------------------------------------------------------------\u001b[0m",
      "\u001b[0;31mNameError\u001b[0m                                 Traceback (most recent call last)",
      "\u001b[0;32m<ipython-input-480-ea320d2ace30>\u001b[0m in \u001b[0;36m<module>\u001b[0;34m\u001b[0m\n\u001b[0;32m----> 1\u001b[0;31m \u001b[0ml2\u001b[0m\u001b[0;34m\u001b[0m\u001b[0;34m\u001b[0m\u001b[0m\n\u001b[0m",
      "\u001b[0;31mNameError\u001b[0m: name 'l2' is not defined"
     ]
    }
   ],
   "source": [
    "l2"
   ]
  },
  {
   "cell_type": "code",
   "execution_count": 483,
   "metadata": {},
   "outputs": [],
   "source": [
    "temp=ListNode(0)"
   ]
  },
  {
   "cell_type": "code",
   "execution_count": 484,
   "metadata": {},
   "outputs": [],
   "source": [
    "cur=temp"
   ]
  },
  {
   "cell_type": "code",
   "execution_count": 489,
   "metadata": {},
   "outputs": [
    {
     "data": {
      "text/plain": [
       "(1, 8)"
      ]
     },
     "execution_count": 489,
     "metadata": {},
     "output_type": "execute_result"
    }
   ],
   "source": [
    "divmod(18,10)"
   ]
  },
  {
   "cell_type": "code",
   "execution_count": 498,
   "metadata": {},
   "outputs": [],
   "source": [
    "self = ListNode(None)\n",
    "cur = self"
   ]
  },
  {
   "cell_type": "code",
   "execution_count": 502,
   "metadata": {},
   "outputs": [],
   "source": [
    "cur.val=10"
   ]
  },
  {
   "cell_type": "code",
   "execution_count": null,
   "metadata": {},
   "outputs": [],
   "source": []
  }
 ],
 "metadata": {
  "kernelspec": {
   "display_name": "Python 3",
   "language": "python",
   "name": "python3"
  },
  "language_info": {
   "codemirror_mode": {
    "name": "ipython",
    "version": 3
   },
   "file_extension": ".py",
   "mimetype": "text/x-python",
   "name": "python",
   "nbconvert_exporter": "python",
   "pygments_lexer": "ipython3",
   "version": "3.8.5"
  }
 },
 "nbformat": 4,
 "nbformat_minor": 4
}
