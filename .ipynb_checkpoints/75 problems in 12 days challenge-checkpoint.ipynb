{
 "cells": [
  {
   "cell_type": "markdown",
   "metadata": {},
   "source": [
    "### The goal is to solve 76 problems from here (https://leetcode.com/list/xi4ci4ig/) in 12 days.\n",
    "### Days left: 11.  Problems Solved: 10. Problems left: 66. \n",
    "#### 03, 05, 07, 09, 10,\n",
    "#### 11, 12, 13, 14, 15, 16, 17, 18, 19, 20,\n",
    "#### 21, 22, 23, 24, 25, 26, 27, 28, 29, 30, \n",
    "#### 31, 32, 33, 34, 35, 37, 38, 39, 40, \n",
    "#### 41, 42, 43, 44, 45, 46, 47, 48, 49, \n",
    "#### 51, 52, 53, 54, 55, 56, 57, 58, 59, \n",
    "#### 61, 63, 64, 65, 66, 68, 69, 70, \n",
    "#### 71, 72, 73, 74, 75, 76\n"
   ]
  },
  {
   "cell_type": "markdown",
   "metadata": {},
   "source": [
    "### 1. Two Sum\n",
    "\n",
    "Given an array of integers nums and an integer target, return indices of the two numbers such that they add up to target. You may assume that each input would have exactly one solution, and you may not use the same element twice. You can return the answer in any order."
   ]
  },
  {
   "cell_type": "code",
   "execution_count": 3,
   "metadata": {},
   "outputs": [],
   "source": [
    "def twoSum(nums, target):\n",
    "    collection = dict()\n",
    "    for i,n in enumerate(nums):\n",
    "        collection[n]=i\n",
    "    for j,m in enumerate(nums):\n",
    "        if target-m in nums:\n",
    "            if collection[target-m]!=j:\n",
    "                return [j, collection[target-m]]"
   ]
  },
  {
   "cell_type": "markdown",
   "metadata": {},
   "source": [
    "### 2. Longest Substring Without Repeating Characters.\n",
    "Given a string s, find the length of the longest substring without repeating characters."
   ]
  },
  {
   "cell_type": "code",
   "execution_count": 59,
   "metadata": {},
   "outputs": [
    {
     "data": {
      "text/plain": [
       "3"
      ]
     },
     "execution_count": 59,
     "metadata": {},
     "output_type": "execute_result"
    }
   ],
   "source": [
    "def lengthOfLongestSubstring(s: str) -> int:\n",
    "#Maintain a sliding window and keep a record of the longest appropriate window.\n",
    "#For instance if extending the window by 1 causes a repetition, move the window past the previous location\n",
    "    last_occur = dict()\n",
    "    left, max_length = 0,0\n",
    "    for right, c in enumerate(s):\n",
    "        if c not in last_occur or last_occur[c]<left:\n",
    "            last_occur[c]=right\n",
    "        else:\n",
    "            max_length = max(right-left, max_length)\n",
    "            left = last_occur[c]+1\n",
    "            last_occur[c]=right            \n",
    "    max_length = max(len(s)-left, max_length)\n",
    "        \n",
    "    return max_length\n",
    "lengthOfLongestSubstring('1332111')"
   ]
  },
  {
   "cell_type": "markdown",
   "metadata": {},
   "source": [
    "### 4. Container With Most Water\n",
    "Given n non-negative integers a1, a2, ..., an , where each represents a point at coordinate (i, ai). n vertical lines are drawn such that the two endpoints of the line i is at (i, ai) and (i, 0). Find two lines, which, together with the x-axis forms a container, such that the container contains the most water.\n",
    "\n",
    "Notice that you may not slant the container.\n",
    "\n"
   ]
  },
  {
   "cell_type": "code",
   "execution_count": 66,
   "metadata": {},
   "outputs": [],
   "source": [
    "def maxArea(height):\n",
    "    left, right = 0, len(height)-1\n",
    "    record_water = 0\n",
    "    while(left<right):\n",
    "        record_water  = max(record_water, (j-i)*max(height[i],height[j]))\n",
    "        if height[left]<height[right]:\n",
    "            left+=1\n",
    "        else:\n",
    "            right-=1\n",
    "    return record_water\n",
    "        "
   ]
  },
  {
   "cell_type": "markdown",
   "metadata": {},
   "source": [
    "### 6. Remove Nth Node From End of List\n",
    "Given the head of a linked list, remove the nth node from the end of the list and return its head.\n",
    "\n"
   ]
  },
  {
   "cell_type": "code",
   "execution_count": 71,
   "metadata": {},
   "outputs": [],
   "source": [
    "def removeNthFromEnd(head, n: int):\n",
    "    slow, fast = head, head\n",
    "    for i in range(n):\n",
    "        fast = fast.next\n",
    "    if fast==None:\n",
    "        return head.next\n",
    "    while fast.next!=None:\n",
    "        fast = fast.next\n",
    "        slow = slow.next       \n",
    "    slow.next = slow.next.next\n",
    "    return head"
   ]
  },
  {
   "cell_type": "markdown",
   "metadata": {},
   "source": [
    "### 8. Merge Two Sorted Lists\n",
    "Merge two sorted linked lists and return it as a sorted list. The list should be made by splicing together the nodes of the first two lists."
   ]
  },
  {
   "cell_type": "code",
   "execution_count": 79,
   "metadata": {},
   "outputs": [],
   "source": [
    "def mergeTwoLists(l1, l2):\n",
    "    if l1==None or l2==None:\n",
    "        return l1 or l2\n",
    "    answer = None\n",
    "    if l1.val <= l2.val:\n",
    "        answer = l1\n",
    "        answer.next = mergeTwoLists(l1.next, l2)\n",
    "    else:\n",
    "        answer = l2\n",
    "        answer.next = mergeTwoLists(l2.next, l1)\n",
    "        \n",
    "    return answer\n",
    "\n",
    "    \n",
    "    \n",
    "    \n",
    "    "
   ]
  },
  {
   "cell_type": "markdown",
   "metadata": {},
   "source": [
    "### 36. Linked List Cycle\n",
    "\n",
    "Given head, the head of a linked list, determine if the linked list has a cycle in it.\n",
    "\n",
    "There is a cycle in a linked list if there is some node in the list that can be reached again by continuously following the next pointer. Internally, pos is used to denote the index of the node that tail's next pointer is connected to. Note that pos is not passed as a parameter.\n",
    "\n",
    "Return true if there is a cycle in the linked list. Otherwise, return false.\n",
    "\n"
   ]
  },
  {
   "cell_type": "code",
   "execution_count": 121,
   "metadata": {},
   "outputs": [],
   "source": [
    "def hasCycle(head):\n",
    "    fast, slow = head, head\n",
    "    while fast!=None:\n",
    "        if fast.next==None:\n",
    "            return False\n",
    "        else:\n",
    "            fast = fast.next.next\n",
    "        slow = slow.next\n",
    "        if fast==slow:\n",
    "            return True\n",
    "    return False\n"
   ]
  },
  {
   "cell_type": "markdown",
   "metadata": {},
   "source": [
    "### 50. Contains Duplicate\n",
    "Given an integer array nums, return true if any value appears at least twice in the array, and return false if every element is distinct."
   ]
  },
  {
   "cell_type": "code",
   "execution_count": 122,
   "metadata": {},
   "outputs": [],
   "source": [
    "def containsDuplicate(self, nums):\n",
    "    collector = set()\n",
    "    for n in nums:\n",
    "        if n in collector:\n",
    "            return True\n",
    "        collector.add(n)            \n",
    "    return False\n"
   ]
  },
  {
   "cell_type": "markdown",
   "metadata": {},
   "source": [
    "### 60. Missing Number\n",
    "Given an array nums containing n distinct numbers in the range [0, n], return the only number in the range that is missing from the array.\n",
    "\n",
    "Follow up: Could you implement a solution using only O(1) extra space complexity and O(n) runtime complexity?"
   ]
  },
  {
   "cell_type": "code",
   "execution_count": 119,
   "metadata": {},
   "outputs": [],
   "source": [
    "def missingNumber(nums):\n",
    "    n=len(nums)+1\n",
    "    return n*(n+1)//2 -sum(nums)"
   ]
  },
  {
   "cell_type": "markdown",
   "metadata": {},
   "source": [
    "### 62. Unique Paths\n",
    "A robot is located at the top-left corner of a m x n grid (marked 'Start' in the diagram below).\n",
    "\n",
    "The robot can only move either down or right at any point in time. The robot is trying to reach the bottom-right corner of the grid (marked 'Finish' in the diagram below).\n",
    "\n",
    "How many possible unique paths are there?"
   ]
  },
  {
   "cell_type": "code",
   "execution_count": 58,
   "metadata": {},
   "outputs": [],
   "source": [
    "import math\n",
    "def uniquePaths(m: int, n: int) -> int:\n",
    "    return math.comb(m+n-2, n-1)"
   ]
  },
  {
   "cell_type": "markdown",
   "metadata": {},
   "source": [
    "### 67. Counting Bits\n",
    "Given an integer n, return an array ans of length n + 1 such that for each i (0 <= i <= n), ans[i] is the number of 1's in the binary representation of i."
   ]
  },
  {
   "cell_type": "code",
   "execution_count": 40,
   "metadata": {},
   "outputs": [],
   "source": [
    "def countBits(n: int):\n",
    "    bit_counter=[0]*(n+1)\n",
    "    bit_counter[0]=0\n",
    "    for i in range(1,n+1):\n",
    "        (q,r) = divmod(i,2)\n",
    "        if r:\n",
    "            bit_counter[i]=bit_counter[q]+1\n",
    "        else:\n",
    "            bit_counter[i]=bit_counter[q]\n",
    "    return bit_counter\n",
    "\n"
   ]
  },
  {
   "cell_type": "code",
   "execution_count": 51,
   "metadata": {},
   "outputs": [
    {
     "data": {
      "text/plain": [
       "134"
      ]
     },
     "execution_count": 51,
     "metadata": {},
     "output_type": "execute_result"
    }
   ],
   "source": [
    "answer = ''\n",
    "carry = 0\n",
    "\n",
    "for i in range(k):\n",
    "    if a!=b:\n",
    "        answer+='1'\n",
    "    else:\n",
    "        answer+=1"
   ]
  },
  {
   "cell_type": "code",
   "execution_count": null,
   "metadata": {},
   "outputs": [],
   "source": []
  }
 ],
 "metadata": {
  "kernelspec": {
   "display_name": "Python 3",
   "language": "python",
   "name": "python3"
  },
  "language_info": {
   "codemirror_mode": {
    "name": "ipython",
    "version": 3
   },
   "file_extension": ".py",
   "mimetype": "text/x-python",
   "name": "python",
   "nbconvert_exporter": "python",
   "pygments_lexer": "ipython3",
   "version": "3.8.5"
  }
 },
 "nbformat": 4,
 "nbformat_minor": 4
}
