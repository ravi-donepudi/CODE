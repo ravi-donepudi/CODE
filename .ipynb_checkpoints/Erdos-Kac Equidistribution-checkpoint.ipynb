{
 "cells": [
  {
   "cell_type": "code",
   "execution_count": 2,
   "metadata": {},
   "outputs": [],
   "source": [
    "import matplotlib.pyplot as plt\n",
    "import math"
   ]
  },
  {
   "cell_type": "code",
   "execution_count": 1,
   "metadata": {},
   "outputs": [],
   "source": [
    "stats={1: 1,\n",
    " 2: 669,\n",
    " 3: 19,\n",
    " 4: 1353,\n",
    " 6: 424,\n",
    " 5: 4,\n",
    " 8: 1020,\n",
    " 9: 21,\n",
    " 10: 85,\n",
    " 12: 520,\n",
    " 7: 2,\n",
    " 16: 357,\n",
    " 15: 10,\n",
    " 18: 84,\n",
    " 14: 22,\n",
    " 20: 74,\n",
    " 24: 186,\n",
    " 21: 4,\n",
    " 30: 22,\n",
    " 32: 47,\n",
    " 27: 5,\n",
    " 28: 12,\n",
    " 11: 1,\n",
    " 36: 30,\n",
    " 25: 1,\n",
    " 40: 12,\n",
    " 48: 8,\n",
    " 42: 3,\n",
    " 22: 1,\n",
    " 45: 1,\n",
    " 13: 1}"
   ]
  },
  {
   "cell_type": "code",
   "execution_count": 9,
   "metadata": {},
   "outputs": [
    {
     "data": {
      "text/plain": [
       "<BarContainer object of 31 artists>"
      ]
     },
     "execution_count": 9,
     "metadata": {},
     "output_type": "execute_result"
    },
    {
     "data": {
      "image/png": "[encoded data removed]",
      "text/plain": [
       "<Figure size 432x288 with 1 Axes>"
      ]
     },
     "metadata": {
      "needs_background": "light"
     },
     "output_type": "display_data"
    }
   ],
   "source": [
    "x=stats.keys()\n",
    "y=stats.values()\n",
    "plt.bar(x,y)"
   ]
  },
  {
   "cell_type": "code",
   "execution_count": 12,
   "metadata": {},
   "outputs": [],
   "source": [
    "stats1={1: 3,\n",
    " 2: 10935,\n",
    " 3: 115,\n",
    " 4: 25499,\n",
    " 6: 6552,\n",
    " 5: 16,\n",
    " 8: 22934,\n",
    " 9: 163,\n",
    " 10: 1261,\n",
    " 12: 10702,\n",
    " 7: 8,\n",
    " 16: 10395,\n",
    " 15: 68,\n",
    " 18: 1434,\n",
    " 14: 336,\n",
    " 20: 1686,\n",
    " 24: 5786,\n",
    " 21: 26,\n",
    " 30: 420,\n",
    " 32: 2307,\n",
    " 27: 57,\n",
    " 28: 350,\n",
    " 11: 3,\n",
    " 36: 1138,\n",
    " 25: 7,\n",
    " 40: 640,\n",
    " 48: 1154,\n",
    " 42: 93,\n",
    " 22: 29,\n",
    " 45: 25,\n",
    " 13: 3,\n",
    " 60: 188,\n",
    " 35: 6,\n",
    " 54: 84,\n",
    " 50: 24,\n",
    " 56: 82,\n",
    " 64: 174,\n",
    " 33: 4,\n",
    " 72: 156,\n",
    " 26: 8,\n",
    " 63: 4,\n",
    " 80: 44,\n",
    " 44: 12,\n",
    " 84: 16,\n",
    " 90: 8,\n",
    " 70: 4,\n",
    " 96: 26,\n",
    " 75: 2,\n",
    " 39: 2,\n",
    " 81: 2,\n",
    " 100: 2,\n",
    " 66: 2,\n",
    " 49: 2};"
   ]
  },
  {
   "cell_type": "code",
   "execution_count": 13,
   "metadata": {},
   "outputs": [
    {
     "data": {
      "text/plain": [
       "<BarContainer object of 53 artists>"
      ]
     },
     "execution_count": 13,
     "metadata": {},
     "output_type": "execute_result"
    },
    {
     "data": {
      "image/png": "[encoded data removed]",
      "text/plain": [
       "<Figure size 432x288 with 1 Axes>"
      ]
     },
     "metadata": {
      "needs_background": "light"
     },
     "output_type": "display_data"
    }
   ],
   "source": [
    "x=stats1.keys()\n",
    "y=stats1.values()\n",
    "plt.bar(x,y)"
   ]
  },
  {
   "cell_type": "code",
   "execution_count": null,
   "metadata": {},
   "outputs": [],
   "source": []
  }
 ],
 "metadata": {
  "kernelspec": {
   "display_name": "Python 3",
   "language": "python",
   "name": "python3"
  },
  "language_info": {
   "codemirror_mode": {
    "name": "ipython",
    "version": 3
   },
   "file_extension": ".py",
   "mimetype": "text/x-python",
   "name": "python",
   "nbconvert_exporter": "python",
   "pygments_lexer": "ipython3",
   "version": "3.8.5"
  }
 },
 "nbformat": 4,
 "nbformat_minor": 4
}
