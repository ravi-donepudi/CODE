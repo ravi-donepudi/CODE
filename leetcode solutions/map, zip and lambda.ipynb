{
 "cells": [
  {
   "cell_type": "code",
   "execution_count": 117,
   "metadata": {},
   "outputs": [],
   "source": [
    "import os\n",
    "import collections\n",
    "import functools\n",
    "import operator\n",
    "import os.path"
   ]
  },
  {
   "cell_type": "code",
   "execution_count": 23,
   "metadata": {},
   "outputs": [
    {
     "data": {
      "text/plain": [
       "'abc'"
      ]
     },
     "execution_count": 23,
     "metadata": {},
     "output_type": "execute_result"
    }
   ],
   "source": [
    "#Pick out the string in a set minimizing some function\n",
    "strs=['abc','abcd','wdgfsert','efaeqwegagf']\n",
    "f=lambda x: -len(x)\n",
    "shortest = min(strs,key=len);shortest\n"
   ]
  },
  {
   "cell_type": "code",
   "execution_count": 26,
   "metadata": {},
   "outputs": [
    {
     "data": {
      "text/plain": [
       "['abcds', 'adfasd', 'asgdasfg', 'asgdsf']"
      ]
     },
     "execution_count": 26,
     "metadata": {},
     "output_type": "execute_result"
    }
   ],
   "source": [
    "#Split a string at a certain delimiter\n",
    "s='abcds adfasd asgdasfg asgdsf'\n",
    "s.split(' ')    "
   ]
  },
  {
   "cell_type": "code",
   "execution_count": 50,
   "metadata": {},
   "outputs": [
    {
     "data": {
      "text/plain": [
       "[1, 4, 9, 16]"
      ]
     },
     "execution_count": 50,
     "metadata": {},
     "output_type": "execute_result"
    }
   ],
   "source": [
    "#Simple example of using a map with a lambda function\n",
    "l=[1,2,3,4]\n",
    "f=lambda n:n**2\n",
    "list(map(f,l))"
   ]
  },
  {
   "cell_type": "code",
   "execution_count": 58,
   "metadata": {},
   "outputs": [
    {
     "data": {
      "text/plain": [
       "[]"
      ]
     },
     "execution_count": 58,
     "metadata": {},
     "output_type": "execute_result"
    }
   ],
   "source": [
    "l1=[1,2,3,4]\n",
    "l2=[]\n",
    "f=lambda m,n:m**2+n**2\n",
    "list(map(f,l2,l1))"
   ]
  },
  {
   "cell_type": "code",
   "execution_count": 157,
   "metadata": {},
   "outputs": [],
   "source": [
    "class Solution:\n",
    "    def lengthOfLongestSubstring(self, s: str) -> int:\n",
    "        n=len(s)\n",
    "        if n<=1:\n",
    "            return n\n",
    "        start_of_current_run=0\n",
    "        last_occur={}\n",
    "        best = 0\n",
    "        for i,c in enumerate(s):\n",
    "            if c not in last_occur:\n",
    "                last_occur[c]=i\n",
    "            elif last_occur[c]<start_of_current_run:\n",
    "                last_occur[c]=i\n",
    "            else:\n",
    "                print(i,c)\n",
    "                best = max(best,i-start_of_current_run)\n",
    "                print(best)\n",
    "                start_of_current_run = last_occur[c]+1\n",
    "                last_occur[c]=i\n",
    "        if start_of_current_run==0:\n",
    "            print(start_of_current_run)\n",
    "            print('made it')\n",
    "            return n                \n",
    "        return best\n",
    "sol=Solution()"
   ]
  },
  {
   "cell_type": "code",
   "execution_count": 158,
   "metadata": {},
   "outputs": [
    {
     "name": "stdout",
     "output_type": "stream",
     "text": [
      "5 a\n",
      "5\n"
     ]
    },
    {
     "data": {
      "text/plain": [
       "5"
      ]
     },
     "execution_count": 158,
     "metadata": {},
     "output_type": "execute_result"
    }
   ],
   "source": [
    "sol.lengthOfLongestSubstring('abcdea')"
   ]
  },
  {
   "cell_type": "code",
   "execution_count": 159,
   "metadata": {},
   "outputs": [],
   "source": [
    "import math"
   ]
  },
  {
   "cell_type": "code",
   "execution_count": 168,
   "metadata": {},
   "outputs": [
    {
     "data": {
      "text/plain": [
       "True"
      ]
     },
     "execution_count": 168,
     "metadata": {},
     "output_type": "execute_result"
    }
   ],
   "source": [
    "0<math.inf "
   ]
  },
  {
   "cell_type": "code",
   "execution_count": 172,
   "metadata": {},
   "outputs": [
    {
     "name": "stdout",
     "output_type": "stream",
     "text": [
      "10\n",
      "9\n",
      "8\n",
      "7\n",
      "6\n",
      "5\n",
      "4\n",
      "3\n",
      "2\n",
      "1\n"
     ]
    }
   ],
   "source": [
    "for i in range(10,0,-1):\n",
    "    print(i)"
   ]
  },
  {
   "cell_type": "code",
   "execution_count": 207,
   "metadata": {},
   "outputs": [
    {
     "name": "stdout",
     "output_type": "stream",
     "text": [
      "The sum of the list elements is : 17\n"
     ]
    }
   ],
   "source": [
    "lis=[1,3,5,6,2]\n",
    "print(\"The sum of the list elements is : \", end=\"\")\n",
    "print(functools.reduce(lambda a, b: a+b, lis))\n"
   ]
  },
  {
   "cell_type": "code",
   "execution_count": 208,
   "metadata": {},
   "outputs": [
    {
     "data": {
      "text/plain": [
       "45"
      ]
     },
     "execution_count": 208,
     "metadata": {},
     "output_type": "execute_result"
    }
   ],
   "source": [
    "sum(i for i in range(10))"
   ]
  },
  {
   "cell_type": "code",
   "execution_count": 229,
   "metadata": {},
   "outputs": [],
   "source": [
    "def binary_search(arr,val):\n",
    "    n=len(arr)\n",
    "    if n==0:\n",
    "        return False\n",
    "    lower, upper = 0,n\n",
    "    while lower<upper:\n",
    "        current = (lower+upper)//2\n",
    "        if arr[current]==val:\n",
    "            return current\n",
    "        elif arr[current]<val:\n",
    "            lower, upper = current+1,upper\n",
    "        else:\n",
    "            lower, upper = lower, current\n",
    "    return False\n",
    "        \n",
    "        \n",
    "    \n",
    "    "
   ]
  },
  {
   "cell_type": "code",
   "execution_count": 232,
   "metadata": {},
   "outputs": [
    {
     "data": {
      "text/plain": [
       "False"
      ]
     },
     "execution_count": 232,
     "metadata": {},
     "output_type": "execute_result"
    }
   ],
   "source": [
    "binary_search([1,2,3,4,5,6,7,8,9],13)"
   ]
  },
  {
   "cell_type": "code",
   "execution_count": 234,
   "metadata": {},
   "outputs": [],
   "source": [
    "from functools import reduce\n",
    "class Solution:\n",
    "    def smallestDivisor(self, nums, threshold: int) -> int:\n",
    "        n=max(nums)\n",
    "        answer=1\n",
    "        lower_bound, upper_bound = 1, n\n",
    "        while lower_bound<upper_bound or answer!=threshold:\n",
    "            divisor=(lower_bound+upper_bound)//2\n",
    "            final_value=sum(i//divisor for i in nums)\n",
    "            if final_value>threshold:\n",
    "                lower_bound, upper_bound = divisor+1, upper_bound            \n",
    "            return divisor\n",
    "sol=Solution()            "
   ]
  },
  {
   "cell_type": "code",
   "execution_count": 236,
   "metadata": {},
   "outputs": [
    {
     "data": {
      "text/plain": [
       "3"
      ]
     },
     "execution_count": 236,
     "metadata": {},
     "output_type": "execute_result"
    }
   ],
   "source": [
    "(3+4-1)//2"
   ]
  },
  {
   "cell_type": "code",
   "execution_count": null,
   "metadata": {},
   "outputs": [],
   "source": []
  }
 ],
 "metadata": {
  "kernelspec": {
   "display_name": "Python 3",
   "language": "python",
   "name": "python3"
  },
  "language_info": {
   "codemirror_mode": {
    "name": "ipython",
    "version": 3
   },
   "file_extension": ".py",
   "mimetype": "text/x-python",
   "name": "python",
   "nbconvert_exporter": "python",
   "pygments_lexer": "ipython3",
   "version": "3.8.5"
  }
 },
 "nbformat": 4,
 "nbformat_minor": 4
}
