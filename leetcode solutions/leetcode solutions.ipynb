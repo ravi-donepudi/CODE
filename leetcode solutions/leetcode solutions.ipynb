{
 "cells": [
  {
   "cell_type": "markdown",
   "metadata": {},
   "source": [
    "# 58 Length of Last Word\n",
    "\n",
    "Given a string s consists of some words separated by spaces, return the length of the last word in the string. If the last word does not exist, return 0.\n",
    "\n",
    "A word is a maximal substring consisting of non-space characters only.\n",
    "\n"
   ]
  },
  {
   "cell_type": "code",
   "execution_count": 26,
   "metadata": {},
   "outputs": [],
   "source": [
    "class Solution:\n",
    "    def lengthOfLastWord(self, s: str) -> int:\n",
    "        if s==\"\":\n",
    "            return 0\n",
    "        if s[-1]==' ':\n",
    "            return self.lengthOfLastWord(s[:-1])\n",
    "        candidate =''\n",
    "        for c in reversed(s):\n",
    "            if c!=' ':\n",
    "                candidate+=c\n",
    "            else:\n",
    "                break\n",
    "        return len(candidate)"
   ]
  },
  {
   "cell_type": "markdown",
   "metadata": {},
   "source": [
    "# 88. Merge Sorted Array\n",
    "Given two sorted integer arrays nums1 and nums2, merge nums2 into nums1 as one sorted array.\n",
    "\n",
    "The number of elements initialized in nums1 and nums2 are m and n respectively. You may assume that nums1 has a size equal to m + n such that it has enough space to hold additional elements from nums2."
   ]
  },
  {
   "cell_type": "code",
   "execution_count": 31,
   "metadata": {},
   "outputs": [],
   "source": [
    "class Solution:\n",
    "    def merge(self, nums1, m, nums2, n) -> None:\n",
    "        if m!=0 and n!=0:\n",
    "            i1=m-1\n",
    "            i2=n-1\n",
    "#Use the two pointers i1 and i2 and move them along backwards as long as atleast one of the arrays is nonempty.\n",
    "            for i in range(m+n-1, -1, -1):\n",
    "                if i1>=0 and i2>=0:\n",
    "                    if nums1[i1]>nums2[i2]:\n",
    "                        nums1[i]=nums1[i1]\n",
    "                        i1-=1\n",
    "                    else:\n",
    "                        nums1[i]=nums2[i2]\n",
    "                        i2-=1\n",
    "                elif i2>=0:\n",
    "                    nums1[i]=nums2[i2]\n",
    "                    i2-=1\n",
    "        if m==0:\n",
    "            for i in range(len(nums1)):\n",
    "                nums1[i]=nums2[i]"
   ]
  },
  {
   "cell_type": "code",
   "execution_count": 32,
   "metadata": {},
   "outputs": [],
   "source": [
    "class TreeNode:\n",
    "    def __init__(self, val=0, left=None, right=None):\n",
    "        self.val = val\n",
    "        self.left = left\n",
    "        self.right = right"
   ]
  },
  {
   "cell_type": "markdown",
   "metadata": {},
   "source": [
    "# 100 Same Tree\n",
    "Given the roots of two binary trees p and q, write a function to check if they are the same or not.\n",
    "\n",
    "Two binary trees are considered the same if they are structurally identical, and the nodes have the same value."
   ]
  },
  {
   "cell_type": "code",
   "execution_count": 88,
   "metadata": {},
   "outputs": [],
   "source": [
    "\n",
    "class Solution:\n",
    "    def isSameTree(self, p: TreeNode, q: TreeNode) -> bool:\n",
    "        if p==None or q==None:\n",
    "            return p==q\n",
    "        if p.val!=q.val:\n",
    "            return False\n",
    "            print(1)\n",
    "        elif (p.left == None) != (q.left == None):\n",
    "            print(1)\n",
    "            return False\n",
    "        elif (p.right==None) != (q.right == None):\n",
    "            return False\n",
    "        elif (p.left == p.right):\n",
    "            return True\n",
    "        else:\n",
    "            return self.isSameTree(p.left,q.left) and self.isSameTree(p.right, q.right)\n",
    "\n",
    "pl=TreeNode(2)\n",
    "pr=TreeNode(3)\n",
    "ql=TreeNode(2)\n",
    "qr=TreeNode(3)\n",
    "p = TreeNode(1, pl, pr)\n",
    "q = TreeNode(1, ql, qr)"
   ]
  },
  {
   "cell_type": "markdown",
   "metadata": {},
   "source": [
    "# 5. Longest Palindromic Substring\n",
    "\n",
    "Given a string s, return the longest palindromic substring in s.\n",
    "\n"
   ]
  },
  {
   "cell_type": "code",
   "execution_count": 81,
   "metadata": {},
   "outputs": [],
   "source": [
    "def is_palindrome(s):\n",
    "    if len(s)<=1:\n",
    "        return True\n",
    "    else:\n",
    "        return s[0]==s[-1] and is_palindrome(s[1:-1])"
   ]
  },
  {
   "cell_type": "markdown",
   "metadata": {},
   "source": [
    "# Naveen's question\n",
    "Given a linkedlist 1,2,4,5,6,8,10,12,13\n",
    "Output wanted 1,4,2,5,12,10,8,6,13\n",
    "reverse the order of elements stuck between odd numbers\n",
    "\n",
    "\n"
   ]
  },
  {
   "cell_type": "code",
   "execution_count": 92,
   "metadata": {},
   "outputs": [],
   "source": [
    "\n",
    "\n",
    "\n",
    "class ListNode():\n",
    "    def __init__(self, val=0, next=None):\n",
    "        self.val = val\n",
    "        self.next = None\n",
    "    def listnode_to_list(self):\n",
    "        arr=[]\n",
    "        temp = self\n",
    "        while temp!=None:\n",
    "            arr.append(temp.val)\n",
    "            temp=temp.next       \n",
    "        return arr\n",
    "    def pretty_print(self):\n",
    "        print(self.listnode_to_list())\n",
    "\n",
    "    def reverse_list(self):\n",
    "        if self == None or self.next== None:\n",
    "            return self\n",
    "        else:\n",
    "            ancestor = None\n",
    "            current = self\n",
    "            while(current!=None):\n",
    "                next = current.next\n",
    "                current.next = ancestor\n",
    "                current = next\n",
    "\n",
    "\n",
    "def list_to_listnode(arr):\n",
    "    if len(arr)==0:\n",
    "        return None\n",
    "    head = ListNode()\n",
    "    current = head\n",
    "    for i in arr:\n",
    "        current.next = ListNode(i)\n",
    "        current = current.next\n",
    "    return head.next\n",
    "\n",
    "\n",
    "\n",
    "def odd_segmentation(head):\n",
    "    left = None\n",
    "    right = None\n",
    "\n",
    "    if head.next==None:\n",
    "        if head.val%2==0:\n",
    "            return head, None\n",
    "        else:\n",
    "            return None, head        \n",
    "    current = left = head\n",
    "    while(current.next!=None and current.next.val%2==0):\n",
    "        current = current.next\n",
    "    if current.next.val%2==1:\n",
    "        right = current.next\n",
    "        current.next = None        \n",
    "    return left, right\n",
    "\n",
    "def weird_reversing(head):\n",
    "    if head==None or head.next==None:\n",
    "        return head\n",
    "    remaining = head\n",
    "    while(remaining!=None):\n",
    "        segments = odd_segmentation(remaining)\n",
    "        left = segments[0].reverse_list()\n",
    "        remaining = segments[1]\n",
    "        left.next = weird_reversing(remaining)"
   ]
  },
  {
   "cell_type": "code",
   "execution_count": null,
   "metadata": {},
   "outputs": [],
   "source": [
    "#reversing a linked list\n",
    "\n",
    "def reverse(head):\n",
    "    if head==None or head.next ==None:\n",
    "        return head\n",
    "    current =  head\n",
    "    previous = None\n",
    "    while current!=None:\n",
    "        next = current.next\n",
    "        current.next = previous\n",
    "        previous = current"
   ]
  },
  {
   "cell_type": "code",
   "execution_count": 108,
   "metadata": {},
   "outputs": [],
   "source": [
    "first, second, third = int, int, int\n",
    "\n",
    "first = 10"
   ]
  },
  {
   "cell_type": "code",
   "execution_count": 110,
   "metadata": {},
   "outputs": [
    {
     "data": {
      "text/plain": [
       "False"
      ]
     },
     "execution_count": 110,
     "metadata": {},
     "output_type": "execute_result"
    }
   ],
   "source": [
    "first==int"
   ]
  },
  {
   "cell_type": "code",
   "execution_count": 124,
   "metadata": {},
   "outputs": [
    {
     "name": "stdout",
     "output_type": "stream",
     "text": [
      "5 2 <class 'int'>\n"
     ]
    },
    {
     "data": {
      "text/plain": [
       "5"
      ]
     },
     "execution_count": 124,
     "metadata": {},
     "output_type": "execute_result"
    }
   ],
   "source": [
    "class Solution:\n",
    "    def thirdMax(self, nums) -> int:\n",
    "        if len(nums)<3:\n",
    "            return max(nums)        \n",
    "        first, second, third = int, int, int\n",
    "        first = nums[0]\n",
    "        for n in nums:               \n",
    "#If only max has been read so far\n",
    "            if second==int:\n",
    "                if n>first:\n",
    "                    second = first\n",
    "                    first = n\n",
    "                elif n< first:\n",
    "                    second = n    \n",
    "#If only max and second max have been read so far                    \n",
    "            elif third==int:\n",
    "                if n>first:\n",
    "                    third = second\n",
    "                    second = first\n",
    "                    first ==n\n",
    "                elif n>second and n<first:\n",
    "                    second = n      \n",
    "                elif n<second:\n",
    "                    third =n\n",
    "#Once all three maxes have been initialized\n",
    "            elif n>third:\n",
    "                if n>second:\n",
    "                    third = second\n",
    "                    if n>first:\n",
    "                        second = first\n",
    "                        first = n\n",
    "                    elif n<first:\n",
    "                        second = n\n",
    "                elif n<second:\n",
    "                    third = n        \n",
    "        print(first, second, third)\n",
    "        if second==int or third==int:\n",
    "            return first\n",
    "        return third\n",
    "    \n",
    "sol = Solution()\n",
    "\n",
    "sol.thirdMax([5,2,2])"
   ]
  },
  {
   "cell_type": "code",
   "execution_count": 126,
   "metadata": {},
   "outputs": [
    {
     "ename": "TypeError",
     "evalue": "'int' object is not iterable",
     "output_type": "error",
     "traceback": [
      "\u001b[0;31m---------------------------------------------------------------------------\u001b[0m",
      "\u001b[0;31mTypeError\u001b[0m                                 Traceback (most recent call last)",
      "\u001b[0;32m<ipython-input-126-e7e18b16aef1>\u001b[0m in \u001b[0;36m<module>\u001b[0;34m\u001b[0m\n\u001b[0;32m----> 1\u001b[0;31m \u001b[0mlst\u001b[0m \u001b[0;34m=\u001b[0m \u001b[0mlist\u001b[0m\u001b[0;34m(\u001b[0m\u001b[0;36m30\u001b[0m\u001b[0;34m)\u001b[0m\u001b[0;34m\u001b[0m\u001b[0;34m\u001b[0m\u001b[0m\n\u001b[0m",
      "\u001b[0;31mTypeError\u001b[0m: 'int' object is not iterable"
     ]
    }
   ],
   "source": [
    "lst = list(30)"
   ]
  },
  {
   "cell_type": "code",
   "execution_count": 202,
   "metadata": {},
   "outputs": [
    {
     "name": "stdout",
     "output_type": "stream",
     "text": [
      "14\n",
      "11\n",
      "12\n"
     ]
    }
   ],
   "source": [
    "class NumMatrix:\n",
    "\n",
    "    def __init__(self, matrix):\n",
    "        m=len(matrix)\n",
    "        n=len(matrix[0])\n",
    "        self.matrix = matrix\n",
    "        self.cum_sums =[[0 for i in range(n)] for j in range(m)]\n",
    "#first row initialization:\n",
    "        current = 0\n",
    "        for j in range(n):\n",
    "            current = current+matrix[0][j]\n",
    "            self.cum_sums[0][j]=current\n",
    "\n",
    "#first column initialization:\n",
    "        current =0\n",
    "        for i in range(m):\n",
    "            current = current+matrix[i][0]\n",
    "            self.cum_sums[i][0]=current\n",
    "#rest of the initialization:\n",
    "        for j in range(1,n):\n",
    "            for i in range(1,m):\n",
    "                self.cum_sums[i][j] = self.cum_sums[i-1][j]+self.cum_sums[i][j-1]-self.cum_sums[i-1][j-1]+matrix[i][j]\n",
    "    def sumRegion(self, row1: int, col1: int, row2: int, col2: int) -> int:\n",
    "        sum = 0\n",
    "        a=self.cum_sums[row2][col2]\n",
    "        b= self.cum_sums[row1-1][col2] if row1>0 else 0\n",
    "        c= self.cum_sums[row2][col1-1] if col1>0 else 0\n",
    "        d= self.cum_sums[row1-1][col1-1] if (row1>0 and col1>0) else 0\n",
    "        return a-b-c+d\n",
    "    \n",
    "matrix = [[3,0,1,4,2],[5,6,3,2,1],[1,2,0,1,5],[4,1,0,1,7],[1,0,3,0,5]]\n",
    "ls=[[0,0,1,1],[1,1,2,2],[1,2,2,4]]\n",
    "nummat = NumMatrix(matrix)\n",
    "for l in ls:\n",
    "    print(nummat.sumRegion(l[0],l[1],l[2],l[3]))\n"
   ]
  },
  {
   "cell_type": "markdown",
   "metadata": {},
   "source": [
    "# Eight Queens\n"
   ]
  },
  {
   "cell_type": "code",
   "execution_count": null,
   "metadata": {},
   "outputs": [],
   "source": [
    "def eightQueens(n):\n",
    "    if n==1:\n",
    "        return True:\n",
    "\n",
    "def is_Conflict(Arr, j):\n",
    "    for i in range(len(Arr)):\n",
    "        "
   ]
  }
 ],
 "metadata": {
  "kernelspec": {
   "display_name": "Python 3",
   "language": "python",
   "name": "python3"
  },
  "language_info": {
   "codemirror_mode": {
    "name": "ipython",
    "version": 3
   },
   "file_extension": ".py",
   "mimetype": "text/x-python",
   "name": "python",
   "nbconvert_exporter": "python",
   "pygments_lexer": "ipython3",
   "version": "3.8.5"
  }
 },
 "nbformat": 4,
 "nbformat_minor": 4
}
