{
 "cells": [
  {
   "cell_type": "markdown",
   "metadata": {},
   "source": [
    "# DFS for graph given as adjacency matrix "
   ]
  },
  {
   "cell_type": "code",
   "execution_count": 96,
   "metadata": {},
   "outputs": [],
   "source": [
    "def dfs(adjacency_matrix):\n",
    "    def dfs_helper(node):\n",
    "        visited.add(node)\n",
    "        print(node)\n",
    "        for node2, is_neighbor in enumerate(adjacency_matrix[node]):\n",
    "            if is_neighbor and node2 not in visited:\n",
    "                dfs_helper(node2)\n",
    "\n",
    "    n=len(adjacency_matrix)\n",
    "    visited=set()\n",
    "    for node in range(n):\n",
    "        if node not in visited:\n",
    "            visited.add(node)\n",
    "            dfs_helper(node)\n",
    "            \n",
    "            "
   ]
  },
  {
   "cell_type": "markdown",
   "metadata": {},
   "source": [
    "# DFS and BFS (with level calculation!) for graph given as an adjacency list "
   ]
  },
  {
   "cell_type": "code",
   "execution_count": 249,
   "metadata": {},
   "outputs": [],
   "source": [
    "#dfs for a graph in the form of an adjacency list\n",
    "from collections import defaultdict\n",
    "\n",
    "class Graph():\n",
    "    def __init__(self):\n",
    "        self.graph = defaultdict(list)\n",
    "\n",
    "class Node():\n",
    "    def __init__(self,key=None):\n",
    "        self.key=None\n",
    "        self.Neighbors = set()\n",
    "    def add_neighbor(self,neighbor)\n",
    "        self.Neighbors.append(neighbor)\n",
    "\n",
    "\n",
    "        \n",
    "def dfs(root, graph):\n",
    "    visited=set()\n",
    "    dfs_helper(root)\n",
    "    \n",
    "    def dfs_helper(root):\n",
    "        visited.add(root)\n",
    "#        print(\"I am currently at\" node)\n",
    "        for neighbor in root.Neighbors:\n",
    "            if neighbor not in visited:\n",
    "                dfs_helper(neighbor)\n",
    "                \n",
    "                \n",
    "def bfs(root,graph):\n",
    "    visited={}\n",
    "    to_visit=[(root,0)]\n",
    "    current_depth=0\n",
    "    left_most_node = root\n",
    "    while to_visit:        \n",
    "        node,d = to_visit.pop(0)\n",
    "        if d>current_depth:\n",
    "            current_depth+=1\n",
    "#        print(node)\n",
    "        visited[node]=dist_to_root\n",
    "        for neighbor in node.Neighbors:\n",
    "            if neighbor not in visited:\n",
    "                to_visit.append((neighbor,d+1))\n",
    "#largest depth will be stored at depth        \n",
    "#Can do \"from queue import Queue to do the same using a queue and just use the pop function\"        \n",
    "    "
   ]
  },
  {
   "cell_type": "markdown",
   "metadata": {},
   "source": [
    "# Leetcode 200 "
   ]
  },
  {
   "cell_type": "code",
   "execution_count": 223,
   "metadata": {},
   "outputs": [
    {
     "name": "stdout",
     "output_type": "stream",
     "text": [
      "meow\n",
      "meow\n"
     ]
    },
    {
     "data": {
      "text/plain": [
       "2"
      ]
     },
     "execution_count": 223,
     "metadata": {},
     "output_type": "execute_result"
    }
   ],
   "source": [
    "# Finding number of islands in an nxn matrix.\n",
    "\n",
    "# Vertices are those pairs (i,j) for which M[i][j]==1\n",
    "# If (i,j) and (k,l) are such that either (i==k and |j-l|=1) or (|i-l|==1 and j==l)\n",
    "# then there is an edge from (i,j) to (k,l)\n",
    "\n",
    "class Solution:\n",
    "    def numIslands(self, grid) -> int:\n",
    "        if not grid:\n",
    "            return 0\n",
    "        m=len(grid)\n",
    "        n=len(grid[0])\n",
    "        def dfs(i,j):\n",
    "            if i<0 or j<0 or i>=m or j>=n or grid[i][j]!=\"1\":\n",
    "                return\n",
    "            grid[i][j]='*'\n",
    "            dfs(i,j+1)\n",
    "            dfs(i,j-1)\n",
    "            dfs(i+1,j)\n",
    "            dfs(i-1,j)            \n",
    "        count=0\n",
    "        for i in range(m):\n",
    "            for j in range(n):\n",
    "                if grid[i][j]==\"1\":\n",
    "                    count+=1\n",
    "                    dfs(i,j)\n",
    "        return count\n",
    "sol = Solution()\n",
    "sol.numIslands([[\"1\",\"0\",\"1\",\"1\",\"0\"],[\"1\",\"1\",\"0\",\"1\",\"0\"],[\"1\",\"1\",\"0\",\"0\",\"0\"],[\"0\",\"0\",\"0\",\"0\",\"0\"]])\n"
   ]
  },
  {
   "cell_type": "markdown",
   "metadata": {},
   "source": [
    "# Level order traversal (left to right) of a Tree (LeetCode Challenge)"
   ]
  },
  {
   "cell_type": "code",
   "execution_count": 4,
   "metadata": {},
   "outputs": [],
   "source": [
    "# Definition for a binary tree node.\n",
    "# class TreeNode:\n",
    "#     def __init__(self, val=0, left=None, right=None):\n",
    "#         self.val = val\n",
    "#         self.left = left\n",
    "#         self.right = right\n",
    "#Do a BFS starting a new list at each level.\n",
    "class Solution:\n",
    "    def levelOrder(self, root):\n",
    "        if not root:\n",
    "            return []\n",
    "        visited=[[]]\n",
    "        to_visit=[(root,0)]\n",
    "        current_level=0\n",
    "        while to_visit:\n",
    "            node,node_level = to_visit.pop(0)\n",
    "            if node_level>current_level:\n",
    "                current_level+=1\n",
    "                visited.append([])\n",
    "            visited[-1].append(node.val)\n",
    "            if node.left: to_visit.append((node.left,current_level+1))\n",
    "            if node.right: to_visit.append((node.right, current_level+1))\n",
    "        return visited\n",
    "        "
   ]
  },
  {
   "cell_type": "markdown",
   "metadata": {},
   "source": [
    "# Leetcode 547"
   ]
  },
  {
   "cell_type": "code",
   "execution_count": 1,
   "metadata": {},
   "outputs": [
    {
     "data": {
      "text/plain": [
       "1"
      ]
     },
     "execution_count": 1,
     "metadata": {},
     "output_type": "execute_result"
    }
   ],
   "source": [
    "class Solution: \n",
    "\n",
    "    def findCircleNum(self, isConnected) -> int:\n",
    "        def dfs(city):\n",
    "            for town, isNeighbor in enumerate(isConnected[city]):\n",
    "                if isNeighbor and town not in visited:\n",
    "                    visited.add(town)\n",
    "                    dfs(town)\n",
    "        n=len(isConnected)\n",
    "        visited=set()\n",
    "        provinces = 0\n",
    "        for city in range(n):\n",
    "            if city not in visited:\n",
    "                provinces+=1\n",
    "                dfs(city)\n",
    "        return provinces\n",
    "\n",
    "\n",
    "sol = Solution()\n",
    "sol.findCircleNum([[1,0,0,1],[0,1,1,0],[0,1,1,1],[1,0,1,1]])\n",
    "    "
   ]
  },
  {
   "cell_type": "code",
   "execution_count": null,
   "metadata": {},
   "outputs": [],
   "source": []
  }
 ],
 "metadata": {
  "kernelspec": {
   "display_name": "Python 3",
   "language": "python",
   "name": "python3"
  },
  "language_info": {
   "codemirror_mode": {
    "name": "ipython",
    "version": 3
   },
   "file_extension": ".py",
   "mimetype": "text/x-python",
   "name": "python",
   "nbconvert_exporter": "python",
   "pygments_lexer": "ipython3",
   "version": "3.8.5"
  }
 },
 "nbformat": 4,
 "nbformat_minor": 4
}
