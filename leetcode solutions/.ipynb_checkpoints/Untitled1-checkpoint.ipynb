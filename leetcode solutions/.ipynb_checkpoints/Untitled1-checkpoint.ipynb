{
 "cells": [
  {
   "cell_type": "code",
   "execution_count": null,
   "metadata": {},
   "outputs": [],
   "source": [
    "class Solution:\n",
    "    def maxProductPath(self, grid: List[List[int]]) -> int:\n",
    "        m=len(grid)\n",
    "        n=len(grid[0])\n",
    "        return self.__partialProductPath(0,0,m,n)\n",
    "        \n",
    "    def __partialProductPath(self, i,j,m,n):\n",
    "        set_of_options = set()\n",
    "        if (i,j)==(m-1,n-1):\n",
    "            return grid[i][j]\n",
    "        if i+1<len(m):\n",
    "            try:\n",
    "                set_of_options.add(precomputed[i+1][j])\n",
    "            except:\n",
    "                self.__partialProductPath(i+1,j)\n",
    "        if j+1<len(n):\n",
    "            set_of_options.add(self.__partialProductPath(i,j+1))\n",
    "        return max(set_of_options)\n",
    "        \n",
    "        \n",
    "        \n",
    "#Have the maximum products to the bottom starting from (i,j) and recursively solve.\n",
    "#PPP(m-1,n-1) = grid[m-][n-1]\n",
    "#PPP(i,j) = max(PPP(i,j+1),PPP(i+1,j) as long as j+1, i+1 are not out of bounds.\n",
    "#How to do a for loop that does bottom and right most lines first, next inner next and so on.\n"
   ]
  },
  {
   "cell_type": "code",
   "execution_count": 21,
   "metadata": {},
   "outputs": [],
   "source": [
    "class Solution:\n",
    "    def maxProductPath(self, grid) -> int:\n",
    "        m=len(grid)\n",
    "        n=len(grid[0])\n",
    "        return self.__partialProductPath(0,0,m,n)\n",
    "        \n",
    "    def __partialProductPath(self, i,j,m,n):\n",
    "        set_of_options = set()\n",
    "        if (i,j)==(m-1,n-1):\n",
    "            return grid[i][j]\n",
    "        if i+1<len(m):\n",
    "            try:\n",
    "                set_of_options.add(precomputed[i+1][j])\n",
    "            except:\n",
    "                self.__partialProductPath(i+1,j)\n",
    "        if j+1<len(n):\n",
    "            set_of_options.add(self.__partialProductPath(i,j+1))\n",
    "        return max(set_of_options)"
   ]
  },
  {
   "cell_type": "code",
   "execution_count": null,
   "metadata": {},
   "outputs": [],
   "source": [
    "Solution ="
   ]
  }
 ],
 "metadata": {
  "kernelspec": {
   "display_name": "Python 3",
   "language": "python",
   "name": "python3"
  },
  "language_info": {
   "codemirror_mode": {
    "name": "ipython",
    "version": 3
   },
   "file_extension": ".py",
   "mimetype": "text/x-python",
   "name": "python",
   "nbconvert_exporter": "python",
   "pygments_lexer": "ipython3",
   "version": "3.8.5"
  }
 },
 "nbformat": 4,
 "nbformat_minor": 4
}
