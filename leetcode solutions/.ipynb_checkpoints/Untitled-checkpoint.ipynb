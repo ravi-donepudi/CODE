{
 "cells": [
  {
   "cell_type": "code",
   "execution_count": 1,
   "metadata": {},
   "outputs": [],
   "source": [
    "from collections import Counter"
   ]
  },
  {
   "cell_type": "code",
   "execution_count": 6,
   "metadata": {},
   "outputs": [
    {
     "data": {
      "text/plain": [
       "Counter({1: 1, 2: 1, 3: 1, 4: 1, 5: 1, 6: 1})"
      ]
     },
     "execution_count": 6,
     "metadata": {},
     "output_type": "execute_result"
    }
   ],
   "source": []
  },
  {
   "cell_type": "code",
   "execution_count": 11,
   "metadata": {},
   "outputs": [],
   "source": [
    "def solution(arr):\n",
    "    counter=dict()\n",
    "    for i,element in enumerate(arr):\n",
    "        if element not in counter:\n",
    "            counter[element] = [i, 1]\n",
    "        else:\n",
    "            counter[element][1]+=1\n",
    "        earliest=len(arr)\n",
    "    for element in counter:\n",
    "        if counter[element][1]==1:\n",
    "            if counter[element][0]<earliest:\n",
    "                earliest=counter[element][0]\n",
    "    return earliest\n",
    "        \n",
    "        \n",
    "            \n",
    "    "
   ]
  },
  {
   "cell_type": "code",
   "execution_count": 48,
   "metadata": {},
   "outputs": [],
   "source": [
    "#Want integer solutions to x^2+y^2=r^2\n",
    "#First add (0,r),(0,-r),(r,0),(-r,0) to list.\n",
    "#WLOG, can assume x,y>0 and x<=y\n",
    "import math\n",
    "\n",
    "def circle_lattice_pts(r):\n",
    "    if r==0:\n",
    "        return [(0,0)]\n",
    "    lattice_pts=[(0,r),(0,-r),(r,0),(-r,0)]\n",
    "    for x in range(1,r):\n",
    "        y=math.sqrt(r**2-x**2)\n",
    "        if y.is_integer():\n",
    "            y=int(y)\n",
    "            lattice_pts+=[(x,y),(-x,y),(x,-y),(-x,-y),(y,x),(-y,x),(y,-x),(-y,-x)]\n",
    "    return lattice_pts\n",
    "    "
   ]
  },
  {
   "cell_type": "code",
   "execution_count": 52,
   "metadata": {},
   "outputs": [
    {
     "data": {
      "text/plain": [
       "[(0, 2), (0, -2), (2, 0), (-2, 0)]"
      ]
     },
     "execution_count": 52,
     "metadata": {},
     "output_type": "execute_result"
    }
   ],
   "source": [
    "circle_lattice_pts(2)"
   ]
  },
  {
   "cell_type": "code",
   "execution_count": null,
   "metadata": {},
   "outputs": [],
   "source": [
    " {1, 34, 3, 98, 9, 76, 45, 4}\n",
    "# 9 comes before 98\n",
    "# 45 comes before 4\n",
    "#4 and 44 are the \"same\" but we can arbitrarily choose 44 before 4\n",
    "#4 comes before 43\n",
    "\n",
    "compare(n1,n2):\n",
    "    s1=str(n1)\n",
    "    s2=str(n2)\n",
    "    "
   ]
  },
  {
   "cell_type": "code",
   "execution_count": 54,
   "metadata": {},
   "outputs": [
    {
     "name": "stderr",
     "output_type": "stream",
     "text": [
      "<>:1: SyntaxWarning: 'int' object is not subscriptable; perhaps you missed a comma?\n",
      "<>:1: SyntaxWarning: 'int' object is not subscriptable; perhaps you missed a comma?\n",
      "<ipython-input-54-b9d492e919a2>:1: SyntaxWarning: 'int' object is not subscriptable; perhaps you missed a comma?\n",
      "  123124[0]\n"
     ]
    },
    {
     "ename": "TypeError",
     "evalue": "'int' object is not subscriptable",
     "output_type": "error",
     "traceback": [
      "\u001b[0;31m---------------------------------------------------------------------------\u001b[0m",
      "\u001b[0;31mTypeError\u001b[0m                                 Traceback (most recent call last)",
      "\u001b[0;32m<ipython-input-54-b9d492e919a2>\u001b[0m in \u001b[0;36m<module>\u001b[0;34m\u001b[0m\n\u001b[0;32m----> 1\u001b[0;31m \u001b[0;36m123124\u001b[0m\u001b[0;34m[\u001b[0m\u001b[0;36m0\u001b[0m\u001b[0;34m]\u001b[0m\u001b[0;34m\u001b[0m\u001b[0;34m\u001b[0m\u001b[0m\n\u001b[0m",
      "\u001b[0;31mTypeError\u001b[0m: 'int' object is not subscriptable"
     ]
    }
   ],
   "source": [
    "123124[0]"
   ]
  },
  {
   "cell_type": "code",
   "execution_count": null,
   "metadata": {},
   "outputs": [],
   "source": [
    "\n",
    "charcountstring(s):\n",
    "counter = Counter(s)\n",
    "answer=''\n",
    "for c in counter:\n",
    "    answer+=\n",
    "    "
   ]
  },
  {
   "cell_type": "code",
   "execution_count": 55,
   "metadata": {},
   "outputs": [
    {
     "data": {
      "text/plain": [
       "Counter({'a': 3, 'b': 1, 'c': 1})"
      ]
     },
     "execution_count": 55,
     "metadata": {},
     "output_type": "execute_result"
    }
   ],
   "source": [
    "c=Counter('aabca')"
   ]
  },
  {
   "cell_type": "code",
   "execution_count": 57,
   "metadata": {},
   "outputs": [],
   "source": [
    "s='asbsdf'\n",
    "s+='s'+'t'"
   ]
  },
  {
   "cell_type": "code",
   "execution_count": null,
   "metadata": {},
   "outputs": [],
   "source": []
  }
 ],
 "metadata": {
  "kernelspec": {
   "display_name": "Python 3",
   "language": "python",
   "name": "python3"
  },
  "language_info": {
   "codemirror_mode": {
    "name": "ipython",
    "version": 3
   },
   "file_extension": ".py",
   "mimetype": "text/x-python",
   "name": "python",
   "nbconvert_exporter": "python",
   "pygments_lexer": "ipython3",
   "version": "3.8.5"
  }
 },
 "nbformat": 4,
 "nbformat_minor": 4
}
