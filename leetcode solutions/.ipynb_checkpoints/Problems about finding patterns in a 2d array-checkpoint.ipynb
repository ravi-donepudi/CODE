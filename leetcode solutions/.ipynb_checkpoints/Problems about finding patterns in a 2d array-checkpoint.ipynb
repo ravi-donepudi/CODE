{
 "cells": [
  {
   "cell_type": "markdown",
   "metadata": {},
   "source": [
    "### Robot path through an obstacle field"
   ]
  },
  {
   "cell_type": "code",
   "execution_count": 76,
   "metadata": {},
   "outputs": [
    {
     "data": {
      "text/plain": [
       "[]"
      ]
     },
     "execution_count": 76,
     "metadata": {},
     "output_type": "execute_result"
    }
   ],
   "source": [
    "#Given mxn array with 0s and 1s, need to reach (m-1,n-1) from (0,0) while avoiding the spots marked by a 1.\n",
    "def robot_path(road_blocks):\n",
    "    def robot_path_helper(i,j):\n",
    "        if m==0 and n==0:\n",
    "            path.append([0,0])\n",
    "            return True    \n",
    "        elif i>=0 and j>=0 and i<m and i<n and road_blocks[i,j]!=1:\n",
    "                if robot_path_helper(i-1,j):\n",
    "                    path.append([i-1,j])\n",
    "                    return True\n",
    "                elif robot_path_helper(i,j-1):\n",
    "                    path.append([i,j-1])\n",
    "                    return True\n",
    "                return False\n",
    "        else:\n",
    "            return False\n",
    "\n",
    "    m=len(road_blocks)\n",
    "    n=len(road_blocks[0])\n",
    "    path=[]\n",
    "    return path\n",
    "\n",
    "robot_path([[0,0,0],[0,0,0],[0,0,0]])\n",
    "    \n",
    "    \n",
    "    \n",
    "    \n",
    "    \n",
    "    \n",
    "    "
   ]
  },
  {
   "cell_type": "markdown",
   "metadata": {},
   "source": [
    "# Given a board of x and os, turn all os completely surrounded by xs into xs. "
   ]
  },
  {
   "cell_type": "markdown",
   "metadata": {},
   "source": [
    "## Slow solution "
   ]
  },
  {
   "cell_type": "code",
   "execution_count": 216,
   "metadata": {},
   "outputs": [
    {
     "name": "stdout",
     "output_type": "stream",
     "text": [
      "1 1\n"
     ]
    },
    {
     "data": {
      "text/plain": [
       "[['X', 'X', 'X', 'X'],\n",
       " ['X', 'X', 'X', 'X'],\n",
       " ['X', 'X', 'X', 'X'],\n",
       " ['X', 'O', 'X', 'X']]"
      ]
     },
     "execution_count": 216,
     "metadata": {},
     "output_type": "execute_result"
    }
   ],
   "source": [
    "\n",
    "class Solution:\n",
    "    def solve(self, board) -> None:\n",
    "        m=len(board)\n",
    "        n=len(board[0])\n",
    "        \n",
    "        def dfs_access_to_boundary(i,j):\n",
    "            if i>=0 and i<m and j>=0 and j<n and board[i][j]=='O':\n",
    "                board[i][j]='o'\n",
    "                if i==0 or i==m-1 or j==0 or j==n-1:\n",
    "                    return True\n",
    "                    print('been here',i,j,board[i][j])\n",
    "                return dfs_access_to_boundary(i,j+1) or dfs_access_to_boundary(i,j-1) or dfs_access_to_boundary(i+1,j) or dfs_access_to_boundary(i-1,j)\n",
    "\n",
    "        def dfs_mark_conquest(i,j):\n",
    "            if i>=0 and i<m and j>=0 and j<n and board[i][j]=='o':\n",
    "                board[i][j]='X'\n",
    "                dfs_mark_conquest(i,j+1)\n",
    "                dfs_mark_conquest(i,j-1)\n",
    "                dfs_mark_conquest(i+1,j)\n",
    "                dfs_mark_conquest(i-1,j)\n",
    "        \n",
    "        for i in range(m):\n",
    "            for j in range(n):\n",
    "                if board[i][j]=='O':\n",
    "                    trapped=True\n",
    "                    trapped=dfs_access_to_boundary(i,j)\n",
    "                    if trapped!=True:\n",
    "                        print(i,j)\n",
    "                        dfs_mark_conquest(i,j)\n",
    "        for i in range(m):\n",
    "            for j in range(n):\n",
    "                if board[i][j]=='o':\n",
    "                    board[i][j]='O'\n",
    "sol = Solution()\n",
    "board=[[\"X\",\"X\",\"X\",\"X\"],[\"X\",\"O\",\"O\",\"X\"],[\"X\",\"X\",\"O\",\"X\"],[\"X\",\"O\",\"X\",\"X\"]]\n",
    "sol.solve(board)\n",
    "board"
   ]
  },
  {
   "cell_type": "markdown",
   "metadata": {},
   "source": [
    "## Smarter solution by just starting around the boundary "
   ]
  },
  {
   "cell_type": "code",
   "execution_count": 264,
   "metadata": {},
   "outputs": [],
   "source": [
    "#Work around the boundary and mark those which can be reached from Os on the boundary as 'S' for saveable\n",
    "#Now mark everything as 'X' except those 'S'\n",
    "\n",
    "class Solution:\n",
    "    def solve(self, board) -> None:\n",
    "        m=len(board)\n",
    "        n=len(board[0])\n",
    "        save = [loc for k in range(max(m,n)) for loc in {(0,k),(k,0),(m-1,k),(k,n-1)} if board[loc[0]][loc[1]]=='O']\n",
    "        while save:\n",
    "            i,j = save.pop()\n",
    "            if 0<=i<m and 0<=j<n and board[i][j]=='O':\n",
    "                board[i][j]='S'\n",
    "                save+= (i+1,j),(i-1,j),(i,j+1),(i,j-1)\n",
    "        for i in range(m):\n",
    "            for j in range(n):\n",
    "                if board[i][j]=='S':\n",
    "                    board[i][j]='O'\n",
    "                else: board[i][j]='X'\n",
    "sol = Solution()\n",
    "board=[[\"X\",\"X\",\"X\",\"X\"],[\"X\",\"O\",\"O\",\"X\"],[\"X\",\"X\",\"O\",\"X\"],[\"X\",\"O\",\"X\",\"X\"]]\n",
    "sol.solve(board)"
   ]
  },
  {
   "cell_type": "code",
   "execution_count": null,
   "metadata": {},
   "outputs": [],
   "source": []
  }
 ],
 "metadata": {
  "kernelspec": {
   "display_name": "Python 3",
   "language": "python",
   "name": "python3"
  },
  "language_info": {
   "codemirror_mode": {
    "name": "ipython",
    "version": 3
   },
   "file_extension": ".py",
   "mimetype": "text/x-python",
   "name": "python",
   "nbconvert_exporter": "python",
   "pygments_lexer": "ipython3",
   "version": "3.8.5"
  }
 },
 "nbformat": 4,
 "nbformat_minor": 4
}
