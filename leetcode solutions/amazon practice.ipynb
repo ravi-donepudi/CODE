{
 "cells": [
  {
   "cell_type": "code",
   "execution_count": 2,
   "metadata": {},
   "outputs": [
    {
     "data": {
      "text/plain": [
       "1624308092.0667222"
      ]
     },
     "execution_count": 2,
     "metadata": {},
     "output_type": "execute_result"
    }
   ],
   "source": [
    "from time import time\n",
    "t=time();t"
   ]
  },
  {
   "cell_type": "code",
   "execution_count": 3,
   "metadata": {},
   "outputs": [
    {
     "ename": "SyntaxError",
     "evalue": "invalid character in identifier (<ipython-input-3-0a13f2622f55>, line 1)",
     "output_type": "error",
     "traceback": [
      "\u001b[0;36m  File \u001b[0;32m\"<ipython-input-3-0a13f2622f55>\"\u001b[0;36m, line \u001b[0;32m1\u001b[0m\n\u001b[0;31m    •   Given a list of numbers and K, return the number of pairs where the sum of the pair is less than K.\u001b[0m\n\u001b[0m    ^\u001b[0m\n\u001b[0;31mSyntaxError\u001b[0m\u001b[0;31m:\u001b[0m invalid character in identifier\n"
     ]
    }
   ],
   "source": [
    "•   Given a list of numbers and K, return the number of pairs where the sum of the pair is less than K. \n",
    "o   Brute force seemed to be the solution and then optimized it"
   ]
  },
  {
   "cell_type": "code",
   "execution_count": null,
   "metadata": {},
   "outputs": [],
   "source": [
    "#Questions: Can I use the same number twice? NO. Are the numbers in the array distinct? NO. How small can arr be?\n",
    "\n",
    "def pairs_sum_below_threshold(arr, K):\n",
    "    if len(arr)\n",
    "    n=len(arr)\n",
    "    pairs=[]\n",
    "    for i in range(n):\n",
    "        for j in range(i+1,n):\n",
    "            if i+j<K and [i,j] not in pairs:\n",
    "                pairs.append([i,j])\n",
    "    return pairs\n",
    "\n"
   ]
  },
  {
   "cell_type": "code",
   "execution_count": null,
   "metadata": {},
   "outputs": [],
   "source": [
    "•   Given login and logout times of users (in ints, e.g. [2, 10], [5, 8]) find the peak load interval."
   ]
  },
  {
   "cell_type": "code",
   "execution_count": null,
   "metadata": {},
   "outputs": [],
   "source": []
  },
  {
   "cell_type": "code",
   "execution_count": null,
   "metadata": {},
   "outputs": [],
   "source": [
    "•   Given a series of login times, find the time interval when there was the peak Load in the System(Maximum Number of users Logged in)\n",
    "•   Write a function that computes the dot product between two sparse vectors.\n",
    "o   Time complexity?\n",
    "o   What if vec2 is expected to be much sparser (looking for binary search)\n",
    "•   Suppose we have a log containing customer interactions on the Amazon website as shown below. Return a list of unique customers who visited the site every day over the past week."
   ]
  },
  {
   "cell_type": "code",
   "execution_count": 5,
   "metadata": {},
   "outputs": [],
   "source": [
    "from collections import defaultdict"
   ]
  },
  {
   "cell_type": "code",
   "execution_count": 7,
   "metadata": {},
   "outputs": [],
   "source": [
    "a=defaultdict(list)"
   ]
  },
  {
   "cell_type": "code",
   "execution_count": 13,
   "metadata": {},
   "outputs": [
    {
     "data": {
      "text/plain": [
       "0"
      ]
     },
     "execution_count": 13,
     "metadata": {},
     "output_type": "execute_result"
    }
   ],
   "source": [
    "len(a[11])"
   ]
  },
  {
   "cell_type": "markdown",
   "metadata": {},
   "source": [
    "#### Given an array of size n containing equal number of odd and even numbers. The problem is to arrange the numbers in such a way that all the even numbers get the even index and odd numbers get the odd index. Required auxiliary space is O(1)."
   ]
  },
  {
   "cell_type": "code",
   "execution_count": null,
   "metadata": {},
   "outputs": [],
   "source": [
    "def index_value_parity(arr):\n",
    "    n=len(arr)\n",
    "    if n%2!=0:\n",
    "        \n",
    "        return \"Array needs to have an even number of elements\"\n",
    "    for i in range(n//2):\n",
    "        if (i-arr[i])%2 !=0:\n",
    "            \n",
    "            \n",
    "    "
   ]
  }
 ],
 "metadata": {
  "kernelspec": {
   "display_name": "Python 3",
   "language": "python",
   "name": "python3"
  },
  "language_info": {
   "codemirror_mode": {
    "name": "ipython",
    "version": 3
   },
   "file_extension": ".py",
   "mimetype": "text/x-python",
   "name": "python",
   "nbconvert_exporter": "python",
   "pygments_lexer": "ipython3",
   "version": "3.8.5"
  }
 },
 "nbformat": 4,
 "nbformat_minor": 4
}
