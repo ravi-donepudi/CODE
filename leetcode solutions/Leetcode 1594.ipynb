{
 "cells": [
  {
   "cell_type": "markdown",
   "metadata": {},
   "source": [
    "# Maximum non negative product in a matrix\n",
    "https://leetcode.com/problems/maximum-non-negative-product-in-a-matrix/"
   ]
  },
  {
   "cell_type": "code",
   "execution_count": 44,
   "metadata": {},
   "outputs": [
    {
     "data": {
      "text/plain": [
       "120"
      ]
     },
     "execution_count": 44,
     "metadata": {},
     "output_type": "execute_result"
    }
   ],
   "source": [
    "#Current solution only works for non-negative values in the matrix. For the negative ones, need to store a set in precomputed with both the max and min elements\n",
    "\n",
    "class Solution:\n",
    "    grid=[]\n",
    "    precomputed=[]\n",
    " \n",
    "    def maxProductPath(self, grid) -> int:\n",
    "        m=len(grid)\n",
    "        n=len(grid[0])\n",
    "        \n",
    "        self.__partialProductPath__()\n",
    "        return max(precomputed[0][0])\n",
    "\n",
    "    def __partialProductPath__(self, i,j,m,n):\n",
    "        set_of_options = set()\n",
    "        if (i,j)==(m-1,n-1):\n",
    "            return self.grid[i][j]\n",
    "        if i+1<m:\n",
    "                set_of_options.add(self.__partialProductPath__(i+1,j,m,n))\n",
    "        if j+1<n:\n",
    "                set_of_options.add(self.__partialProductPath__(i,j+1,m,n))\n",
    "        return max(set_of_options)*grid[i][j]\n",
    "sol = Solution()\n",
    "sol.maxProductPath([[1,2,3],[4,5,6]])\n",
    "        \n",
    "#Have the maximum products to the bottom starting from (i,j) and recursively solve.\n",
    "#PPP(m-1,n-1) = grid[m-1][n-1]\n",
    "#PPP(i,j) = max(PPP(i,j+1),PPP(i+1,j) as long as j+1, i+1 are not out of bounds.\n",
    "#How to do a for loop that does bottom and right most lines first, next inner next and so on.\n"
   ]
  },
  {
   "cell_type": "code",
   "execution_count": 23,
   "metadata": {},
   "outputs": [],
   "source": [
    "class Solution:\n",
    "    grid=[]\n",
    "    precomputed=[]\n",
    "     def maxProductPath(self, grid) -> int:\n",
    "        self.grid = grid\n",
    "        precomputed = \n",
    "        m=len(grid)\n",
    "        n=len(grid[0])\n",
    "        return self.__partialProductPath(0,0,m,n)\n",
    "\n",
    "    def __partialProductPath(self, i,j,m,n):\n",
    "        set_of_options = set()\n",
    "        if (i,j)==(m-1,n-1):\n",
    "            return grid[i][j]\n",
    "        if i+1<len(m):\n",
    "            try:\n",
    "                set_of_options.add(precomputed[i+1][j])\n",
    "            except:\n",
    "                self.__partialProductPath(i+1,j)\n",
    "        if j+1<len(n):\n",
    "            set_of_options.add(self.__partialProductPath(i,j+1))\n",
    "        return max(set_of_options)\n",
    "    \n",
    "sol = Solution()"
   ]
  },
  {
   "cell_type": "code",
   "execution_count": 57,
   "metadata": {},
   "outputs": [],
   "source": [
    "m,n=4,6"
   ]
  },
  {
   "cell_type": "code",
   "execution_count": 59,
   "metadata": {},
   "outputs": [],
   "source": [
    "l=[[0]*6]*4"
   ]
  },
  {
   "cell_type": "code",
   "execution_count": null,
   "metadata": {},
   "outputs": [],
   "source": []
  }
 ],
 "metadata": {
  "kernelspec": {
   "display_name": "Python 3",
   "language": "python",
   "name": "python3"
  },
  "language_info": {
   "codemirror_mode": {
    "name": "ipython",
    "version": 3
   },
   "file_extension": ".py",
   "mimetype": "text/x-python",
   "name": "python",
   "nbconvert_exporter": "python",
   "pygments_lexer": "ipython3",
   "version": "3.8.5"
  }
 },
 "nbformat": 4,
 "nbformat_minor": 4
}
