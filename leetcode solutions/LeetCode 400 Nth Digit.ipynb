{
 "cells": [
  {
   "cell_type": "code",
   "execution_count": null,
   "metadata": {},
   "outputs": [],
   "source": [
    "https://leetcode.com/problems/nth-digit/"
   ]
  },
  {
   "cell_type": "code",
   "execution_count": 3,
   "metadata": {},
   "outputs": [],
   "source": [
    "import math"
   ]
  },
  {
   "cell_type": "code",
   "execution_count": 4,
   "metadata": {},
   "outputs": [
    {
     "data": {
      "text/plain": [
       "3.1622776601683795"
      ]
     },
     "execution_count": 4,
     "metadata": {},
     "output_type": "execute_result"
    }
   ],
   "source": [
    "math.sqrt(10)"
   ]
  },
  {
   "cell_type": "code",
   "execution_count": 15,
   "metadata": {},
   "outputs": [],
   "source": [
    "f = lambda n:math.ceil((-1+math.sqrt(1+8*n))/2)"
   ]
  },
  {
   "cell_type": "code",
   "execution_count": 36,
   "metadata": {},
   "outputs": [
    {
     "name": "stdout",
     "output_type": "stream",
     "text": [
      "59991.83664581503\n"
     ]
    },
    {
     "data": {
      "text/plain": [
       "59991"
      ]
     },
     "execution_count": 36,
     "metadata": {},
     "output_type": "execute_result"
    }
   ],
   "source": [
    "n=1804289383\n",
    "k=f(n)\n",
    "a=-1/2\n",
    "b=k+1/2\n",
    "c=-n\n",
    "Answer = (-b+math.sqrt(b**2-4*a*c))/(2*a)\n",
    "print(Answer)\n"
   ]
  },
  {
   "cell_type": "markdown",
   "metadata": {},
   "source": [
    "Given n, first find out what digit numbers we are at:\n",
    "1 digit 1-9 9 numbers 1 digit each\n",
    "2 digit 10-99 90 numbers 2 digits each\n",
    "...\n",
    "\n",
    "k digit 10000.. (k-1 zeros) 90000..(k-1 zeros) k digits each\n",
    "\n",
    "Say it's at kth digits..\n",
    "Subtract the number of digits consumed by numbers from 1 up to 99...9 (k-1) times. For the remaining numbers, divide by k and call quotient q and remainder r. That will tell you that we used up 10^k+q-1 numbers and are at the rth digit of 10^k+r.\n"
   ]
  },
  {
   "cell_type": "code",
   "execution_count": 92,
   "metadata": {},
   "outputs": [
    {
     "data": {
      "text/plain": [
       "(1, 0, 9, 1)"
      ]
     },
     "execution_count": 92,
     "metadata": {},
     "output_type": "execute_result"
    }
   ],
   "source": [
    "def nthdigit(n):\n",
    "    if n<10:\n",
    "        return n\n",
    "    k=0\n",
    "    cutoff=0\n",
    "    while(n>cutoff+9*(k+1)*10**k):\n",
    "        cutoff+=9*(k+1)*10**k\n",
    "        k+=1\n",
    "    q,r = divmod(n-cutoff+1,k+1)\n",
    "    return 10**(k) - q,r,cutoff,k\n",
    "nthdigit(10)"
   ]
  },
  {
   "cell_type": "code",
   "execution_count": null,
   "metadata": {},
   "outputs": [],
   "source": [
    "100 192\n",
    "101 195\n",
    "102 198\n",
    "10"
   ]
  },
  {
   "cell_type": "code",
   "execution_count": null,
   "metadata": {},
   "outputs": [],
   "source": [
    "1-9 takes up 9 digits\n",
    "10-99 takes up 90*2 digits\n",
    "100-999 takes up 900*3 digits\n",
    "\n",
    "10^(k-1)---10^k-1 takes up k*(10^k - 10^(k-1)) digits\n"
   ]
  }
 ],
 "metadata": {
  "kernelspec": {
   "display_name": "Python 3",
   "language": "python",
   "name": "python3"
  },
  "language_info": {
   "codemirror_mode": {
    "name": "ipython",
    "version": 3
   },
   "file_extension": ".py",
   "mimetype": "text/x-python",
   "name": "python",
   "nbconvert_exporter": "python",
   "pygments_lexer": "ipython3",
   "version": "3.8.5"
  }
 },
 "nbformat": 4,
 "nbformat_minor": 4
}
