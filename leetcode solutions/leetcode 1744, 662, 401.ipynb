{
 "cells": [
  {
   "cell_type": "code",
   "execution_count": 3,
   "metadata": {},
   "outputs": [
    {
     "name": "stdout",
     "output_type": "stream",
     "text": [
      "08\n"
     ]
    }
   ],
   "source": [
    "print('%02d'%8)"
   ]
  },
  {
   "cell_type": "code",
   "execution_count": 9,
   "metadata": {},
   "outputs": [
    {
     "name": "stdout",
     "output_type": "stream",
     "text": [
      "77 77\n",
      "30 True False\n"
     ]
    }
   ],
   "source": [
    "true=True\n",
    "false=False\n",
    "output=[true,true,true,true,true,true,true,true,false,false,true,true,false,false,false,true,true,false,false,false,false,false,false,false,false,true,false,false,false,false,true,true,false,true,true,false,false,false,true,false,false,false,false,false,true,true,true,false,false,false,false,true,false,false,true,false,true,true,false,true,false,false,true,true,true,true,true,false,false,false,true,true,false,false,true,false,true]\n",
    "expected=[true,true,true,true,true,true,true,true,false,false,true,true,false,false,false,true,true,false,false,false,false,false,false,false,false,true,false,false,false,false,false,true,false,true,true,false,false,false,true,false,false,false,false,false,true,true,true,false,false,false,false,true,false,false,true,false,true,true,false,true,false,false,true,true,true,true,true,false,false,false,true,true,false,false,true,false,true]\n",
    "print(len(output),len(expected))\n",
    "\n",
    "for i in range(len(output)):\n",
    "    if output[i]!=expected[i]:\n",
    "        print(i,output[i],expected[i])"
   ]
  },
  {
   "cell_type": "code",
   "execution_count": 10,
   "metadata": {},
   "outputs": [],
   "source": [
    "candies_Count=[16,38,8,41,30,31,14,45,3,2,24,23,38,30,31,17,35,4,9,42,28,18,37,18,14,46,11,13,19,3,5,39,24,48,20,29,4,19,36,11,28,49,38,16,23,24,4,22,29,35,45,38,37,40,2,37,8,41,33,8,40,27,13,4,33,5,8,14,19,35,31,8,8]\n",
    "queries=[[35,669,5],[72,822,74],[47,933,94],[62,942,85],[42,596,11],[56,1066,18],[54,571,45],[39,890,100],[3,175,26],[48,1489,37],[40,447,52],[30,584,7],[26,1486,38],[21,1142,21],[9,494,96],[56,759,81],[13,319,16],[20,1406,57],[11,1092,19],[24,670,67],[38,1702,33],[5,676,32],[50,1386,77],[36,1551,87],[29,1445,13],[58,977,13],[7,887,64],[37,1396,23],[0,765,69],[40,1083,86],[43,1054,49],[48,690,92],[28,1201,56],[47,948,43],[57,233,25],[32,1293,65],[0,1646,34],[43,1467,39],[39,484,23],[21,1576,69],[12,1222,68],[9,457,83],[32,65,9],[10,1424,42],[35,534,3],[23,83,22],[33,501,33],[25,679,51],[2,321,42],[1,240,68],[7,1297,42],[45,480,72],[26,1472,9],[6,649,90],[26,361,57],[49,1592,7],[11,158,95],[35,448,24],[41,1654,10],[61,510,43],[31,1230,95],[11,1471,12],[37,43,84],[56,1147,48],[69,1368,65],[22,170,24],[56,192,80],[34,1207,69],[1,1226,22],[37,1633,50],[11,98,58],[17,125,13],[0,1490,5],[37,1732,43],[45,793,14],[16,578,72],[50,241,78]]\n"
   ]
  },
  {
   "cell_type": "markdown",
   "metadata": {},
   "source": [
    "# One line slow answer to LeetCode 1744 "
   ]
  },
  {
   "cell_type": "code",
   "execution_count": 30,
   "metadata": {},
   "outputs": [
    {
     "data": {
      "text/plain": [
       "True"
      ]
     },
     "execution_count": 30,
     "metadata": {},
     "output_type": "execute_result"
    }
   ],
   "source": [
    "\n",
    "class Solution:\n",
    "    def canEat(self, candiesCount, queries):\n",
    "#  1. Must have enough candies of favoriteType_i on favoriteDay_i\n",
    "#     sum(candiesCount[k] for k in range(i+1))>=queries[i][1]\n",
    "#  2. Must have eaten through all the previous favoriteType_k candies for k in range(0,i)\n",
    "#     (favoriteDay_i+1)*dailyCap_i-1>=sum(candiesCount[k] for k in range(i))\n",
    "#  Make both conditions bools and return their 'and'.\n",
    "        return [(queries[i][1]+1)*queries[i][2]-1>=sum(candiesCount[k] for k in range(queries[i][0])) and (sum(candiesCount[k] for k in range(queries[i][0]+1))>queries[i][1]) for i in range(len(queries))]\n",
    "# two requirements for answer[i] to be True:     \n",
    "\n",
    "sol = Solution()\n",
    "sol.canEat(candies_Count,queries)==expected"
   ]
  },
  {
   "cell_type": "markdown",
   "metadata": {},
   "source": [
    "# Diagnosing an error caused by a <= instead of a <"
   ]
  },
  {
   "cell_type": "code",
   "execution_count": 20,
   "metadata": {},
   "outputs": [
    {
     "data": {
      "text/plain": [
       "[43, 1054, 49]"
      ]
     },
     "execution_count": 20,
     "metadata": {},
     "output_type": "execute_result"
    }
   ],
   "source": [
    "queries[30]"
   ]
  },
  {
   "cell_type": "code",
   "execution_count": 18,
   "metadata": {},
   "outputs": [
    {
     "data": {
      "text/plain": [
       "16"
      ]
     },
     "execution_count": 18,
     "metadata": {},
     "output_type": "execute_result"
    }
   ],
   "source": [
    "candies_Count[43]"
   ]
  },
  {
   "cell_type": "code",
   "execution_count": 27,
   "metadata": {},
   "outputs": [
    {
     "data": {
      "text/plain": [
       "(51694, 1038)"
      ]
     },
     "execution_count": 27,
     "metadata": {},
     "output_type": "execute_result"
    }
   ],
   "source": [
    "i=30\n",
    "(queries[i][1]+1)*queries[i][2]-1,sum(candies_Count[k] for k in range(queries[i][0]))"
   ]
  },
  {
   "cell_type": "code",
   "execution_count": 28,
   "metadata": {},
   "outputs": [
    {
     "data": {
      "text/plain": [
       "(1054, 1054)"
      ]
     },
     "execution_count": 28,
     "metadata": {},
     "output_type": "execute_result"
    }
   ],
   "source": [
    "i=30\n",
    "sum(candies_Count[k] for k in range(queries[i][0]+1)),queries[i][1]"
   ]
  },
  {
   "cell_type": "markdown",
   "metadata": {},
   "source": [
    "# more efficient solution to LeetCode 1744"
   ]
  },
  {
   "cell_type": "code",
   "execution_count": 34,
   "metadata": {},
   "outputs": [
    {
     "data": {
      "text/plain": [
       "[16,\n",
       " 54,\n",
       " 62,\n",
       " 103,\n",
       " 133,\n",
       " 164,\n",
       " 178,\n",
       " 223,\n",
       " 226,\n",
       " 228,\n",
       " 252,\n",
       " 275,\n",
       " 313,\n",
       " 343,\n",
       " 374,\n",
       " 391,\n",
       " 426,\n",
       " 430,\n",
       " 439,\n",
       " 481,\n",
       " 509,\n",
       " 527,\n",
       " 564,\n",
       " 582,\n",
       " 596,\n",
       " 642,\n",
       " 653,\n",
       " 666,\n",
       " 685,\n",
       " 688,\n",
       " 693,\n",
       " 732,\n",
       " 756,\n",
       " 804,\n",
       " 824,\n",
       " 853,\n",
       " 857,\n",
       " 876,\n",
       " 912,\n",
       " 923,\n",
       " 951,\n",
       " 1000,\n",
       " 1038,\n",
       " 1054,\n",
       " 1077,\n",
       " 1101,\n",
       " 1105,\n",
       " 1127,\n",
       " 1156,\n",
       " 1191,\n",
       " 1236,\n",
       " 1274,\n",
       " 1311,\n",
       " 1351,\n",
       " 1353,\n",
       " 1390,\n",
       " 1398,\n",
       " 1439,\n",
       " 1472,\n",
       " 1480,\n",
       " 1520,\n",
       " 1547,\n",
       " 1560,\n",
       " 1564,\n",
       " 1597,\n",
       " 1602,\n",
       " 1610,\n",
       " 1624,\n",
       " 1643,\n",
       " 1678,\n",
       " 1709,\n",
       " 1717,\n",
       " 1725]"
      ]
     },
     "execution_count": 34,
     "metadata": {},
     "output_type": "execute_result"
    }
   ],
   "source": [
    "list(np.cumsum(candies_Count))"
   ]
  }
 ],
 "metadata": {
  "kernelspec": {
   "display_name": "Python 3",
   "language": "python",
   "name": "python3"
  },
  "language_info": {
   "codemirror_mode": {
    "name": "ipython",
    "version": 3
   },
   "file_extension": ".py",
   "mimetype": "text/x-python",
   "name": "python",
   "nbconvert_exporter": "python",
   "pygments_lexer": "ipython3",
   "version": "3.8.5"
  }
 },
 "nbformat": 4,
 "nbformat_minor": 4
}
