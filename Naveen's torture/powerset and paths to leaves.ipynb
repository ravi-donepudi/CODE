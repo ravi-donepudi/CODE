{
 "cells": [
  {
   "cell_type": "markdown",
   "metadata": {},
   "source": [
    "### Given a list of distinct elements, return a list of all power_sets in list form, order doesn't matter"
   ]
  },
  {
   "cell_type": "code",
   "execution_count": null,
   "metadata": {},
   "outputs": [],
   "source": [
    "def power_set(lst):\n",
    "    if lst==[]:\n",
    "        return [[]]\n",
    "    else:\n",
    "        a= lst.pop(0)\n",
    "        subsets_without_a = power_set(lst)\n",
    "        subsets_with_a = [[a]+s for s in subsets_without_a]\n",
    "        return subsets_without_a+subsets_with_a\n",
    "    \n",
    "power_set([1,2,3,4,5])"
   ]
  },
  {
   "cell_type": "markdown",
   "metadata": {},
   "source": [
    "### Calculate all paths from root to leaves of a binary tree"
   ]
  },
  {
   "cell_type": "code",
   "execution_count": 6,
   "metadata": {},
   "outputs": [],
   "source": [
    "class binary_tree():\n",
    "    def __init__(self,key):\n",
    "        self.val=key\n",
    "        self.left=None\n",
    "        self.right=None"
   ]
  },
  {
   "cell_type": "code",
   "execution_count": 5,
   "metadata": {},
   "outputs": [],
   "source": [
    "def paths_to_leaves_starter(root):\n",
    "    \n",
    "    return paths_to_leaves([root]):\n",
    "\n",
    "def paths_to_leaves(node,partial_paths):\n",
    "    if node==None:\n",
    "        return []\n",
    "    if node.left==None and node.right==None:\n",
    "        return [[node.val]]\n",
    "    else:\n",
    "        left_paths = [[node.val]+path for path in paths_to_leaves(node.left)]\n",
    "        right_paths = [[node.val]+path for path in paths_to_leaves(node.right)]\n",
    "        return left_paths+right_paths"
   ]
  },
  {
   "cell_type": "code",
   "execution_count": 11,
   "metadata": {},
   "outputs": [],
   "source": [
    "base=0\n",
    "l=1\n",
    "l1=2\n",
    "l2=3\n",
    "l121=4\n",
    "r=5\n",
    "r1=6\n",
    "r2=7\n",
    "\n",
    "root=binary_tree(base)\n",
    "left=binary_tree(l)\n",
    "right = binary_tree(r)\n",
    "leftleft=binary_tree(l1)\n",
    "leftright=binary_tree(l2)\n",
    "leftrightleft = binary_tree(l121)\n",
    "\n",
    "rightleft = binary_tree(r1)\n",
    "rightright = binary_tree(r2)"
   ]
  },
  {
   "cell_type": "code",
   "execution_count": 18,
   "metadata": {},
   "outputs": [],
   "source": [
    "root.left = left\n",
    "root.right = right\n",
    "left.left = leftleft\n",
    "left.right = leftright\n",
    "leftright.left = leftrightleft\n",
    "right.left = rightleft\n",
    "right.right = rightright\n"
   ]
  },
  {
   "cell_type": "code",
   "execution_count": 22,
   "metadata": {},
   "outputs": [
    {
     "data": {
      "text/plain": [
       "[[0, 1, 2], [0, 1, 3, 4], [0, 5, 6], [0, 5, 7]]"
      ]
     },
     "execution_count": 22,
     "metadata": {},
     "output_type": "execute_result"
    }
   ],
   "source": [
    "paths_to_leaves(root)"
   ]
  },
  {
   "cell_type": "code",
   "execution_count": null,
   "metadata": {},
   "outputs": [],
   "source": []
  }
 ],
 "metadata": {
  "kernelspec": {
   "display_name": "Python 3",
   "language": "python",
   "name": "python3"
  },
  "language_info": {
   "codemirror_mode": {
    "name": "ipython",
    "version": 3
   },
   "file_extension": ".py",
   "mimetype": "text/x-python",
   "name": "python",
   "nbconvert_exporter": "python",
   "pygments_lexer": "ipython3",
   "version": "3.8.5"
  }
 },
 "nbformat": 4,
 "nbformat_minor": 4
}
