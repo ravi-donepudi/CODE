{
 "cells": [
  {
   "cell_type": "code",
   "execution_count": 64,
   "metadata": {},
   "outputs": [],
   "source": [
    "class Node:\n",
    "    def __init__(self, val=None, left=None, right = None):\n",
    "        self.left = left\n",
    "        self.right = right\n",
    "        self.val = val\n",
    "class BSTNode:\n",
    "    def __init__(self, val=None):\n",
    "        self.left = None\n",
    "        self.right = None\n",
    "        self.val = val\n",
    "\n",
    "class Graph:\n",
    "    def __init__(self, nodes=None):\n",
    "        self.nodes=nodes\n",
    "\n",
    "class GraphNode:\n",
    "    def __init__(self, children = None):\n",
    "        self.children = children\n"
   ]
  },
  {
   "cell_type": "code",
   "execution_count": 35,
   "metadata": {},
   "outputs": [],
   "source": [
    "a=GraphNode()\n",
    "b=GraphNode()"
   ]
  },
  {
   "cell_type": "markdown",
   "metadata": {},
   "source": [
    "# Given a sorted array, make a balanced BST of minimal height"
   ]
  },
  {
   "cell_type": "code",
   "execution_count": 1,
   "metadata": {},
   "outputs": [],
   "source": [
    "def min_BST(sorted_list):\n",
    "    n=len(sorted_list)\n",
    "    if n==0:\n",
    "        return None\n",
    "    if n==1:\n",
    "        return Node(val=sorted_list[0])\n",
    "    if n==2:\n",
    "        return Node(val=sorted_list[1],left=sorted_list[0])\n",
    "    midpoint = sorted_list[int(n/2)]\n",
    "    left_half = sorted_list[0:int(n/2)]\n",
    "    right_half = sorted_list[int(n/2)+1:]    \n",
    "    return Node(val=midpoint,left = min_BST(left_half), right = min_BST(right_half))"
   ]
  },
  {
   "cell_type": "code",
   "execution_count": null,
   "metadata": {},
   "outputs": [],
   "source": []
  }
 ],
 "metadata": {
  "kernelspec": {
   "display_name": "Python 3",
   "language": "python",
   "name": "python3"
  },
  "language_info": {
   "codemirror_mode": {
    "name": "ipython",
    "version": 3
   },
   "file_extension": ".py",
   "mimetype": "text/x-python",
   "name": "python",
   "nbconvert_exporter": "python",
   "pygments_lexer": "ipython3",
   "version": "3.8.5"
  }
 },
 "nbformat": 4,
 "nbformat_minor": 4
}
