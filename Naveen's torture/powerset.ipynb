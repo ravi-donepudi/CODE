{
 "cells": [
  {
   "cell_type": "markdown",
   "metadata": {},
   "source": [
    "### Given a list of distinct elements, return a list of all power_sets in list form, order doesn't matter"
   ]
  },
  {
   "cell_type": "code",
   "execution_count": null,
   "metadata": {},
   "outputs": [],
   "source": [
    "def power_set(lst):\n",
    "    if lst==[]:\n",
    "        return [[]]\n",
    "    else:\n",
    "        a= lst.pop(0)\n",
    "        subsets_without_a = power_set(lst)\n",
    "        subsets_with_a = [[a]+s for s in subsets_without_a]\n",
    "        return subsets_without_a+subsets_with_a\n",
    "    \n",
    "power_set([1,2,3,4,5])"
   ]
  }
 ],
 "metadata": {
  "kernelspec": {
   "display_name": "Python 3",
   "language": "python",
   "name": "python3"
  },
  "language_info": {
   "codemirror_mode": {
    "name": "ipython",
    "version": 3
   },
   "file_extension": ".py",
   "mimetype": "text/x-python",
   "name": "python",
   "nbconvert_exporter": "python",
   "pygments_lexer": "ipython3",
   "version": "3.8.5"
  }
 },
 "nbformat": 4,
 "nbformat_minor": 4
}
