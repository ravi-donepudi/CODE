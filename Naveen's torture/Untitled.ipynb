{
 "cells": [
  {
   "cell_type": "code",
   "execution_count": 64,
   "metadata": {},
   "outputs": [],
   "source": [
    "class Node:\n",
    "    def __init__(self, val=None, left=None, right = None):\n",
    "        self.left = left\n",
    "        self.right = right\n",
    "        self.val = val\n",
    "class BSTNode:\n",
    "    def __init__(self, val=None):\n",
    "        self.left = None\n",
    "        self.right = None\n",
    "        self.val = val\n",
    "\n",
    "class Graph:\n",
    "    def __init__(self, nodes=None):\n",
    "        self.nodes=nodes\n",
    "\n",
    "class GraphNode:\n",
    "    def __init__(self, children = None):\n",
    "        self.children = children\n"
   ]
  },
  {
   "cell_type": "code",
   "execution_count": 35,
   "metadata": {},
   "outputs": [],
   "source": [
    "a=GraphNode()\n",
    "b=GraphNode()"
   ]
  },
  {
   "cell_type": "markdown",
   "metadata": {},
   "source": [
    "# Given a sorted array, make a balanced BST of minimal height"
   ]
  },
  {
   "cell_type": "code",
   "execution_count": 39,
   "metadata": {},
   "outputs": [],
   "source": [
    "def min_BST(sorted_list):\n",
    "    n=len(sorted_list)\n",
    "    if n==0:\n",
    "        return None\n",
    "    if n==1:\n",
    "        return Node(val=sorted_list[0])\n",
    "    if n==2:\n",
    "        return Node(val=sorted_list[1],left=sorted_list[0])\n",
    "    midpoint = sorted_list[int(n/2)]\n",
    "    left_half = sorted_list[0:int(n/2)]\n",
    "    right_half = sorted_list[int(n/2)+1:]    \n",
    "    return Node(val=midpoint, left = min_BST(left_half), right = min_BST(right_half))"
   ]
  },
  {
   "cell_type": "code",
   "execution_count": 100,
   "metadata": {},
   "outputs": [],
   "source": [
    "from collections import defaultdict"
   ]
  },
  {
   "cell_type": "code",
   "execution_count": 73,
   "metadata": {},
   "outputs": [],
   "source": [
    "def default_value():\n",
    "    return 69\n",
    "d=defaultdict(default_value)\n",
    "d[1]=10\n",
    "d[2]=12"
   ]
  },
  {
   "cell_type": "code",
   "execution_count": 74,
   "metadata": {},
   "outputs": [
    {
     "data": {
      "text/plain": [
       "69"
      ]
     },
     "execution_count": 74,
     "metadata": {},
     "output_type": "execute_result"
    }
   ],
   "source": [
    "d[3]"
   ]
  },
  {
   "cell_type": "code",
   "execution_count": 77,
   "metadata": {},
   "outputs": [
    {
     "name": "stdout",
     "output_type": "stream",
     "text": [
      "35\n"
     ]
    }
   ],
   "source": [
    "x = lambda a: a**2 + 10\n",
    "print(x(5))\n",
    "\n"
   ]
  }
 ],
 "metadata": {
  "kernelspec": {
   "display_name": "Python 3",
   "language": "python",
   "name": "python3"
  },
  "language_info": {
   "codemirror_mode": {
    "name": "ipython",
    "version": 3
   },
   "file_extension": ".py",
   "mimetype": "text/x-python",
   "name": "python",
   "nbconvert_exporter": "python",
   "pygments_lexer": "ipython3",
   "version": "3.8.5"
  }
 },
 "nbformat": 4,
 "nbformat_minor": 4
}
