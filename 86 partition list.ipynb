{
 "cells": [
  {
   "cell_type": "code",
   "execution_count": 68,
   "metadata": {},
   "outputs": [],
   "source": [
    "class ListNode:\n",
    "    def __init__(self, val=0, next=None):\n",
    "        self.val = val\n",
    "        self.next = next\n",
    "    def list_to_listnode(self, arr):\n",
    "        start = current = ListNode(0)\n",
    "        for i in arr:\n",
    "            current.next = ListNode(i)\n",
    "            current = current.next\n",
    "        return start.next\n",
    "    \n",
    "    def listnode_to_list(self):\n",
    "        arr=[]\n",
    "        temp = self\n",
    "        while temp!=None:\n",
    "            arr.append(temp.val)\n",
    "            temp=temp.next       \n",
    "        return arr\n",
    "\n",
    "\n",
    "class Solution:\n",
    "    def partition(self, head, x):\n",
    "        smallerhead, biggerhead = ListNode(), ListNode()\n",
    "        smallerc, biggerc = smallerhead, biggerhead\n",
    "        current = head\n",
    "        \n",
    "        while current!=None:\n",
    "            if current.val <x:\n",
    "                smallerc.val = current.val\n",
    "                smallerc.next = current.next\n",
    "            else:\n",
    "                biggerc.val = current.val\n",
    "                biggerc.next = current.next\n",
    "            current = current.next\n",
    "        print('bigger', biggerc.listnode_to_list())\n",
    "\n",
    "        final = self.fusing(smallerhead, ListNode(x))\n",
    "        final = self.fusing(final, biggerhead)\n",
    "        return final\n",
    "    \n",
    "    def fusing(self, nodehead1, nodehead2):\n",
    "        node = nodehead1\n",
    "        while node.next!=None:\n",
    "            node = node.next\n",
    "        node.next = nodehead2\n",
    "        return nodehead1\n",
    "            \n",
    "        \n",
    "\n",
    "#First sort left and right for non empty lists"
   ]
  },
  {
   "cell_type": "code",
   "execution_count": 69,
   "metadata": {},
   "outputs": [
    {
     "data": {
      "text/plain": [
       "[4, 5, 6, 7, 8, 9, 10, 11]"
      ]
     },
     "execution_count": 69,
     "metadata": {},
     "output_type": "execute_result"
    }
   ],
   "source": [
    "sol = Solution()\n",
    "d= ListNode(7)\n",
    "c= ListNode(6,d)\n",
    "b= ListNode(5,c)\n",
    "a= ListNode(4,b)\n",
    "\n",
    "z = ListNode(11)\n",
    "y = ListNode(10,z)\n",
    "x = ListNode(9,y)\n",
    "w = ListNode(8,x)\n",
    "final=sol.fusing(a,w)\n",
    "final.listnode_to_list()\n"
   ]
  },
  {
   "cell_type": "code",
   "execution_count": 70,
   "metadata": {},
   "outputs": [
    {
     "data": {
      "text/plain": [
       "[4, 5, 6, 7, 8, 9, 10, 11]"
      ]
     },
     "execution_count": 70,
     "metadata": {},
     "output_type": "execute_result"
    }
   ],
   "source": [
    "lst =[4, 5, 6, 7, 8, 9, 10, 11]\n",
    "test = ListNode().list_to_listnode(lst)\n",
    "test.listnode_to_list()"
   ]
  },
  {
   "cell_type": "code",
   "execution_count": 73,
   "metadata": {},
   "outputs": [
    {
     "data": {
      "text/plain": [
       "[3, 7, 8, 3]"
      ]
     },
     "execution_count": 73,
     "metadata": {},
     "output_type": "execute_result"
    }
   ],
   "source": [
    "lst = [2,5,9,4,7,8,3]\n",
    "test = ListNode().list_to_listnode(lst)\n",
    "sol.partition(test, 7).listnode_to_list()"
   ]
  },
  {
   "cell_type": "code",
   "execution_count": 72,
   "metadata": {},
   "outputs": [
    {
     "data": {
      "text/plain": [
       "<__main__.ListNode at 0x7fd7da4992e0>"
      ]
     },
     "execution_count": 72,
     "metadata": {},
     "output_type": "execute_result"
    }
   ],
   "source": []
  },
  {
   "cell_type": "code",
   "execution_count": null,
   "metadata": {},
   "outputs": [],
   "source": []
  }
 ],
 "metadata": {
  "kernelspec": {
   "display_name": "Python 3",
   "language": "python",
   "name": "python3"
  },
  "language_info": {
   "codemirror_mode": {
    "name": "ipython",
    "version": 3
   },
   "file_extension": ".py",
   "mimetype": "text/x-python",
   "name": "python",
   "nbconvert_exporter": "python",
   "pygments_lexer": "ipython3",
   "version": "3.8.5"
  }
 },
 "nbformat": 4,
 "nbformat_minor": 4
}
