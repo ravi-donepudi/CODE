{
 "cells": [
  {
   "cell_type": "markdown",
   "metadata": {},
   "source": [
    "#### "
   ]
  },
  {
   "cell_type": "code",
   "execution_count": 17,
   "metadata": {},
   "outputs": [
    {
     "data": {
      "text/plain": [
       "[2.0, 3.0, 4.0, 5.0]"
      ]
     },
     "execution_count": 17,
     "metadata": {},
     "output_type": "execute_result"
    }
   ],
   "source": [
    "def avg_of_k_size_subarrays(arr,k):\n",
    "    if k<=0:\n",
    "        return \"can't divide by 0\"        \n",
    "    if len(arr)<k:\n",
    "        return \"array too small\"\n",
    "    results = []\n",
    "    start, _sum = 0,0.0\n",
    "    for end in range(len(arr)):\n",
    "        _sum+=arr[end]\n",
    "        if end>=k-1:\n",
    "            results.append(_sum/k)\n",
    "            _sum-= arr[start]\n",
    "            start+=1\n",
    "    return results\n",
    "avg_of_k_size_subarrays([1,2,3,4,5,6],3)"
   ]
  },
  {
   "cell_type": "code",
   "execution_count": 18,
   "metadata": {},
   "outputs": [
    {
     "data": {
      "text/plain": [
       "15"
      ]
     },
     "execution_count": 18,
     "metadata": {},
     "output_type": "execute_result"
    }
   ],
   "source": [
    "import math\n",
    "def max_size_subarray_of_size_k(arr,k):\n",
    "    if len(arr)<k:\n",
    "        return 'array too small'\n",
    "    max_sum=-math.inf\n",
    "    start, _sum = 0, 0\n",
    "    for end in range(len(arr)):\n",
    "        _sum+=arr[end]\n",
    "        if end>=k-1:\n",
    "            max_sum = max(max_sum,_sum)\n",
    "            _sum-=arr[start]\n",
    "            start+=1\n",
    "    return max_sum\n",
    "max_size_subarray_of_size_k([1,2,3,4,5,6],3)    "
   ]
  },
  {
   "cell_type": "code",
   "execution_count": 35,
   "metadata": {},
   "outputs": [
    {
     "data": {
      "text/plain": [
       "8"
      ]
     },
     "execution_count": 35,
     "metadata": {},
     "output_type": "execute_result"
    }
   ],
   "source": [
    "def smallest_subarray_with_sum_greater_than_equal_to_given_target(arr,target):\n",
    "#Idea is to keep growing the size of the sliding array at both ends and when it exceeds the size of target, move forward\n",
    "    if target<=0:\n",
    "        return -1\n",
    "    smallest_length, start, _sum = math.inf, 0,0\n",
    "    for end in range(len(arr)):\n",
    "        _sum+=arr[end]\n",
    "        while _sum>=target:\n",
    "            smallest_length = min(smallest_length,end-start+1)\n",
    "            _sum-=arr[start]\n",
    "            start+=1\n",
    "            \n",
    "    if smallest_length<math.inf:\n",
    "        return smallest_length\n",
    "    return 0\n",
    "\n",
    "smallest_subarray_with_sum_greater_than_equal_to_given_target([1,2,3,4,5,6,7,8],36)\n"
   ]
  },
  {
   "cell_type": "code",
   "execution_count": 67,
   "metadata": {},
   "outputs": [
    {
     "data": {
      "text/plain": [
       "9"
      ]
     },
     "execution_count": 67,
     "metadata": {},
     "output_type": "execute_result"
    }
   ],
   "source": [
    "def longest_substring_with_atmost_k_distinct_characters(s, k):\n",
    "    longest, start, freq_table = -math.inf, 0, dict()\n",
    "    for end in range(len(s)):\n",
    "        if s[end] not in freq_table:\n",
    "            freq_table[s[end]]=0\n",
    "        freq_table[s[end]]+=1    \n",
    "        while len(freq_table)>k:        \n",
    "            freq_table[s[start]]-=1\n",
    "            if freq_table[s[start]]==0:\n",
    "                del freq_table[s[start]]\n",
    "            start+=1\n",
    "        longest = max(end-start+1,longest)\n",
    "    return longest\n",
    "            \n",
    "longest_substring_with_atmost_k_distinct_characters('abcdefggggf',5)\n",
    "    \n",
    "    "
   ]
  },
  {
   "cell_type": "code",
   "execution_count": 68,
   "metadata": {},
   "outputs": [],
   "source": [
    "def fruits_into_baskets(arr):\n",
    "    return longest_substring_with_atmost_k_distinct_characters(arr, 2)"
   ]
  },
  {
   "cell_type": "code",
   "execution_count": 83,
   "metadata": {},
   "outputs": [
    {
     "data": {
      "text/plain": [
       "2"
      ]
     },
     "execution_count": 83,
     "metadata": {},
     "output_type": "execute_result"
    }
   ],
   "source": [
    "def longest_substring_with_no_repeated_characters(s):\n",
    "    longest, start, last_occurrance = -math.inf, 0, dict()\n",
    "    for end in range(len(s)):\n",
    "        right_char = s[end]\n",
    "        if right_char not in last_occurrance:\n",
    "            last_occurrance[right_char]=end\n",
    "            longest = max(longest, end-start+1)\n",
    "        else:\n",
    "            start=max(start,last_occurrance[right_char]+1)\n",
    "    return longest\n",
    "longest_substring_with_no_repeated_characters('aff')"
   ]
  },
  {
   "cell_type": "code",
   "execution_count": null,
   "metadata": {},
   "outputs": [],
   "source": [
    "def longest_substring_with_same_letters_after_replacing_k_chars(s,k):\n",
    "# We will keep track of how many types of characters are in our window and the character with the highest frequency.\n",
    "#We want to keep expanding the window till len(window)freq[most_common_char_in_window]>k at which point start will start to move forward\n",
    "    start, freq_table, _maxCharCount\n",
    "    for end in range(len(s)):\n",
    "        right_char = s[end]\n",
    "        if right_char not in freq_table:\n",
    "            freq_table[right_char] =0\n",
    "        freq_table[right_char]+=1\n",
    "        \n",
    "        \n",
    "        if "
   ]
  }
 ],
 "metadata": {
  "kernelspec": {
   "display_name": "Python 3",
   "language": "python",
   "name": "python3"
  },
  "language_info": {
   "codemirror_mode": {
    "name": "ipython",
    "version": 3
   },
   "file_extension": ".py",
   "mimetype": "text/x-python",
   "name": "python",
   "nbconvert_exporter": "python",
   "pygments_lexer": "ipython3",
   "version": "3.8.5"
  }
 },
 "nbformat": 4,
 "nbformat_minor": 4
}
