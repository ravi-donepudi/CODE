{
 "cells": [
  {
   "cell_type": "code",
   "execution_count": 31,
   "metadata": {},
   "outputs": [],
   "source": [
    "import numpy as np\n",
    "import pandas as pd\n",
    "import seaborn as sns\n",
    "import matplotlib.pyplot as plt"
   ]
  },
  {
   "cell_type": "code",
   "execution_count": 38,
   "metadata": {},
   "outputs": [
    {
     "name": "stdout",
     "output_type": "stream",
     "text": [
      "(2043, 5)\n"
     ]
    },
    {
     "data": {
      "text/html": [
       "<div>\n",
       "<style scoped>\n",
       "    .dataframe tbody tr th:only-of-type {\n",
       "        vertical-align: middle;\n",
       "    }\n",
       "\n",
       "    .dataframe tbody tr th {\n",
       "        vertical-align: top;\n",
       "    }\n",
       "\n",
       "    .dataframe thead th {\n",
       "        text-align: right;\n",
       "    }\n",
       "</style>\n",
       "<table border=\"1\" class=\"dataframe\">\n",
       "  <thead>\n",
       "    <tr style=\"text-align: right;\">\n",
       "      <th></th>\n",
       "      <th>Timestamp</th>\n",
       "      <th>Date and Time</th>\n",
       "      <th>MAX</th>\n",
       "      <th>MIN</th>\n",
       "      <th>GUESS</th>\n",
       "    </tr>\n",
       "  </thead>\n",
       "  <tbody>\n",
       "    <tr>\n",
       "      <th>0</th>\n",
       "      <td>1444435200</td>\n",
       "      <td>2015-10-10T00:00:00</td>\n",
       "      <td>3.48537</td>\n",
       "      <td>1.04730</td>\n",
       "      <td>2.15567</td>\n",
       "    </tr>\n",
       "    <tr>\n",
       "      <th>1</th>\n",
       "      <td>1444521600</td>\n",
       "      <td>2015-10-11T00:00:00</td>\n",
       "      <td>3.48190</td>\n",
       "      <td>1.04626</td>\n",
       "      <td>2.15352</td>\n",
       "    </tr>\n",
       "    <tr>\n",
       "      <th>2</th>\n",
       "      <td>1444608000</td>\n",
       "      <td>2015-10-12T00:00:00</td>\n",
       "      <td>3.45407</td>\n",
       "      <td>1.03789</td>\n",
       "      <td>2.13631</td>\n",
       "    </tr>\n",
       "    <tr>\n",
       "      <th>3</th>\n",
       "      <td>1444694400</td>\n",
       "      <td>2015-10-13T00:00:00</td>\n",
       "      <td>3.40189</td>\n",
       "      <td>1.02222</td>\n",
       "      <td>2.10404</td>\n",
       "    </tr>\n",
       "    <tr>\n",
       "      <th>4</th>\n",
       "      <td>1444780800</td>\n",
       "      <td>2015-10-14T00:00:00</td>\n",
       "      <td>3.46103</td>\n",
       "      <td>1.03998</td>\n",
       "      <td>2.14061</td>\n",
       "    </tr>\n",
       "  </tbody>\n",
       "</table>\n",
       "</div>"
      ],
      "text/plain": [
       "    Timestamp        Date and Time      MAX      MIN    GUESS\n",
       "0  1444435200  2015-10-10T00:00:00  3.48537  1.04730  2.15567\n",
       "1  1444521600  2015-10-11T00:00:00  3.48190  1.04626  2.15352\n",
       "2  1444608000  2015-10-12T00:00:00  3.45407  1.03789  2.13631\n",
       "3  1444694400  2015-10-13T00:00:00  3.40189  1.02222  2.10404\n",
       "4  1444780800  2015-10-14T00:00:00  3.46103  1.03998  2.14061"
      ]
     },
     "execution_count": 38,
     "metadata": {},
     "output_type": "execute_result"
    }
   ],
   "source": [
    "data = pd.read_csv('/Users/donepudi/Desktop/GitHub/CODE/data/export.csv', delimiter=',')\n",
    "print(data.shape)\n",
    "data.head()"
   ]
  },
  {
   "cell_type": "code",
   "execution_count": 39,
   "metadata": {},
   "outputs": [
    {
     "data": {
      "text/html": [
       "<div>\n",
       "<style scoped>\n",
       "    .dataframe tbody tr th:only-of-type {\n",
       "        vertical-align: middle;\n",
       "    }\n",
       "\n",
       "    .dataframe tbody tr th {\n",
       "        vertical-align: top;\n",
       "    }\n",
       "\n",
       "    .dataframe thead th {\n",
       "        text-align: right;\n",
       "    }\n",
       "</style>\n",
       "<table border=\"1\" class=\"dataframe\">\n",
       "  <thead>\n",
       "    <tr style=\"text-align: right;\">\n",
       "      <th></th>\n",
       "      <th>Timestamp</th>\n",
       "      <th>Date and Time</th>\n",
       "      <th>MAX</th>\n",
       "      <th>MIN</th>\n",
       "      <th>GUESS</th>\n",
       "    </tr>\n",
       "  </thead>\n",
       "  <tbody>\n",
       "    <tr>\n",
       "      <th>0</th>\n",
       "      <td>1444435200</td>\n",
       "      <td>2015-10-10</td>\n",
       "      <td>3.48537</td>\n",
       "      <td>1.04730</td>\n",
       "      <td>2.15567</td>\n",
       "    </tr>\n",
       "    <tr>\n",
       "      <th>1</th>\n",
       "      <td>1444521600</td>\n",
       "      <td>2015-10-11</td>\n",
       "      <td>3.48190</td>\n",
       "      <td>1.04626</td>\n",
       "      <td>2.15352</td>\n",
       "    </tr>\n",
       "    <tr>\n",
       "      <th>2</th>\n",
       "      <td>1444608000</td>\n",
       "      <td>2015-10-12</td>\n",
       "      <td>3.45407</td>\n",
       "      <td>1.03789</td>\n",
       "      <td>2.13631</td>\n",
       "    </tr>\n",
       "    <tr>\n",
       "      <th>3</th>\n",
       "      <td>1444694400</td>\n",
       "      <td>2015-10-13</td>\n",
       "      <td>3.40189</td>\n",
       "      <td>1.02222</td>\n",
       "      <td>2.10404</td>\n",
       "    </tr>\n",
       "    <tr>\n",
       "      <th>4</th>\n",
       "      <td>1444780800</td>\n",
       "      <td>2015-10-14</td>\n",
       "      <td>3.46103</td>\n",
       "      <td>1.03998</td>\n",
       "      <td>2.14061</td>\n",
       "    </tr>\n",
       "  </tbody>\n",
       "</table>\n",
       "</div>"
      ],
      "text/plain": [
       "    Timestamp Date and Time      MAX      MIN    GUESS\n",
       "0  1444435200    2015-10-10  3.48537  1.04730  2.15567\n",
       "1  1444521600    2015-10-11  3.48190  1.04626  2.15352\n",
       "2  1444608000    2015-10-12  3.45407  1.03789  2.13631\n",
       "3  1444694400    2015-10-13  3.40189  1.02222  2.10404\n",
       "4  1444780800    2015-10-14  3.46103  1.03998  2.14061"
      ]
     },
     "execution_count": 39,
     "metadata": {},
     "output_type": "execute_result"
    }
   ],
   "source": [
    "data['Date and Time']=pd.to_datetime(data['Date and Time'])\n",
    "data.head()"
   ]
  },
  {
   "cell_type": "code",
   "execution_count": 33,
   "metadata": {},
   "outputs": [
    {
     "data": {
      "text/plain": [
       "(array([16436., 16801., 17167., 17532., 17897., 18262., 18628.]),\n",
       " [Text(0, 0, ''),\n",
       "  Text(0, 0, ''),\n",
       "  Text(0, 0, ''),\n",
       "  Text(0, 0, ''),\n",
       "  Text(0, 0, ''),\n",
       "  Text(0, 0, ''),\n",
       "  Text(0, 0, '')])"
      ]
     },
     "execution_count": 33,
     "metadata": {},
     "output_type": "execute_result"
    },
    {
     "data": {
      "image/png": "[encoded data removed]",
      "text/plain": [
       "<Figure size 432x288 with 1 Axes>"
      ]
     },
     "metadata": {
      "needs_background": "light"
     },
     "output_type": "display_data"
    }
   ],
   "source": [
    "sns.lineplot(x='Date and Time', y='MAX', data=data)\n",
    "sns.lineplot(x='Date and Time', y='MIN', data=data)\n",
    "sns.lineplot(x='Date and Time', y='GUESS', data=data)\n",
    "\n",
    "plt.xticks(rotation = 25)"
   ]
  },
  {
   "cell_type": "code",
   "execution_count": 45,
   "metadata": {},
   "outputs": [
    {
     "data": {
      "text/plain": [
       "<AxesSubplot:xlabel='snapped_at', ylabel='price'>"
      ]
     },
     "execution_count": 45,
     "metadata": {},
     "output_type": "execute_result"
    },
    {
     "data": {
      "image/png": "[encoded data removed]",
      "text/plain": [
       "<Figure size 432x288 with 1 Axes>"
      ]
     },
     "metadata": {
      "needs_background": "light"
     },
     "output_type": "display_data"
    }
   ],
   "source": [
    "data2 =pd.read_csv('/Users/donepudi/Desktop/GitHub/CODE/data/doge-usd-max.csv')\n",
    "data2.head()\n",
    "\n",
    "sns.lineplot(x='snapped_at', y='price', data=data2)"
   ]
  },
  {
   "cell_type": "code",
   "execution_count": 48,
   "metadata": {},
   "outputs": [
    {
     "data": {
      "text/html": [
       "<div>\n",
       "<style scoped>\n",
       "    .dataframe tbody tr th:only-of-type {\n",
       "        vertical-align: middle;\n",
       "    }\n",
       "\n",
       "    .dataframe tbody tr th {\n",
       "        vertical-align: top;\n",
       "    }\n",
       "\n",
       "    .dataframe thead th {\n",
       "        text-align: right;\n",
       "    }\n",
       "</style>\n",
       "<table border=\"1\" class=\"dataframe\">\n",
       "  <thead>\n",
       "    <tr style=\"text-align: right;\">\n",
       "      <th></th>\n",
       "      <th>snapped_at</th>\n",
       "      <th>price</th>\n",
       "      <th>market_cap</th>\n",
       "      <th>total_volume</th>\n",
       "    </tr>\n",
       "  </thead>\n",
       "  <tbody>\n",
       "    <tr>\n",
       "      <th>0</th>\n",
       "      <td>2013-12-15 00:00:00 UTC</td>\n",
       "      <td>0.000559</td>\n",
       "      <td>3488670.0</td>\n",
       "      <td>0.0</td>\n",
       "    </tr>\n",
       "    <tr>\n",
       "      <th>1</th>\n",
       "      <td>2013-12-17 00:00:00 UTC</td>\n",
       "      <td>0.000218</td>\n",
       "      <td>1619159.0</td>\n",
       "      <td>0.0</td>\n",
       "    </tr>\n",
       "    <tr>\n",
       "      <th>2</th>\n",
       "      <td>2013-12-18 00:00:00 UTC</td>\n",
       "      <td>0.000268</td>\n",
       "      <td>2191987.0</td>\n",
       "      <td>0.0</td>\n",
       "    </tr>\n",
       "    <tr>\n",
       "      <th>3</th>\n",
       "      <td>2013-12-19 00:00:00 UTC</td>\n",
       "      <td>0.000475</td>\n",
       "      <td>4299422.0</td>\n",
       "      <td>0.0</td>\n",
       "    </tr>\n",
       "    <tr>\n",
       "      <th>4</th>\n",
       "      <td>2013-12-20 00:00:00 UTC</td>\n",
       "      <td>0.000989</td>\n",
       "      <td>9866232.0</td>\n",
       "      <td>0.0</td>\n",
       "    </tr>\n",
       "  </tbody>\n",
       "</table>\n",
       "</div>"
      ],
      "text/plain": [
       "                snapped_at     price  market_cap  total_volume\n",
       "0  2013-12-15 00:00:00 UTC  0.000559   3488670.0           0.0\n",
       "1  2013-12-17 00:00:00 UTC  0.000218   1619159.0           0.0\n",
       "2  2013-12-18 00:00:00 UTC  0.000268   2191987.0           0.0\n",
       "3  2013-12-19 00:00:00 UTC  0.000475   4299422.0           0.0\n",
       "4  2013-12-20 00:00:00 UTC  0.000989   9866232.0           0.0"
      ]
     },
     "execution_count": 48,
     "metadata": {},
     "output_type": "execute_result"
    }
   ],
   "source": [
    "data2.head()"
   ]
  },
  {
   "cell_type": "code",
   "execution_count": null,
   "metadata": {},
   "outputs": [],
   "source": []
  }
 ],
 "metadata": {
  "kernelspec": {
   "display_name": "Python 3",
   "language": "python",
   "name": "python3"
  },
  "language_info": {
   "codemirror_mode": {
    "name": "ipython",
    "version": 3
   },
   "file_extension": ".py",
   "mimetype": "text/x-python",
   "name": "python",
   "nbconvert_exporter": "python",
   "pygments_lexer": "ipython3",
   "version": "3.8.5"
  }
 },
 "nbformat": 4,
 "nbformat_minor": 4
}
